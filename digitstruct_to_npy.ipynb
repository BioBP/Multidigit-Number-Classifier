{
 "cells": [
  {
   "cell_type": "code",
   "execution_count": 1,
   "metadata": {},
   "outputs": [
    {
     "name": "stderr",
     "output_type": "stream",
     "text": [
      "Using TensorFlow backend.\n"
     ]
    }
   ],
   "source": [
    "import h5py\n",
    "import numpy as np\n",
    "from keras.utils.np_utils import to_categorical\n"
   ]
  },
  {
   "cell_type": "code",
   "execution_count": 9,
   "metadata": {},
   "outputs": [
    {
     "data": {
      "text/plain": [
       "33402"
      ]
     },
     "execution_count": 9,
     "metadata": {},
     "output_type": "execute_result"
    }
   ],
   "source": [
    "#process digitStruct.mat according to see_bboxes.m provided in the dataset\n",
    "\n",
    "path = 'train/train/digitStruct.mat'\n",
    "file = h5py.File(path, 'r')\n",
    "#list(file.keys())\n",
    "#list(file['digitStruct'].keys())\n",
    "size = len(file['digitStruct']['bbox']) \n",
    "size"
   ]
  },
  {
   "cell_type": "code",
   "execution_count": 10,
   "metadata": {},
   "outputs": [
    {
     "data": {
      "text/plain": [
       "[5.0]"
      ]
     },
     "execution_count": 10,
     "metadata": {},
     "output_type": "execute_result"
    }
   ],
   "source": [
    "#tool to navigate the digitStruct file\n",
    "#idx 1 two digits\n",
    "#idx 34 one digit\n",
    "idx = 34\n",
    "item = file['digitStruct']['bbox'][idx].item()  \n",
    "#list(file[item].keys())\n",
    "#['height', 'label', 'left', 'top', 'width']\n",
    "attr = 'top'\n",
    "num = len(file[item][attr])\n",
    "value = []\n",
    "#file[file[item]['height'].value[0].item()].value\n",
    "if num == 1:\n",
    "    loc = file[item][attr]\n",
    "    value.append(loc.value[0][0])\n",
    "else:\n",
    "    for i in range(num):\n",
    "        loc = file[item][attr].value[i].item()\n",
    "        value.append(file[loc].value[0][0])\n",
    "value"
   ]
  },
  {
   "cell_type": "code",
   "execution_count": 11,
   "metadata": {
    "collapsed": true
   },
   "outputs": [],
   "source": [
    "height = []\n",
    "width = []\n",
    "left = []\n",
    "top = []\n",
    "label = []\n",
    "imgsrc = []\n",
    "attrs = ['height', 'label', 'left', 'top', 'width']\n",
    "dataArrays = [height, label, left, top, width]\n",
    "numDigits = np.zeros(size, dtype = int)\n",
    "\n",
    "for idx in range(size):\n",
    "    item = file['digitStruct']['bbox'][idx].item()\n",
    "    #just read num of digits in 1 image, attr not important here\n",
    "    attr = 'top'\n",
    "    num = len(file[item][attr])\n",
    "    numDigits[idx] = num\n",
    "    \n",
    "    for i in range(num):\n",
    "        imgsrc.append(idx+1)\n",
    "        \n",
    "    for attrIdx in range(5):\n",
    "        attr = attrs[attrIdx]\n",
    "        dataArray = dataArrays[attrIdx]\n",
    "        \n",
    "        if num == 1:\n",
    "            loc = file[item][attr]\n",
    "            dataArray.append(loc.value[0][0])\n",
    "        else:\n",
    "            value\n",
    "            for i in range(num):\n",
    "                loc = file[item][attr].value[i].item()\n",
    "                dataArray.append(file[loc].value[0][0])\n",
    "        #..\n"
   ]
  },
  {
   "cell_type": "code",
   "execution_count": 12,
   "metadata": {
    "collapsed": true
   },
   "outputs": [],
   "source": [
    "#save as npy\n",
    "data = np.zeros((5,len(height)))\n",
    "data[0] = np.array(height)\n",
    "data[1] = np.array(width)\n",
    "data[2] = np.array(left)\n",
    "data[3] = np.array(top)\n",
    "data[4] = np.array(imgsrc)\n",
    "np.save('bbox_data.npy', data)\n"
   ]
  },
  {
   "cell_type": "code",
   "execution_count": 13,
   "metadata": {},
   "outputs": [
    {
     "data": {
      "text/plain": [
       "array([[ 1,  9, 10, 10, 10, 10],\n",
       "       [ 2,  3, 10, 10, 10, 10],\n",
       "       [ 2,  5, 10, 10, 10, 10],\n",
       "       ..., \n",
       "       [ 9,  5, 10, 10, 10, 10],\n",
       "       [ 2,  2, 10, 10, 10, 10],\n",
       "       [ 1,  6,  9, 10, 10, 10]])"
      ]
     },
     "execution_count": 13,
     "metadata": {},
     "output_type": "execute_result"
    }
   ],
   "source": [
    "#convert label format to model output and save them separately\n",
    "\n",
    "#first make 2d array for labels, each has at most 5 digits (digit 10 means invalid)\n",
    "labelArray = np.zeros((size, int(np.max(numDigits))), dtype=int) + 10\n",
    "digitIdx = 0\n",
    "for i in range(1,size+1):\n",
    "    count = 0\n",
    "    while (digitIdx < len(label)) and (int(imgsrc[digitIdx]) == i):\n",
    "        labelArray[i-1,count] = label[digitIdx]\n",
    "        digitIdx += 1\n",
    "        count += 1\n",
    "labelArray"
   ]
  },
  {
   "cell_type": "code",
   "execution_count": 14,
   "metadata": {},
   "outputs": [
    {
     "data": {
      "text/plain": [
       "array([[0, 0, 1, ..., 0, 0, 1],\n",
       "       [0, 0, 1, ..., 0, 0, 1],\n",
       "       [0, 0, 1, ..., 0, 0, 1],\n",
       "       ..., \n",
       "       [0, 0, 1, ..., 0, 0, 1],\n",
       "       [0, 0, 1, ..., 0, 0, 1],\n",
       "       [0, 0, 0, ..., 0, 0, 1]])"
      ]
     },
     "execution_count": 14,
     "metadata": {},
     "output_type": "execute_result"
    }
   ],
   "source": [
    "#represent no digit as 10 (categorical), possible value of digit(11)\n",
    "#0-5 and more than 5, possible value of length(7) 7+11*5\n",
    "values = np.zeros((size, 7+11*5), dtype=int)\n",
    "values[:,:7] = to_categorical(np.minimum(numDigits,6), 7)\n",
    "values[:,7:18] = to_categorical(labelArray[:,0], 11)\n",
    "values[:,18:29] = to_categorical(labelArray[:,1], 11)\n",
    "values[:,29:40] = to_categorical(labelArray[:,2], 11)\n",
    "values[:,40:51] = to_categorical(labelArray[:,3], 11)\n",
    "values[:,51:62] = to_categorical(labelArray[:,4], 11)\n",
    "    \n",
    "\n",
    "np.save('labels.npy', values)\n",
    "values"
   ]
  },
  {
   "cell_type": "code",
   "execution_count": null,
   "metadata": {
    "collapsed": true
   },
   "outputs": [],
   "source": []
  },
  {
   "cell_type": "code",
   "execution_count": 4,
   "metadata": {
    "collapsed": true
   },
   "outputs": [],
   "source": [
    "testpath = 'test/test/digitStruct.mat'\n",
    "file = h5py.File(testpath, 'r')\n",
    "size = len(file['digitStruct']['bbox']) "
   ]
  },
  {
   "cell_type": "code",
   "execution_count": 5,
   "metadata": {},
   "outputs": [
    {
     "data": {
      "text/plain": [
       "[13.0, 13.0]"
      ]
     },
     "execution_count": 5,
     "metadata": {},
     "output_type": "execute_result"
    }
   ],
   "source": [
    "#tool to navigate the digitStruct file\n",
    "idx = 34\n",
    "item = file['digitStruct']['bbox'][idx].item()  \n",
    "#list(file[item].keys())\n",
    "#['height', 'label', 'left', 'top', 'width']\n",
    "attr = 'top'\n",
    "num = len(file[item][attr])\n",
    "value = []\n",
    "#file[file[item]['height'].value[0].item()].value\n",
    "if num == 1:\n",
    "    loc = file[item][attr]\n",
    "    value.append(loc.value[0][0])\n",
    "else:\n",
    "    for i in range(num):\n",
    "        loc = file[item][attr].value[i].item()\n",
    "        value.append(file[loc].value[0][0])\n",
    "value"
   ]
  },
  {
   "cell_type": "code",
   "execution_count": 6,
   "metadata": {
    "collapsed": true
   },
   "outputs": [],
   "source": [
    "height = []\n",
    "width = []\n",
    "left = []\n",
    "top = []\n",
    "label = []\n",
    "imgsrc = []\n",
    "attrs = ['height', 'label', 'left', 'top', 'width']\n",
    "dataArrays = [height, label, left, top, width]\n",
    "numDigits = np.zeros(size, dtype = int)\n",
    "\n",
    "for idx in range(size):\n",
    "    item = file['digitStruct']['bbox'][idx].item()\n",
    "    #just read num of digits in 1 image, attr not important here\n",
    "    attr = 'top'\n",
    "    num = len(file[item][attr])\n",
    "    numDigits[idx] = num\n",
    "    \n",
    "    for i in range(num):\n",
    "        imgsrc.append(idx+1)\n",
    "        \n",
    "    for attrIdx in range(5):\n",
    "        attr = attrs[attrIdx]\n",
    "        dataArray = dataArrays[attrIdx]\n",
    "        \n",
    "        if num == 1:\n",
    "            loc = file[item][attr]\n",
    "            dataArray.append(loc.value[0][0])\n",
    "        else:\n",
    "            value\n",
    "            for i in range(num):\n",
    "                loc = file[item][attr].value[i].item()\n",
    "                dataArray.append(file[loc].value[0][0])\n",
    "        #..\n"
   ]
  },
  {
   "cell_type": "code",
   "execution_count": 7,
   "metadata": {
    "collapsed": true
   },
   "outputs": [],
   "source": [
    "#save as npy\n",
    "data = np.zeros((5,len(height)))\n",
    "data[0] = np.array(height)\n",
    "data[1] = np.array(width)\n",
    "data[2] = np.array(left)\n",
    "data[3] = np.array(top)\n",
    "data[4] = np.array(imgsrc)\n",
    "np.save('test_bbox_data.npy', data)\n"
   ]
  },
  {
   "cell_type": "code",
   "execution_count": 8,
   "metadata": {},
   "outputs": [
    {
     "data": {
      "text/plain": [
       "array([[ 5, 10, 10, 10, 10],\n",
       "       [ 2,  1, 10, 10, 10],\n",
       "       [ 6, 10, 10, 10, 10],\n",
       "       ..., \n",
       "       [ 1,  3,  6, 10, 10],\n",
       "       [ 2,  2,  7, 10, 10],\n",
       "       [ 6,  7, 10, 10, 10]])"
      ]
     },
     "execution_count": 8,
     "metadata": {},
     "output_type": "execute_result"
    }
   ],
   "source": [
    "#convert label format to model output and save them separately\n",
    "\n",
    "#first make 2d array for labels, each has at most 5 digits (digit 10 means invalid)\n",
    "labelArray = np.zeros((size, int(np.max(numDigits))), dtype=int) + 10\n",
    "digitIdx = 0\n",
    "for i in range(1,size+1):\n",
    "    count = 0\n",
    "    while (digitIdx < len(label)) and (int(imgsrc[digitIdx]) == i):\n",
    "        labelArray[i-1,count] = label[digitIdx]\n",
    "        digitIdx += 1\n",
    "        count += 1\n",
    "labelArray"
   ]
  },
  {
   "cell_type": "code",
   "execution_count": 9,
   "metadata": {},
   "outputs": [
    {
     "data": {
      "text/plain": [
       "array([[0, 1, 0, ..., 0, 0, 1],\n",
       "       [0, 0, 0, ..., 0, 0, 1],\n",
       "       [0, 1, 0, ..., 0, 0, 1],\n",
       "       ..., \n",
       "       [0, 0, 0, ..., 0, 0, 1],\n",
       "       [0, 0, 0, ..., 0, 0, 1],\n",
       "       [0, 0, 1, ..., 0, 0, 1]])"
      ]
     },
     "execution_count": 9,
     "metadata": {},
     "output_type": "execute_result"
    }
   ],
   "source": [
    "#represent no digit as 10 (categorical), possible value of digit(11)\n",
    "#0-5 and more than 5, possible value of length(7) 7+11*5\n",
    "values = np.zeros((size, 7+11*5), dtype=int)\n",
    "values[:,:7] = to_categorical(np.minimum(numDigits,6), 7)\n",
    "values[:,7:18] = to_categorical(labelArray[:,0], 11)\n",
    "values[:,18:29] = to_categorical(labelArray[:,1], 11)\n",
    "values[:,29:40] = to_categorical(labelArray[:,2], 11)\n",
    "values[:,40:51] = to_categorical(labelArray[:,3], 11)\n",
    "values[:,51:62] = to_categorical(labelArray[:,4], 11)\n",
    "    \n",
    "\n",
    "np.save('test_labels.npy', values)\n",
    "values"
   ]
  },
  {
   "cell_type": "code",
   "execution_count": null,
   "metadata": {
    "collapsed": true
   },
   "outputs": [],
   "source": []
  }
 ],
 "metadata": {
  "kernelspec": {
   "display_name": "Python [default]",
   "language": "python",
   "name": "python3"
  },
  "language_info": {
   "codemirror_mode": {
    "name": "ipython",
    "version": 3
   },
   "file_extension": ".py",
   "mimetype": "text/x-python",
   "name": "python",
   "nbconvert_exporter": "python",
   "pygments_lexer": "ipython3",
   "version": "3.5.4"
  }
 },
 "nbformat": 4,
 "nbformat_minor": 2
}

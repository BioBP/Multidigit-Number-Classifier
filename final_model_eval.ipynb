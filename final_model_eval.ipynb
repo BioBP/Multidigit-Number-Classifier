{
 "cells": [
  {
   "cell_type": "code",
   "execution_count": 1,
   "metadata": {},
   "outputs": [
    {
     "name": "stderr",
     "output_type": "stream",
     "text": [
      "Using TensorFlow backend.\n"
     ]
    }
   ],
   "source": [
    "import numpy as np\n",
    "from keras.models import Sequential, Model\n",
    "from keras.layers import Dense, Activation, Conv2D, MaxPooling2D, Dropout, Flatten, Input\n",
    "from keras.optimizers import RMSprop\n",
    "from keras.utils.np_utils import to_categorical\n",
    "from PIL import Image\n",
    "from sklearn.model_selection import ShuffleSplit\n",
    "from sklearn.metrics import accuracy_score\n",
    "from keras import backend as K\n",
    "import matplotlib.pyplot as plt"
   ]
  },
  {
   "cell_type": "code",
   "execution_count": 2,
   "metadata": {
    "collapsed": true
   },
   "outputs": [],
   "source": [
    "weights = np.load('final_model_weight.npy')\n"
   ]
  },
  {
   "cell_type": "code",
   "execution_count": 3,
   "metadata": {
    "collapsed": true
   },
   "outputs": [],
   "source": [
    "#setup model\n",
    "a = Input(shape=(54, 54, 3))\n",
    "#conv layer\n",
    "c1 = Conv2D(64, 7,7, activation='tanh', border_mode='same')(a)\n",
    "c1p = MaxPooling2D(pool_size=(2, 2)) (c1)\n",
    "c1d = Dropout(0.1)(c1p)\n",
    "\n",
    "c2 = Conv2D(128, 7,7, activation='tanh', border_mode='same')(c1d)\n",
    "c2p = MaxPooling2D(pool_size=(2, 2)) (c2)\n",
    "c2d = Dropout(0.1)(c2p)\n",
    "\n",
    "c3 = Conv2D(192, 7,7, activation='tanh', border_mode='same')(c2d)\n",
    "c3p = MaxPooling2D(pool_size=(2, 2)) (c3)\n",
    "c3d = Dropout(0.1)(c3p)\n",
    "\n",
    "\n",
    "c4 = Conv2D(256, 7,7, activation='tanh', border_mode='same')(c3d)\n",
    "c4p = MaxPooling2D(pool_size=(2, 2)) (c4)\n",
    "c4d = Dropout(0.1)(c4p)\n",
    "\n",
    "\n",
    "c5 = Conv2D(256, 7,7, activation='tanh', border_mode='same')(c4d)\n",
    "c5p = MaxPooling2D(pool_size=(2, 2)) (c5)\n",
    "c5d = Dropout(0.1)(c5p)\n",
    "\n",
    "#linear layer\n",
    "flat = Flatten()(c5d)\n",
    "d1 = Dense(128, activation='tanh')(flat)\n",
    "d1d = Dropout(0.1)(d1)\n",
    "\n",
    "#output\n",
    "o_length = Dense(7, activation='softmax')(d1d)\n",
    "o_digit1 = Dense(11, activation='softmax')(d1d)\n",
    "o_digit2 = Dense(11, activation='softmax')(d1d)\n",
    "o_digit3 = Dense(11, activation='softmax')(d1d)\n",
    "o_digit4 = Dense(11, activation='softmax')(d1d)\n",
    "o_digit5 = Dense(11, activation='softmax')(d1d)\n",
    "model = Model(a, [o_length,o_digit1,o_digit2,o_digit3,o_digit4,o_digit5])\n",
    "\n",
    "rms = RMSprop(lr=0.00005)\n",
    "model.compile(loss='categorical_crossentropy', optimizer=rms)"
   ]
  },
  {
   "cell_type": "code",
   "execution_count": 4,
   "metadata": {
    "collapsed": true
   },
   "outputs": [],
   "source": [
    "#load weights trained from model(final) program\n",
    "model.set_weights(weights)"
   ]
  },
  {
   "cell_type": "code",
   "execution_count": 5,
   "metadata": {
    "collapsed": true
   },
   "outputs": [],
   "source": [
    "##test using test set"
   ]
  },
  {
   "cell_type": "code",
   "execution_count": 6,
   "metadata": {},
   "outputs": [
    {
     "data": {
      "text/plain": [
       "(13068, 62)"
      ]
     },
     "execution_count": 6,
     "metadata": {},
     "output_type": "execute_result"
    }
   ],
   "source": [
    "labels = np.load('test_labels.npy')\n",
    "labels.shape"
   ]
  },
  {
   "cell_type": "code",
   "execution_count": 7,
   "metadata": {},
   "outputs": [
    {
     "data": {
      "text/plain": [
       "(13068, 54, 54, 3)"
      ]
     },
     "execution_count": 7,
     "metadata": {},
     "output_type": "execute_result"
    }
   ],
   "source": [
    "#img as train data\n",
    "size = labels.shape[0]\n",
    "numsample = 5\n",
    "folder = 'test/croppedtight/'\n",
    "images = []\n",
    "\n",
    "for i in range(size):\n",
    "    im = Image.open(folder+str(i+1)+'tight.png')\n",
    "    images.append(np.asarray(im))\n",
    "        \n",
    "images = np.array(images)\n",
    "images.shape"
   ]
  },
  {
   "cell_type": "code",
   "execution_count": 8,
   "metadata": {},
   "outputs": [
    {
     "data": {
      "text/plain": [
       "0.70684113865932052"
      ]
     },
     "execution_count": 8,
     "metadata": {},
     "output_type": "execute_result"
    }
   ],
   "source": [
    "score = model.predict(images)\n",
    "score = np.concatenate(score, axis=1)\n",
    "#round score to get actual prediction instead of probability\n",
    "roundedScore = np.zeros(score.shape, dtype=\"int32\")\n",
    "#choose threshold\n",
    "roundedScore[score > 0.5] = 1\n",
    "\n",
    "#rounded acc (exactly match)\n",
    "accuracy_score(labels, roundedScore)"
   ]
  },
  {
   "cell_type": "code",
   "execution_count": null,
   "metadata": {
    "collapsed": true
   },
   "outputs": [],
   "source": []
  },
  {
   "cell_type": "code",
   "execution_count": 9,
   "metadata": {
    "collapsed": true
   },
   "outputs": [],
   "source": [
    "#idx is the index of misclassified sample, identified by any difference between label and roundedScore\n",
    "idx = np.sum(np.absolute(labels - roundedScore),axis = 1)\n",
    "\n",
    "idx = np.nonzero(idx)\n",
    "idx = idx[0]\n"
   ]
  },
  {
   "cell_type": "code",
   "execution_count": null,
   "metadata": {
    "collapsed": true
   },
   "outputs": [],
   "source": []
  },
  {
   "cell_type": "code",
   "execution_count": 10,
   "metadata": {
    "collapsed": true
   },
   "outputs": [],
   "source": [
    "#misclassified sample\n",
    "def interpretLabel(label):\n",
    "        length = np.minimum(np.argmax(label[:7]),5)\n",
    "        firstdigit = str(np.argmax(label[7:18]))\n",
    "        seconddigit = str(np.argmax(label[18:29]))\n",
    "        thirddigit = str(np.argmax(label[29:40]))\n",
    "        fourthdigit = str(np.argmax(label[40:51]))\n",
    "        fifthdigit = str(np.argmax(label[51:62]))\n",
    "        number = firstdigit + seconddigit + thirddigit + fourthdigit + fifthdigit\n",
    "        return int(number[:length])\n",
    "        "
   ]
  },
  {
   "cell_type": "code",
   "execution_count": 11,
   "metadata": {},
   "outputs": [
    {
     "data": {
      "image/png": "[encoded data removed]",
      "text/plain": [
       "<matplotlib.figure.Figure at 0x252f0cae630>"
      ]
     },
     "metadata": {},
     "output_type": "display_data"
    },
    {
     "name": "stdout",
     "output_type": "stream",
     "text": [
      "image index = 3\n",
      "label = 6\n",
      "prediction = 2\n"
     ]
    }
   ],
   "source": [
    "#observe misclassified sample\n",
    "imgNum = idx[0]\n",
    "img = images[imgNum]\n",
    "fig = plt.figure()\n",
    "ax = fig.add_subplot(1,1,1)\n",
    "ax.imshow(img)\n",
    "plt.show()\n",
    "print(\"image index = \"+str(imgNum+1))\n",
    "print(\"label = \" + str(interpretLabel(labels[imgNum])))\n",
    "print(\"prediction = \" + str(interpretLabel(roundedScore[imgNum])))"
   ]
  },
  {
   "cell_type": "code",
   "execution_count": null,
   "metadata": {
    "collapsed": true
   },
   "outputs": [],
   "source": []
  },
  {
   "cell_type": "code",
   "execution_count": 12,
   "metadata": {
    "collapsed": true
   },
   "outputs": [],
   "source": [
    "#check predict length always correct\n",
    "def interpretLength(label):\n",
    "        return np.argmax(label[:7])"
   ]
  },
  {
   "cell_type": "code",
   "execution_count": 13,
   "metadata": {},
   "outputs": [
    {
     "name": "stdout",
     "output_type": "stream",
     "text": [
      "887\n",
      "length misclasification rate = 0.06787572696663606\n",
      "0.932124273033364\n"
     ]
    }
   ],
   "source": [
    "count = 0\n",
    "for i in idx:\n",
    "    if (interpretLength(labels[i]) != interpretLength(roundedScore[i])):\n",
    "        count += 1\n",
    "print(count)\n",
    "print(\"length misclasification rate = \"+str(count/images.shape[0]))\n",
    "print(1-count/images.shape[0])"
   ]
  },
  {
   "cell_type": "code",
   "execution_count": 14,
   "metadata": {},
   "outputs": [
    {
     "data": {
      "text/plain": [
       "(887,)"
      ]
     },
     "execution_count": 14,
     "metadata": {},
     "output_type": "execute_result"
    }
   ],
   "source": [
    "#index of those misclassify length\n",
    "lengthidx = np.sum(np.absolute(labels[:,:7] - roundedScore[:,:7]),axis = 1)\n",
    "lengthidx = np.nonzero(lengthidx)\n",
    "lengthidx = lengthidx[0]\n",
    "lengthidx.shape"
   ]
  },
  {
   "cell_type": "code",
   "execution_count": 21,
   "metadata": {},
   "outputs": [
    {
     "data": {
      "image/png": "[encoded data removed]",
      "text/plain": [
       "<matplotlib.figure.Figure at 0x252fb0a4128>"
      ]
     },
     "metadata": {},
     "output_type": "display_data"
    },
    {
     "name": "stdout",
     "output_type": "stream",
     "text": [
      "image index = 89\n",
      "label = 2\n",
      "prediction = 25\n"
     ]
    }
   ],
   "source": [
    "#observe misclassified length sample\n",
    "imgNum = lengthidx[2]\n",
    "img = images[imgNum]\n",
    "fig = plt.figure()\n",
    "ax = fig.add_subplot(1,1,1)\n",
    "ax.imshow(img)\n",
    "plt.show()\n",
    "print(\"image index = \"+str(imgNum+1))\n",
    "print(\"label = \" + str(interpretLabel(labels[imgNum])))\n",
    "print(\"prediction = \" + str(interpretLabel(roundedScore[imgNum])))"
   ]
  },
  {
   "cell_type": "code",
   "execution_count": null,
   "metadata": {
    "collapsed": true
   },
   "outputs": [],
   "source": []
  }
 ],
 "metadata": {
  "kernelspec": {
   "display_name": "Python [default]",
   "language": "python",
   "name": "python3"
  },
  "language_info": {
   "codemirror_mode": {
    "name": "ipython",
    "version": 3
   },
   "file_extension": ".py",
   "mimetype": "text/x-python",
   "name": "python",
   "nbconvert_exporter": "python",
   "pygments_lexer": "ipython3",
   "version": "3.5.4"
  }
 },
 "nbformat": 4,
 "nbformat_minor": 2
}

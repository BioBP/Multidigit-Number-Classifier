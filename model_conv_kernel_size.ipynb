{
 "cells": [
  {
   "cell_type": "code",
   "execution_count": 1,
   "metadata": {},
   "outputs": [
    {
     "name": "stderr",
     "output_type": "stream",
     "text": [
      "Using TensorFlow backend.\n"
     ]
    }
   ],
   "source": [
    "import numpy as np\n",
    "from keras.models import Sequential, Model\n",
    "from keras.layers import Dense, Activation, Conv2D, MaxPooling2D, Dropout, Flatten, Input\n",
    "from keras.optimizers import RMSprop\n",
    "from keras.utils.np_utils import to_categorical\n",
    "from PIL import Image\n",
    "from sklearn.model_selection import ShuffleSplit\n",
    "from sklearn.metrics import accuracy_score\n",
    "from keras import backend as K"
   ]
  },
  {
   "cell_type": "code",
   "execution_count": null,
   "metadata": {
    "collapsed": true
   },
   "outputs": [],
   "source": [
    "#tuning convolution kernel size and compare\n",
    "#only use training set to do training and validation"
   ]
  },
  {
   "cell_type": "code",
   "execution_count": 2,
   "metadata": {},
   "outputs": [
    {
     "data": {
      "text/plain": [
       "(33402, 62)"
      ]
     },
     "execution_count": 2,
     "metadata": {},
     "output_type": "execute_result"
    }
   ],
   "source": [
    "#training label\n",
    "labels = np.load('labels.npy')\n",
    "labels.shape"
   ]
  },
  {
   "cell_type": "code",
   "execution_count": 3,
   "metadata": {},
   "outputs": [
    {
     "data": {
      "text/plain": [
       "(167010, 54, 54, 3)"
      ]
     },
     "execution_count": 3,
     "metadata": {},
     "output_type": "execute_result"
    }
   ],
   "source": [
    "#img as train data\n",
    "size = labels.shape[0]\n",
    "numsample = 5\n",
    "folder = 'train/croppedsampled/'\n",
    "images = []\n",
    "\n",
    "for k in range(numsample):\n",
    "    for i in range(size):\n",
    "        im = Image.open(folder+str(i+1)+'_'+str(k)+'.png')\n",
    "        images.append(np.asarray(im))\n",
    "        \n",
    "images = np.array(images)\n",
    "images.shape"
   ]
  },
  {
   "cell_type": "code",
   "execution_count": 4,
   "metadata": {},
   "outputs": [
    {
     "data": {
      "text/plain": [
       "(167010, 62)"
      ]
     },
     "execution_count": 4,
     "metadata": {},
     "output_type": "execute_result"
    }
   ],
   "source": [
    "#replicate labels to cover all sample\n",
    "labels = np.tile(labels,(5,1))\n",
    "labels.shape"
   ]
  },
  {
   "cell_type": "code",
   "execution_count": 5,
   "metadata": {
    "collapsed": true
   },
   "outputs": [],
   "source": [
    "#split training set and validation set\n",
    "rs = ShuffleSplit(n_splits=1, test_size=.1, random_state=0)\n",
    "train_index, test_index = next(rs.split(images)) #just 1\n",
    "test_images = images[test_index]\n",
    "test_labels = labels[test_index]\n",
    "images = images[train_index]\n",
    "labels = labels[train_index]"
   ]
  },
  {
   "cell_type": "code",
   "execution_count": null,
   "metadata": {
    "collapsed": true
   },
   "outputs": [],
   "source": []
  },
  {
   "cell_type": "code",
   "execution_count": 6,
   "metadata": {
    "collapsed": true
   },
   "outputs": [],
   "source": [
    "#initial model (same as initial model in other program)\n",
    "a = Input(shape=(54, 54, 3))\n",
    "#conv layer\n",
    "c1 = Conv2D(64, 3,3, activation='relu', border_mode='same')(a)\n",
    "c1p = MaxPooling2D(pool_size=(2, 2)) (c1)\n",
    "c1d = Dropout(0.1)(c1p)\n",
    "\n",
    "c2 = Conv2D(128, 3,3, activation='relu', border_mode='same')(c1d)\n",
    "c2p = MaxPooling2D(pool_size=(2, 2)) (c2)\n",
    "c2d = Dropout(0.1)(c2p)\n",
    "\n",
    "c3 = Conv2D(192, 3,3, activation='relu', border_mode='same')(c2d)\n",
    "c3p = MaxPooling2D(pool_size=(2, 2)) (c3)\n",
    "c3d = Dropout(0.1)(c3p)\n",
    "\n",
    "\n",
    "c4 = Conv2D(256, 3,3, activation='relu', border_mode='same')(c3d)\n",
    "c4p = MaxPooling2D(pool_size=(2, 2)) (c4)\n",
    "c4d = Dropout(0.1)(c4p)\n",
    "\n",
    "\n",
    "c5 = Conv2D(256, 3,3, activation='relu', border_mode='same')(c4d)\n",
    "c5p = MaxPooling2D(pool_size=(2, 2)) (c5)\n",
    "c5d = Dropout(0.1)(c5p)\n",
    "\n",
    "#linear layer\n",
    "flat = Flatten()(c5d)\n",
    "d1 = Dense(128, activation='relu')(flat)\n",
    "d1d = Dropout(0.1)(d1)\n",
    "\n",
    "#output\n",
    "o_length = Dense(7, activation='softmax')(d1d)\n",
    "o_digit1 = Dense(11, activation='softmax')(d1d)\n",
    "o_digit2 = Dense(11, activation='softmax')(d1d)\n",
    "o_digit3 = Dense(11, activation='softmax')(d1d)\n",
    "o_digit4 = Dense(11, activation='softmax')(d1d)\n",
    "o_digit5 = Dense(11, activation='softmax')(d1d)\n",
    "model = Model(a, [o_length,o_digit1,o_digit2,o_digit3,o_digit4,o_digit5])\n",
    "\n",
    "rms = RMSprop(lr=0.0001)\n",
    "model.compile(loss='categorical_crossentropy', optimizer=rms)\n"
   ]
  },
  {
   "cell_type": "code",
   "execution_count": 8,
   "metadata": {
    "collapsed": true
   },
   "outputs": [
    {
     "name": "stdout",
     "output_type": "stream",
     "text": [
      "Train on 135278 samples, validate on 15031 samples\n",
      "Epoch 1/20\n",
      "135278/135278 [==============================] - 321s - loss: 5.5602 - dense_2_loss: 0.6068 - dense_3_loss: 1.7730 - dense_4_loss: 1.9770 - dense_5_loss: 0.9910 - dense_6_loss: 0.1923 - dense_7_loss: 0.0202 - val_loss: 3.7077 - val_dense_2_loss: 0.2931 - val_dense_3_loss: 1.1414 - val_dense_4_loss: 1.3668 - val_dense_5_loss: 0.7493 - val_dense_6_loss: 0.1556 - val_dense_7_loss: 0.0015\n",
      "Epoch 2/20\n",
      "135278/135278 [==============================] - 377s - loss: 3.2991 - dense_2_loss: 0.2683 - dense_3_loss: 0.9985 - dense_4_loss: 1.1987 - dense_5_loss: 0.6838 - dense_6_loss: 0.1463 - dense_7_loss: 0.0036 - val_loss: 2.4492 - val_dense_2_loss: 0.2165 - val_dense_3_loss: 0.7095 - val_dense_4_loss: 0.8433 - val_dense_5_loss: 0.5446 - val_dense_6_loss: 0.1336 - val_dense_7_loss: 0.0017- ETA: 19s - loss: 3.3261 - dense_2_loss: 0.2698 - dense_3_loss: 1.0082 - dense_4_loss: 1.2103 - dense_5_loss: 0.6883 - dense_6_loss: 0.1463 - dens - ETA: 18s - loss: 3.3250 - dense_2_loss: 0.2696 - dense_3_lo - ETA: 14s - loss: 3.3194 - dense_2_loss: 0.2695 - dense_3_los - ETA: 9s - loss: 3.3127 - dense_2_loss: 0.2692 - dense_3_loss: 1.0033 - dense_4_loss: 1.2049 - dense_5_loss: 0.6856 - dense_6_loss: 0.1464  - ETA: 7s - loss: 3.3097 - dense_2_loss: 0.2688 - dense_3_loss: 1.002\n",
      "Epoch 3/20\n",
      "135278/135278 [==============================] - 328s - loss: 2.4571 - dense_2_loss: 0.2023 - dense_3_loss: 0.7231 - dense_4_loss: 0.8568 - dense_5_loss: 0.5398 - dense_6_loss: 0.1313 - dense_7_loss: 0.0038 - val_loss: 1.8876 - val_dense_2_loss: 0.1723 - val_dense_3_loss: 0.5345 - val_dense_4_loss: 0.6466 - val_dense_5_loss: 0.4252 - val_dense_6_loss: 0.1074 - val_dense_7_loss: 0.0016\n",
      "Epoch 4/20\n",
      "135278/135278 [==============================] - 335s - loss: 2.0164 - dense_2_loss: 0.1699 - dense_3_loss: 0.5885 - dense_4_loss: 0.6863 - dense_5_loss: 0.4467 - dense_6_loss: 0.1211 - dense_7_loss: 0.0040 - val_loss: 1.5795 - val_dense_2_loss: 0.1331 - val_dense_3_loss: 0.4661 - val_dense_4_loss: 0.5269 - val_dense_5_loss: 0.3489 - val_dense_6_loss: 0.1028 - val_dense_7_loss: 0.0016\n",
      "Epoch 5/20\n",
      "135278/135278 [==============================] - 351s - loss: 1.7443 - dense_2_loss: 0.1474 - dense_3_loss: 0.5103 - dense_4_loss: 0.5821 - dense_5_loss: 0.3868 - dense_6_loss: 0.1136 - dense_7_loss: 0.0041 - val_loss: 1.4054 - val_dense_2_loss: 0.1275 - val_dense_3_loss: 0.4219 - val_dense_4_loss: 0.4575 - val_dense_5_loss: 0.3036 - val_dense_6_loss: 0.0930 - val_dense_7_loss: 0.0018\n",
      "Epoch 6/20\n",
      "135278/135278 [==============================] - 280s - loss: 1.5724 - dense_2_loss: 0.1350 - dense_3_loss: 0.4606 - dense_4_loss: 0.5205 - dense_5_loss: 0.3448 - dense_6_loss: 0.1072 - dense_7_loss: 0.0042 - val_loss: 1.2628 - val_dense_2_loss: 0.1087 - val_dense_3_loss: 0.3800 - val_dense_4_loss: 0.4092 - val_dense_5_loss: 0.2775 - val_dense_6_loss: 0.0854 - val_dense_7_loss: 0.0020\n",
      "Epoch 7/20\n",
      "135278/135278 [==============================] - 272s - loss: 1.4338 - dense_2_loss: 0.1226 - dense_3_loss: 0.4198 - dense_4_loss: 0.4692 - dense_5_loss: 0.3155 - dense_6_loss: 0.1025 - dense_7_loss: 0.0041 - val_loss: 1.1526 - val_dense_2_loss: 0.1025 - val_dense_3_loss: 0.3459 - val_dense_4_loss: 0.3642 - val_dense_5_loss: 0.2548 - val_dense_6_loss: 0.0833 - val_dense_7_loss: 0.0019\n",
      "Epoch 8/20\n",
      "135278/135278 [==============================] - 273s - loss: 1.3376 - dense_2_loss: 0.1146 - dense_3_loss: 0.3929 - dense_4_loss: 0.4361 - dense_5_loss: 0.2927 - dense_6_loss: 0.0971 - dense_7_loss: 0.0042 - val_loss: 1.0951 - val_dense_2_loss: 0.0971 - val_dense_3_loss: 0.3259 - val_dense_4_loss: 0.3484 - val_dense_5_loss: 0.2426 - val_dense_6_loss: 0.0790 - val_dense_7_loss: 0.0020\n",
      "Epoch 9/20\n",
      "135278/135278 [==============================] - 273s - loss: 1.2684 - dense_2_loss: 0.1095 - dense_3_loss: 0.3702 - dense_4_loss: 0.4115 - dense_5_loss: 0.2772 - dense_6_loss: 0.0959 - dense_7_loss: 0.0042 - val_loss: 1.0741 - val_dense_2_loss: 0.0979 - val_dense_3_loss: 0.3187 - val_dense_4_loss: 0.3502 - val_dense_5_loss: 0.2284 - val_dense_6_loss: 0.0768 - val_dense_7_loss: 0.0021\n",
      "Epoch 10/20\n",
      "135278/135278 [==============================] - 274s - loss: 1.2082 - dense_2_loss: 0.1044 - dense_3_loss: 0.3540 - dense_4_loss: 0.3889 - dense_5_loss: 0.2635 - dense_6_loss: 0.0933 - dense_7_loss: 0.0041 - val_loss: 1.1182 - val_dense_2_loss: 0.1182 - val_dense_3_loss: 0.3254 - val_dense_4_loss: 0.3541 - val_dense_5_loss: 0.2383 - val_dense_6_loss: 0.0799 - val_dense_7_loss: 0.0021\n",
      "Epoch 11/20\n",
      "135278/135278 [==============================] - 274s - loss: 1.1630 - dense_2_loss: 0.1021 - dense_3_loss: 0.3398 - dense_4_loss: 0.3746 - dense_5_loss: 0.2522 - dense_6_loss: 0.0901 - dense_7_loss: 0.0042 - val_loss: 1.0589 - val_dense_2_loss: 0.1145 - val_dense_3_loss: 0.2964 - val_dense_4_loss: 0.3359 - val_dense_5_loss: 0.2331 - val_dense_6_loss: 0.0768 - val_dense_7_loss: 0.0021\n",
      "Epoch 12/20\n",
      "135278/135278 [==============================] - 275s - loss: 1.1250 - dense_2_loss: 0.0981 - dense_3_loss: 0.3306 - dense_4_loss: 0.3602 - dense_5_loss: 0.2440 - dense_6_loss: 0.0879 - dense_7_loss: 0.0042 - val_loss: 1.0035 - val_dense_2_loss: 0.0994 - val_dense_3_loss: 0.2961 - val_dense_4_loss: 0.3167 - val_dense_5_loss: 0.2150 - val_dense_6_loss: 0.0742 - val_dense_7_loss: 0.0021\n",
      "Epoch 13/20\n",
      "135278/135278 [==============================] - 275s - loss: 1.0996 - dense_2_loss: 0.0957 - dense_3_loss: 0.3231 - dense_4_loss: 0.3516 - dense_5_loss: 0.2381 - dense_6_loss: 0.0870 - dense_7_loss: 0.0042 - val_loss: 0.9141 - val_dense_2_loss: 0.0852 - val_dense_3_loss: 0.2756 - val_dense_4_loss: 0.2898 - val_dense_5_loss: 0.1941 - val_dense_6_loss: 0.0672 - val_dense_7_loss: 0.0021\n",
      "Epoch 14/20\n",
      "135278/135278 [==============================] - 275s - loss: 1.0684 - dense_2_loss: 0.0953 - dense_3_loss: 0.3156 - dense_4_loss: 0.3387 - dense_5_loss: 0.2307 - dense_6_loss: 0.0837 - dense_7_loss: 0.0043 - val_loss: 0.8675 - val_dense_2_loss: 0.0791 - val_dense_3_loss: 0.2620 - val_dense_4_loss: 0.2709 - val_dense_5_loss: 0.1885 - val_dense_6_loss: 0.0650 - val_dense_7_loss: 0.0021\n",
      "Epoch 15/20\n",
      "135278/135278 [==============================] - 275s - loss: 1.0463 - dense_2_loss: 0.0911 - dense_3_loss: 0.3070 - dense_4_loss: 0.3370 - dense_5_loss: 0.2250 - dense_6_loss: 0.0821 - dense_7_loss: 0.0042 - val_loss: 0.8626 - val_dense_2_loss: 0.0827 - val_dense_3_loss: 0.2519 - val_dense_4_loss: 0.2712 - val_dense_5_loss: 0.1885 - val_dense_6_loss: 0.0662 - val_dense_7_loss: 0.0021\n",
      "Epoch 16/20\n",
      "135278/135278 [==============================] - 275s - loss: 1.0348 - dense_2_loss: 0.0926 - dense_3_loss: 0.3071 - dense_4_loss: 0.3260 - dense_5_loss: 0.2226 - dense_6_loss: 0.0823 - dense_7_loss: 0.0042 - val_loss: 0.9222 - val_dense_2_loss: 0.0952 - val_dense_3_loss: 0.2676 - val_dense_4_loss: 0.2938 - val_dense_5_loss: 0.1920 - val_dense_6_loss: 0.0714 - val_dense_7_loss: 0.0021\n",
      "Epoch 17/20\n",
      "135278/135278 [==============================] - 275s - loss: 1.0187 - dense_2_loss: 0.0911 - dense_3_loss: 0.3044 - dense_4_loss: 0.3225 - dense_5_loss: 0.2170 - dense_6_loss: 0.0793 - dense_7_loss: 0.0043 - val_loss: 1.0579 - val_dense_2_loss: 0.1203 - val_dense_3_loss: 0.3205 - val_dense_4_loss: 0.3276 - val_dense_5_loss: 0.2031 - val_dense_6_loss: 0.0842 - val_dense_7_loss: 0.0021\n",
      "Epoch 18/20\n",
      "135278/135278 [==============================] - 275s - loss: 0.9924 - dense_2_loss: 0.0879 - dense_3_loss: 0.2948 - dense_4_loss: 0.3164 - dense_5_loss: 0.2119 - dense_6_loss: 0.0772 - dense_7_loss: 0.0043 - val_loss: 0.8266 - val_dense_2_loss: 0.0790 - val_dense_3_loss: 0.2503 - val_dense_4_loss: 0.2602 - val_dense_5_loss: 0.1758 - val_dense_6_loss: 0.0591 - val_dense_7_loss: 0.0021\n",
      "Epoch 19/20\n",
      "135278/135278 [==============================] - 274s - loss: 0.9907 - dense_2_loss: 0.0883 - dense_3_loss: 0.2963 - dense_4_loss: 0.3149 - dense_5_loss: 0.2099 - dense_6_loss: 0.0771 - dense_7_loss: 0.0043 - val_loss: 0.8500 - val_dense_2_loss: 0.0870 - val_dense_3_loss: 0.2483 - val_dense_4_loss: 0.2629 - val_dense_5_loss: 0.1901 - val_dense_6_loss: 0.0596 - val_dense_7_loss: 0.0021\n",
      "Epoch 20/20\n",
      "135278/135278 [==============================] - 267s - loss: 0.9771 - dense_2_loss: 0.0890 - dense_3_loss: 0.2923 - dense_4_loss: 0.3087 - dense_5_loss: 0.2065 - dense_6_loss: 0.0763 - dense_7_loss: 0.0043 - val_loss: 0.8171 - val_dense_2_loss: 0.0890 - val_dense_3_loss: 0.2396 - val_dense_4_loss: 0.2524 - val_dense_5_loss: 0.1733 - val_dense_6_loss: 0.0606 - val_dense_7_loss: 0.0021\n"
     ]
    }
   ],
   "source": [
    "#training\n",
    "result = model.fit(images, [labels[:,:7], labels[:,7:18], labels[:,18:29], labels[:,29:40], labels[:,40:51], labels[:,51:62]], 32, 20, validation_split=0.1, shuffle=True)"
   ]
  },
  {
   "cell_type": "code",
   "execution_count": 9,
   "metadata": {},
   "outputs": [
    {
     "data": {
      "text/plain": [
       "0.79109035387102566"
      ]
     },
     "execution_count": 9,
     "metadata": {},
     "output_type": "execute_result"
    }
   ],
   "source": [
    "#validation\n",
    "score = model.predict(test_images)\n",
    "\n",
    "score = np.concatenate(score, axis=1)\n",
    "#round score to get actual prediction instead of probability\n",
    "roundedScore = np.zeros(score.shape, dtype=\"int32\")\n",
    "#choose threshold\n",
    "roundedScore[score > 0.5] = 1\n",
    "\n",
    "#rounded acc (exactly match)\n",
    "accuracy_score(test_labels, roundedScore)"
   ]
  },
  {
   "cell_type": "code",
   "execution_count": null,
   "metadata": {
    "collapsed": true
   },
   "outputs": [],
   "source": []
  },
  {
   "cell_type": "code",
   "execution_count": 10,
   "metadata": {
    "collapsed": true
   },
   "outputs": [],
   "source": [
    "#conv kernel size = 5 (instead of 3 in initial model) \n",
    "a = Input(shape=(54, 54, 3))\n",
    "#conv layer\n",
    "c1 = Conv2D(64, 5,5, activation='relu', border_mode='same')(a)\n",
    "c1p = MaxPooling2D(pool_size=(2, 2)) (c1)\n",
    "c1d = Dropout(0.1)(c1p)\n",
    "\n",
    "c2 = Conv2D(128, 5,5, activation='relu', border_mode='same')(c1d)\n",
    "c2p = MaxPooling2D(pool_size=(2, 2)) (c2)\n",
    "c2d = Dropout(0.1)(c2p)\n",
    "\n",
    "c3 = Conv2D(192, 5,5, activation='relu', border_mode='same')(c2d)\n",
    "c3p = MaxPooling2D(pool_size=(2, 2)) (c3)\n",
    "c3d = Dropout(0.1)(c3p)\n",
    "\n",
    "\n",
    "c4 = Conv2D(256, 5,5, activation='relu', border_mode='same')(c3d)\n",
    "c4p = MaxPooling2D(pool_size=(2, 2)) (c4)\n",
    "c4d = Dropout(0.1)(c4p)\n",
    "\n",
    "\n",
    "c5 = Conv2D(256, 5,5, activation='relu', border_mode='same')(c4d)\n",
    "c5p = MaxPooling2D(pool_size=(2, 2)) (c5)\n",
    "c5d = Dropout(0.1)(c5p)\n",
    "\n",
    "#linear layer\n",
    "flat = Flatten()(c5d)\n",
    "d1 = Dense(128, activation='relu')(flat)\n",
    "d1d = Dropout(0.1)(d1)\n",
    "\n",
    "#output\n",
    "o_length = Dense(7, activation='softmax')(d1d)\n",
    "o_digit1 = Dense(11, activation='softmax')(d1d)\n",
    "o_digit2 = Dense(11, activation='softmax')(d1d)\n",
    "o_digit3 = Dense(11, activation='softmax')(d1d)\n",
    "o_digit4 = Dense(11, activation='softmax')(d1d)\n",
    "o_digit5 = Dense(11, activation='softmax')(d1d)\n",
    "model = Model(a, [o_length,o_digit1,o_digit2,o_digit3,o_digit4,o_digit5])\n",
    "\n",
    "rms = RMSprop(lr=0.0001)\n",
    "model.compile(loss='categorical_crossentropy', optimizer=rms)\n"
   ]
  },
  {
   "cell_type": "code",
   "execution_count": 12,
   "metadata": {
    "collapsed": true
   },
   "outputs": [
    {
     "name": "stdout",
     "output_type": "stream",
     "text": [
      "Train on 135278 samples, validate on 15031 samples\n",
      "Epoch 1/20\n",
      "135278/135278 [==============================] - 415s - loss: 4.3098 - dense_9_loss: 0.4311 - dense_10_loss: 1.3354 - dense_11_loss: 1.5196 - dense_12_loss: 0.8199 - dense_13_loss: 0.1774 - dense_14_loss: 0.0264 - val_loss: 2.2920 - val_dense_9_loss: 0.1923 - val_dense_10_loss: 0.6798 - val_dense_11_loss: 0.7972 - val_dense_12_loss: 0.5004 - val_dense_13_loss: 0.1207 - val_dense_14_loss: 0.0015\n",
      "Epoch 2/20\n",
      "135278/135278 [==============================] - 413s - loss: 2.1429 - dense_9_loss: 0.1865 - dense_10_loss: 0.6279 - dense_11_loss: 0.7243 - dense_12_loss: 0.4729 - dense_13_loss: 0.1276 - dense_14_loss: 0.0038 - val_loss: 1.5260 - val_dense_9_loss: 0.1416 - val_dense_10_loss: 0.4424 - val_dense_11_loss: 0.5046 - val_dense_12_loss: 0.3328 - val_dense_13_loss: 0.1027 - val_dense_14_loss: 0.0019\n",
      "Epoch 3/20\n",
      "135278/135278 [==============================] - 413s - loss: 1.5773 - dense_9_loss: 0.1391 - dense_10_loss: 0.4644 - dense_11_loss: 0.5144 - dense_12_loss: 0.3446 - dense_13_loss: 0.1107 - dense_14_loss: 0.0040 - val_loss: 1.1548 - val_dense_9_loss: 0.0986 - val_dense_10_loss: 0.3598 - val_dense_11_loss: 0.3636 - val_dense_12_loss: 0.2430 - val_dense_13_loss: 0.0883 - val_dense_14_loss: 0.0016\n",
      "Epoch 4/20\n",
      "135278/135278 [==============================] - 413s - loss: 1.3064 - dense_9_loss: 0.1156 - dense_10_loss: 0.3889 - dense_11_loss: 0.4181 - dense_12_loss: 0.2804 - dense_13_loss: 0.0993 - dense_14_loss: 0.0041 - val_loss: 1.1128 - val_dense_9_loss: 0.1207 - val_dense_10_loss: 0.3339 - val_dense_11_loss: 0.3539 - val_dense_12_loss: 0.2240 - val_dense_13_loss: 0.0781 - val_dense_14_loss: 0.0021\n",
      "Epoch 5/20\n",
      "135278/135278 [==============================] - 413s - loss: 1.1301 - dense_9_loss: 0.0992 - dense_10_loss: 0.3376 - dense_11_loss: 0.3585 - dense_12_loss: 0.2423 - dense_13_loss: 0.0885 - dense_14_loss: 0.0041 - val_loss: 0.9050 - val_dense_9_loss: 0.0911 - val_dense_10_loss: 0.2738 - val_dense_11_loss: 0.2789 - val_dense_12_loss: 0.1916 - val_dense_13_loss: 0.0675 - val_dense_14_loss: 0.0021\n",
      "Epoch 6/20\n",
      "135278/135278 [==============================] - 413s - loss: 1.0266 - dense_9_loss: 0.0899 - dense_10_loss: 0.3062 - dense_11_loss: 0.3276 - dense_12_loss: 0.2167 - dense_13_loss: 0.0822 - dense_14_loss: 0.0041 - val_loss: 0.8242 - val_dense_9_loss: 0.0830 - val_dense_10_loss: 0.2407 - val_dense_11_loss: 0.2621 - val_dense_12_loss: 0.1762 - val_dense_13_loss: 0.0600 - val_dense_14_loss: 0.0021\n",
      "Epoch 7/20\n",
      "135278/135278 [==============================] - 413s - loss: 0.9417 - dense_9_loss: 0.0828 - dense_10_loss: 0.2846 - dense_11_loss: 0.2982 - dense_12_loss: 0.1956 - dense_13_loss: 0.0762 - dense_14_loss: 0.0043 - val_loss: 0.8172 - val_dense_9_loss: 0.0763 - val_dense_10_loss: 0.2470 - val_dense_11_loss: 0.2574 - val_dense_12_loss: 0.1705 - val_dense_13_loss: 0.0640 - val_dense_14_loss: 0.0019\n",
      "Epoch 8/20\n",
      "135278/135278 [==============================] - 413s - loss: 0.8756 - dense_9_loss: 0.0763 - dense_10_loss: 0.2688 - dense_11_loss: 0.2734 - dense_12_loss: 0.1835 - dense_13_loss: 0.0693 - dense_14_loss: 0.0043 - val_loss: 0.6875 - val_dense_9_loss: 0.0619 - val_dense_10_loss: 0.2184 - val_dense_11_loss: 0.2122 - val_dense_12_loss: 0.1422 - val_dense_13_loss: 0.0505 - val_dense_14_loss: 0.0021\n",
      "Epoch 9/20\n",
      "135278/135278 [==============================] - 420s - loss: 0.8306 - dense_9_loss: 0.0742 - dense_10_loss: 0.2560 - dense_11_loss: 0.2602 - dense_12_loss: 0.1704 - dense_13_loss: 0.0657 - dense_14_loss: 0.0042 - val_loss: 0.7263 - val_dense_9_loss: 0.0757 - val_dense_10_loss: 0.2269 - val_dense_11_loss: 0.2232 - val_dense_12_loss: 0.1499 - val_dense_13_loss: 0.0485 - val_dense_14_loss: 0.0021\n",
      "Epoch 10/20\n",
      "135278/135278 [==============================] - 452s - loss: 0.7905 - dense_9_loss: 0.0698 - dense_10_loss: 0.2441 - dense_11_loss: 0.2460 - dense_12_loss: 0.1623 - dense_13_loss: 0.0640 - dense_14_loss: 0.0042 - val_loss: 0.7759 - val_dense_9_loss: 0.0687 - val_dense_10_loss: 0.2528 - val_dense_11_loss: 0.2461 - val_dense_12_loss: 0.1579 - val_dense_13_loss: 0.0487 - val_dense_14_loss: 0.0016\n",
      "Epoch 11/20\n",
      "135278/135278 [==============================] - 440s - loss: 0.7561 - dense_9_loss: 0.0672 - dense_10_loss: 0.2337 - dense_11_loss: 0.2383 - dense_12_loss: 0.1530 - dense_13_loss: 0.0598 - dense_14_loss: 0.0042 - val_loss: 0.6626 - val_dense_9_loss: 0.0747 - val_dense_10_loss: 0.2080 - val_dense_11_loss: 0.1910 - val_dense_12_loss: 0.1413 - val_dense_13_loss: 0.0454 - val_dense_14_loss: 0.0021loss: 0.2332 - dense_11_loss: 0.2379 - dense_12_loss: 0.1540 - dense_13_loss: 0.0598 - dense_14 - ETA: 19s - loss: 0.7560 - dense_9_loss: 0.0672 - dense_10_loss: 0.2 - ETA: 1s - loss: 0.7563 - dense_9_loss: 0.0673 - dense_10_loss: 0.2338 - dense_11_loss: 0.2382 - dense_12_loss: 0.1530 - dense_13_loss: 0.\n",
      "Epoch 12/20\n",
      "135278/135278 [==============================] - 466s - loss: 0.7393 - dense_9_loss: 0.0670 - dense_10_loss: 0.2321 - dense_11_loss: 0.2286 - dense_12_loss: 0.1505 - dense_13_loss: 0.0568 - dense_14_loss: 0.0042 - val_loss: 0.6045 - val_dense_9_loss: 0.0609 - val_dense_10_loss: 0.1901 - val_dense_11_loss: 0.1835 - val_dense_12_loss: 0.1254 - val_dense_13_loss: 0.0424 - val_dense_14_loss: 0.0021_loss: 0.0671 - dense_10_loss: 0.2319 - dense_11_loss: 0.2286 - dense_12_loss: 0.1504 - ETA: 0s - loss: 0.7390 - dense_9_loss: 0.0670 - dense_10_loss: 0.2320 - dense_11_loss: 0.2285 - dense_12_loss: 0.1504 - dense_13_loss: 0.0568 - den\n",
      "Epoch 13/20\n",
      "135278/135278 [==============================] - 465s - loss: 0.7026 - dense_9_loss: 0.0621 - dense_10_loss: 0.2169 - dense_11_loss: 0.2200 - dense_12_loss: 0.1430 - dense_13_loss: 0.0566 - dense_14_loss: 0.0041 - val_loss: 0.6129 - val_dense_9_loss: 0.0706 - val_dense_10_loss: 0.1893 - val_dense_11_loss: 0.1827 - val_dense_12_loss: 0.1239 - val_dense_13_loss: 0.0442 - val_dense_14_loss: 0.0021\n",
      "Epoch 14/20\n",
      "135278/135278 [==============================] - 465s - loss: 0.6929 - dense_9_loss: 0.0605 - dense_10_loss: 0.2158 - dense_11_loss: 0.2168 - dense_12_loss: 0.1416 - dense_13_loss: 0.0541 - dense_14_loss: 0.0042 - val_loss: 0.6827 - val_dense_9_loss: 0.0816 - val_dense_10_loss: 0.2091 - val_dense_11_loss: 0.2064 - val_dense_12_loss: 0.1421 - val_dense_13_loss: 0.0414 - val_dense_14_loss: 0.0021 - dense_9_loss: 0.0605 - dense_10_loss: 0.2156 - dense_11_loss: 0.2165 - dense_12_loss: 0.1411 - dense_13_loss: 0.0543 - dense_ - ETA: 9s - loss: 0.6924 - dense_9_loss: 0.0605 - dense_10_loss: 0.2157 - dense_11_loss: 0.2166 - dense_ - ETA: 6s - loss: 0.6935 - dense_9_loss: 0.\n",
      "Epoch 15/20\n",
      "135278/135278 [==============================] - 454s - loss: 0.6850 - dense_9_loss: 0.0616 - dense_10_loss: 0.2150 - dense_11_loss: 0.2123 - dense_12_loss: 0.1379 - dense_13_loss: 0.0539 - dense_14_loss: 0.0043 - val_loss: 0.5345 - val_dense_9_loss: 0.0530 - val_dense_10_loss: 0.1660 - val_dense_11_loss: 0.1634 - val_dense_12_loss: 0.1152 - val_dense_13_loss: 0.0348 - val_dense_14_loss: 0.0021e_10_loss: 0.2149 - dense_11_loss: 0.2129 - dense_12_loss: 0.1376 - dense_13_l - ETA: 19s - loss: 0.6847 - dense_9_loss: 0.0613 - dense_10_loss: 0.2148 - dense_11_loss - ETA: 11s - loss: 0.6855 - dense_9_loss: 0.0612 - dense_10_loss: 0.2153 - dense_11_loss: 0.2127 - dense_12_loss: 0.1379 - dense_13_loss: 0.0540 - dense_14_loss:  - ETA: 10s - loss: 0.6859 - dense_9_loss: 0.0614 - dense_10_loss: 0.2152 - dense_11_loss: 0.2128 - dense_12_loss: 0.1380 - dense_13_loss: 0.0542 - dense_14_loss: 0.0 - ETA: 10s - loss: 0.6859 - dense_9_loss: 0.0613 - dense_10_loss: 0 - ETA: 4s - loss: 0.6853 - dense_9_loss: 0.0613 - dense_10_loss: 0.2153 -\n",
      "Epoch 16/20\n",
      "135278/135278 [==============================] - 434s - loss: 0.6689 - dense_9_loss: 0.0598 - dense_10_loss: 0.2128 - dense_11_loss: 0.2070 - dense_12_loss: 0.1351 - dense_13_loss: 0.0499 - dense_14_loss: 0.0042 - val_loss: 0.8898 - val_dense_9_loss: 0.1317 - val_dense_10_loss: 0.2537 - val_dense_11_loss: 0.2517 - val_dense_12_loss: 0.1672 - val_dense_13_loss: 0.0834 - val_dense_14_loss: 0.0022\n",
      "Epoch 17/20\n",
      "135278/135278 [==============================] - 440s - loss: 0.6650 - dense_9_loss: 0.0612 - dense_10_loss: 0.2113 - dense_11_loss: 0.2067 - dense_12_loss: 0.1317 - dense_13_loss: 0.0499 - dense_14_loss: 0.0042 - val_loss: 0.5635 - val_dense_9_loss: 0.0616 - val_dense_10_loss: 0.1721 - val_dense_11_loss: 0.1700 - val_dense_12_loss: 0.1184 - val_dense_13_loss: 0.0392 - val_dense_14_loss: 0.0021\n",
      "Epoch 18/20\n",
      "135278/135278 [==============================] - 450s - loss: 0.6578 - dense_9_loss: 0.0603 - dense_10_loss: 0.2046 - dense_11_loss: 0.2048 - dense_12_loss: 0.1343 - dense_13_loss: 0.0496 - dense_14_loss: 0.0042 - val_loss: 0.5366 - val_dense_9_loss: 0.0568 - val_dense_10_loss: 0.1668 - val_dense_11_loss: 0.1665 - val_dense_12_loss: 0.1099 - val_dense_13_loss: 0.0344 - val_dense_14_loss: 0.0021\n",
      "Epoch 19/20\n",
      "135278/135278 [==============================] - 442s - loss: 0.6502 - dense_9_loss: 0.0595 - dense_10_loss: 0.2051 - dense_11_loss: 0.2015 - dense_12_loss: 0.1305 - dense_13_loss: 0.0492 - dense_14_loss: 0.0043 - val_loss: 0.5785 - val_dense_9_loss: 0.0569 - val_dense_10_loss: 0.1904 - val_dense_11_loss: 0.1801 - val_dense_12_loss: 0.1139 - val_dense_13_loss: 0.0350 - val_dense_14_loss: 0.0021\n",
      "Epoch 20/20\n",
      "135278/135278 [==============================] - 438s - loss: 0.6457 - dense_9_loss: 0.0606 - dense_10_loss: 0.2048 - dense_11_loss: 0.1957 - dense_12_loss: 0.1322 - dense_13_loss: 0.0481 - dense_14_loss: 0.0043 - val_loss: 0.6688 - val_dense_9_loss: 0.0715 - val_dense_10_loss: 0.2131 - val_dense_11_loss: 0.2134 - val_dense_12_loss: 0.1289 - val_dense_13_loss: 0.0399 - val_dense_14_loss: 0.0020\n"
     ]
    }
   ],
   "source": [
    "#training\n",
    "result = model.fit(images, [labels[:,:7], labels[:,7:18], labels[:,18:29], labels[:,29:40], labels[:,40:51], labels[:,51:62]], 32, 20, validation_split=0.1, shuffle=True)"
   ]
  },
  {
   "cell_type": "code",
   "execution_count": 13,
   "metadata": {},
   "outputs": [
    {
     "data": {
      "text/plain": [
       "0.80977186994790729"
      ]
     },
     "execution_count": 13,
     "metadata": {},
     "output_type": "execute_result"
    }
   ],
   "source": [
    "#validation\n",
    "score = model.predict(test_images)\n",
    "\n",
    "score = np.concatenate(score, axis=1)\n",
    "#round score to get actual prediction instead of probability\n",
    "roundedScore = np.zeros(score.shape, dtype=\"int32\")\n",
    "#choose threshold\n",
    "roundedScore[score > 0.5] = 1\n",
    "\n",
    "#rounded acc (exactly match)\n",
    "accuracy_score(test_labels, roundedScore)"
   ]
  },
  {
   "cell_type": "code",
   "execution_count": null,
   "metadata": {
    "collapsed": true
   },
   "outputs": [],
   "source": []
  },
  {
   "cell_type": "code",
   "execution_count": 14,
   "metadata": {
    "collapsed": true
   },
   "outputs": [],
   "source": [
    "#conv kernel size = 7 (instead of 3 in initial model) \n",
    "a = Input(shape=(54, 54, 3))\n",
    "#conv layer\n",
    "c1 = Conv2D(64, 7,7, activation='relu', border_mode='same')(a)\n",
    "c1p = MaxPooling2D(pool_size=(2, 2)) (c1)\n",
    "c1d = Dropout(0.1)(c1p)\n",
    "\n",
    "c2 = Conv2D(128, 7,7, activation='relu', border_mode='same')(c1d)\n",
    "c2p = MaxPooling2D(pool_size=(2, 2)) (c2)\n",
    "c2d = Dropout(0.1)(c2p)\n",
    "\n",
    "c3 = Conv2D(192, 7,7, activation='relu', border_mode='same')(c2d)\n",
    "c3p = MaxPooling2D(pool_size=(2, 2)) (c3)\n",
    "c3d = Dropout(0.1)(c3p)\n",
    "\n",
    "\n",
    "c4 = Conv2D(256, 7,7, activation='relu', border_mode='same')(c3d)\n",
    "c4p = MaxPooling2D(pool_size=(2, 2)) (c4)\n",
    "c4d = Dropout(0.1)(c4p)\n",
    "\n",
    "\n",
    "c5 = Conv2D(256, 7,7, activation='relu', border_mode='same')(c4d)\n",
    "c5p = MaxPooling2D(pool_size=(2, 2)) (c5)\n",
    "c5d = Dropout(0.1)(c5p)\n",
    "\n",
    "#linear layer\n",
    "flat = Flatten()(c5d)\n",
    "d1 = Dense(128, activation='relu')(flat)\n",
    "d1d = Dropout(0.1)(d1)\n",
    "\n",
    "#output\n",
    "o_length = Dense(7, activation='softmax')(d1d)\n",
    "o_digit1 = Dense(11, activation='softmax')(d1d)\n",
    "o_digit2 = Dense(11, activation='softmax')(d1d)\n",
    "o_digit3 = Dense(11, activation='softmax')(d1d)\n",
    "o_digit4 = Dense(11, activation='softmax')(d1d)\n",
    "o_digit5 = Dense(11, activation='softmax')(d1d)\n",
    "model = Model(a, [o_length,o_digit1,o_digit2,o_digit3,o_digit4,o_digit5])\n",
    "\n",
    "rms = RMSprop(lr=0.0001)\n",
    "model.compile(loss='categorical_crossentropy', optimizer=rms)\n"
   ]
  },
  {
   "cell_type": "code",
   "execution_count": 16,
   "metadata": {
    "collapsed": true
   },
   "outputs": [
    {
     "name": "stdout",
     "output_type": "stream",
     "text": [
      "Train on 135278 samples, validate on 15031 samples\n",
      "Epoch 1/20\n",
      "135278/135278 [==============================] - 721s - loss: 3.8159 - dense_16_loss: 0.3698 - dense_17_loss: 1.1673 - dense_18_loss: 1.3314 - dense_19_loss: 0.7576 - dense_20_loss: 0.1686 - dense_21_loss: 0.0212 - val_loss: 1.9464 - val_dense_16_loss: 0.1683 - val_dense_17_loss: 0.5749 - val_dense_18_loss: 0.6433 - val_dense_19_loss: 0.4310 - val_dense_20_loss: 0.1275 - val_dense_21_loss: 0.0015\n",
      "Epoch 2/20\n",
      "135278/135278 [==============================] - 731s - loss: 1.8562 - dense_16_loss: 0.1628 - dense_17_loss: 0.5483 - dense_18_loss: 0.6095 - dense_19_loss: 0.4098 - dense_20_loss: 0.1223 - dense_21_loss: 0.0036 - val_loss: 1.3332 - val_dense_16_loss: 0.1192 - val_dense_17_loss: 0.3990 - val_dense_18_loss: 0.4308 - val_dense_19_loss: 0.2861 - val_dense_20_loss: 0.0963 - val_dense_21_loss: 0.0019\n",
      "Epoch 3/20\n",
      "135278/135278 [==============================] - 734s - loss: 1.4013 - dense_16_loss: 0.1228 - dense_17_loss: 0.4183 - dense_18_loss: 0.4490 - dense_19_loss: 0.3027 - dense_20_loss: 0.1047 - dense_21_loss: 0.0039 - val_loss: 1.1348 - val_dense_16_loss: 0.0991 - val_dense_17_loss: 0.3235 - val_dense_18_loss: 0.3682 - val_dense_19_loss: 0.2532 - val_dense_20_loss: 0.0893 - val_dense_21_loss: 0.0016\n",
      "Epoch 4/20\n",
      "135278/135278 [==============================] - 741s - loss: 1.1836 - dense_16_loss: 0.1038 - dense_17_loss: 0.3547 - dense_18_loss: 0.3783 - dense_19_loss: 0.2502 - dense_20_loss: 0.0925 - dense_21_loss: 0.0040 - val_loss: 0.9257 - val_dense_16_loss: 0.0818 - val_dense_17_loss: 0.2875 - val_dense_18_loss: 0.2904 - val_dense_19_loss: 0.1909 - val_dense_20_loss: 0.0731 - val_dense_21_loss: 0.0020\n",
      "Epoch 5/20\n",
      "135278/135278 [==============================] - 718s - loss: 1.0490 - dense_16_loss: 0.0900 - dense_17_loss: 0.3199 - dense_18_loss: 0.3314 - dense_19_loss: 0.2204 - dense_20_loss: 0.0833 - dense_21_loss: 0.0041 - val_loss: 0.8507 - val_dense_16_loss: 0.0812 - val_dense_17_loss: 0.2685 - val_dense_18_loss: 0.2564 - val_dense_19_loss: 0.1752 - val_dense_20_loss: 0.0674 - val_dense_21_loss: 0.0021\n",
      "Epoch 6/20\n",
      "135278/135278 [==============================] - 689s - loss: 0.9532 - dense_16_loss: 0.0826 - dense_17_loss: 0.2950 - dense_18_loss: 0.2974 - dense_19_loss: 0.1954 - dense_20_loss: 0.0786 - dense_21_loss: 0.0041 - val_loss: 0.7605 - val_dense_16_loss: 0.0715 - val_dense_17_loss: 0.2423 - val_dense_18_loss: 0.2302 - val_dense_19_loss: 0.1541 - val_dense_20_loss: 0.0606 - val_dense_21_loss: 0.0017\n",
      "Epoch 7/20\n",
      "135278/135278 [==============================] - 689s - loss: 0.8857 - dense_16_loss: 0.0776 - dense_17_loss: 0.2760 - dense_18_loss: 0.2766 - dense_19_loss: 0.1784 - dense_20_loss: 0.0730 - dense_21_loss: 0.0041 - val_loss: 0.7745 - val_dense_16_loss: 0.0711 - val_dense_17_loss: 0.2457 - val_dense_18_loss: 0.2451 - val_dense_19_loss: 0.1529 - val_dense_20_loss: 0.0577 - val_dense_21_loss: 0.0019\n",
      "Epoch 8/20\n",
      "135278/135278 [==============================] - 700s - loss: 0.8353 - dense_16_loss: 0.0725 - dense_17_loss: 0.2632 - dense_18_loss: 0.2622 - dense_19_loss: 0.1655 - dense_20_loss: 0.0678 - dense_21_loss: 0.0041 - val_loss: 0.7245 - val_dense_16_loss: 0.0775 - val_dense_17_loss: 0.2268 - val_dense_18_loss: 0.2174 - val_dense_19_loss: 0.1476 - val_dense_20_loss: 0.0531 - val_dense_21_loss: 0.0021\n",
      "Epoch 9/20\n",
      "135278/135278 [==============================] - 753s - loss: 0.7876 - dense_16_loss: 0.0702 - dense_17_loss: 0.2470 - dense_18_loss: 0.2448 - dense_19_loss: 0.1579 - dense_20_loss: 0.0636 - dense_21_loss: 0.0041 - val_loss: 0.6496 - val_dense_16_loss: 0.0625 - val_dense_17_loss: 0.2037 - val_dense_18_loss: 0.2004 - val_dense_19_loss: 0.1307 - val_dense_20_loss: 0.0502 - val_dense_21_loss: 0.0021\n",
      "Epoch 10/20\n",
      "135278/135278 [==============================] - 745s - loss: 0.7560 - dense_16_loss: 0.0630 - dense_17_loss: 0.2424 - dense_18_loss: 0.2339 - dense_19_loss: 0.1508 - dense_20_loss: 0.0618 - dense_21_loss: 0.0041 - val_loss: 0.6456 - val_dense_16_loss: 0.0650 - val_dense_17_loss: 0.2053 - val_dense_18_loss: 0.1886 - val_dense_19_loss: 0.1362 - val_dense_20_loss: 0.0486 - val_dense_21_loss: 0.0019\n",
      "Epoch 11/20\n",
      "135278/135278 [==============================] - 736s - loss: 0.7259 - dense_16_loss: 0.0645 - dense_17_loss: 0.2315 - dense_18_loss: 0.2250 - dense_19_loss: 0.1435 - dense_20_loss: 0.0574 - dense_21_loss: 0.0041 - val_loss: 0.6895 - val_dense_16_loss: 0.0777 - val_dense_17_loss: 0.2104 - val_dense_18_loss: 0.2093 - val_dense_19_loss: 0.1428 - val_dense_20_loss: 0.0476 - val_dense_21_loss: 0.0017\n",
      "Epoch 12/20\n",
      "135278/135278 [==============================] - 721s - loss: 0.7091 - dense_16_loss: 0.0643 - dense_17_loss: 0.2271 - dense_18_loss: 0.2179 - dense_19_loss: 0.1380 - dense_20_loss: 0.0576 - dense_21_loss: 0.0042 - val_loss: 0.6004 - val_dense_16_loss: 0.0567 - val_dense_17_loss: 0.2025 - val_dense_18_loss: 0.1740 - val_dense_19_loss: 0.1160 - val_dense_20_loss: 0.0492 - val_dense_21_loss: 0.0019\n",
      "Epoch 13/20\n",
      "135278/135278 [==============================] - 722s - loss: 0.6770 - dense_16_loss: 0.0582 - dense_17_loss: 0.2177 - dense_18_loss: 0.2086 - dense_19_loss: 0.1343 - dense_20_loss: 0.0540 - dense_21_loss: 0.0042 - val_loss: 0.5872 - val_dense_16_loss: 0.0549 - val_dense_17_loss: 0.1852 - val_dense_18_loss: 0.1800 - val_dense_19_loss: 0.1188 - val_dense_20_loss: 0.0461 - val_dense_21_loss: 0.0020\n",
      "Epoch 14/20\n",
      "135278/135278 [==============================] - 738s - loss: 0.6702 - dense_16_loss: 0.0589 - dense_17_loss: 0.2161 - dense_18_loss: 0.2097 - dense_19_loss: 0.1303 - dense_20_loss: 0.0510 - dense_21_loss: 0.0042 - val_loss: 0.8828 - val_dense_16_loss: 0.1168 - val_dense_17_loss: 0.2923 - val_dense_18_loss: 0.2706 - val_dense_19_loss: 0.1573 - val_dense_20_loss: 0.0438 - val_dense_21_loss: 0.0021\n",
      "Epoch 15/20\n",
      "135278/135278 [==============================] - 722s - loss: 0.6492 - dense_16_loss: 0.0580 - dense_17_loss: 0.2079 - dense_18_loss: 0.1979 - dense_19_loss: 0.1283 - dense_20_loss: 0.0528 - dense_21_loss: 0.0042 - val_loss: 0.6233 - val_dense_16_loss: 0.0615 - val_dense_17_loss: 0.2140 - val_dense_18_loss: 0.1825 - val_dense_19_loss: 0.1216 - val_dense_20_loss: 0.0414 - val_dense_21_loss: 0.0021\n",
      "Epoch 16/20\n",
      "135278/135278 [==============================] - 706s - loss: 0.6263 - dense_16_loss: 0.0547 - dense_17_loss: 0.2024 - dense_18_loss: 0.1921 - dense_19_loss: 0.1242 - dense_20_loss: 0.0488 - dense_21_loss: 0.0041 - val_loss: 0.5412 - val_dense_16_loss: 0.0582 - val_dense_17_loss: 0.1811 - val_dense_18_loss: 0.1615 - val_dense_19_loss: 0.1003 - val_dense_20_loss: 0.0380 - val_dense_21_loss: 0.0020\n",
      "Epoch 17/20\n",
      "135278/135278 [==============================] - 696s - loss: 0.6189 - dense_16_loss: 0.0540 - dense_17_loss: 0.2011 - dense_18_loss: 0.1905 - dense_19_loss: 0.1213 - dense_20_loss: 0.0477 - dense_21_loss: 0.0043 - val_loss: 0.8445 - val_dense_16_loss: 0.0848 - val_dense_17_loss: 0.2795 - val_dense_18_loss: 0.2814 - val_dense_19_loss: 0.1520 - val_dense_20_loss: 0.0448 - val_dense_21_loss: 0.0020\n",
      "Epoch 18/20\n",
      "135278/135278 [==============================] - 692s - loss: 0.6232 - dense_16_loss: 0.0560 - dense_17_loss: 0.2012 - dense_18_loss: 0.1901 - dense_19_loss: 0.1247 - dense_20_loss: 0.0470 - dense_21_loss: 0.0042 - val_loss: 0.6898 - val_dense_16_loss: 0.0806 - val_dense_17_loss: 0.2168 - val_dense_18_loss: 0.2029 - val_dense_19_loss: 0.1391 - val_dense_20_loss: 0.0484 - val_dense_21_loss: 0.0021\n",
      "Epoch 19/20\n",
      "135278/135278 [==============================] - 737s - loss: 0.6067 - dense_16_loss: 0.0524 - dense_17_loss: 0.1937 - dense_18_loss: 0.1884 - dense_19_loss: 0.1214 - dense_20_loss: 0.0467 - dense_21_loss: 0.0040 - val_loss: 0.5294 - val_dense_16_loss: 0.0552 - val_dense_17_loss: 0.1685 - val_dense_18_loss: 0.1569 - val_dense_19_loss: 0.1104 - val_dense_20_loss: 0.0367 - val_dense_21_loss: 0.0018\n",
      "Epoch 20/20\n",
      "135278/135278 [==============================] - 733s - loss: 0.5987 - dense_16_loss: 0.0539 - dense_17_loss: 0.1936 - dense_18_loss: 0.1838 - dense_19_loss: 0.1165 - dense_20_loss: 0.0468 - dense_21_loss: 0.0041 - val_loss: 0.5522 - val_dense_16_loss: 0.0642 - val_dense_17_loss: 0.1808 - val_dense_18_loss: 0.1601 - val_dense_19_loss: 0.1117 - val_dense_20_loss: 0.0338 - val_dense_21_loss: 0.0016\n"
     ]
    }
   ],
   "source": [
    "#training\n",
    "result = model.fit(images, [labels[:,:7], labels[:,7:18], labels[:,18:29], labels[:,29:40], labels[:,40:51], labels[:,51:62]], 32, 20, validation_split=0.1, shuffle=True)"
   ]
  },
  {
   "cell_type": "code",
   "execution_count": 17,
   "metadata": {},
   "outputs": [
    {
     "data": {
      "text/plain": [
       "0.8867732471109514"
      ]
     },
     "execution_count": 17,
     "metadata": {},
     "output_type": "execute_result"
    }
   ],
   "source": [
    "#validation\n",
    "score = model.predict(test_images)\n",
    "\n",
    "score = np.concatenate(score, axis=1)\n",
    "#round score to get actual prediction instead of probability\n",
    "roundedScore = np.zeros(score.shape, dtype=\"int32\")\n",
    "#choose threshold\n",
    "roundedScore[score > 0.5] = 1\n",
    "\n",
    "#rounded acc (exactly match)\n",
    "accuracy_score(test_labels, roundedScore)"
   ]
  },
  {
   "cell_type": "code",
   "execution_count": null,
   "metadata": {
    "collapsed": true
   },
   "outputs": [],
   "source": []
  },
  {
   "cell_type": "code",
   "execution_count": 6,
   "metadata": {
    "collapsed": true
   },
   "outputs": [],
   "source": [
    "#conv kernel size = 9 (instead of 3 in initial model) \n",
    "a = Input(shape=(54, 54, 3))\n",
    "#conv layer\n",
    "c1 = Conv2D(64, 9,9, activation='relu', border_mode='same')(a)\n",
    "c1p = MaxPooling2D(pool_size=(2, 2)) (c1)\n",
    "c1d = Dropout(0.1)(c1p)\n",
    "\n",
    "c2 = Conv2D(128, 9,9, activation='relu', border_mode='same')(c1d)\n",
    "c2p = MaxPooling2D(pool_size=(2, 2)) (c2)\n",
    "c2d = Dropout(0.1)(c2p)\n",
    "\n",
    "c3 = Conv2D(192, 9,9, activation='relu', border_mode='same')(c2d)\n",
    "c3p = MaxPooling2D(pool_size=(2, 2)) (c3)\n",
    "c3d = Dropout(0.1)(c3p)\n",
    "\n",
    "\n",
    "c4 = Conv2D(256, 9,9, activation='relu', border_mode='same')(c3d)\n",
    "c4p = MaxPooling2D(pool_size=(2, 2)) (c4)\n",
    "c4d = Dropout(0.1)(c4p)\n",
    "\n",
    "\n",
    "c5 = Conv2D(256, 9,9, activation='relu', border_mode='same')(c4d)\n",
    "c5p = MaxPooling2D(pool_size=(2, 2)) (c5)\n",
    "c5d = Dropout(0.1)(c5p)\n",
    "\n",
    "#linear layer\n",
    "flat = Flatten()(c5d)\n",
    "d1 = Dense(128, activation='relu')(flat)\n",
    "d1d = Dropout(0.1)(d1)\n",
    "\n",
    "#output\n",
    "o_length = Dense(7, activation='softmax')(d1d)\n",
    "o_digit1 = Dense(11, activation='softmax')(d1d)\n",
    "o_digit2 = Dense(11, activation='softmax')(d1d)\n",
    "o_digit3 = Dense(11, activation='softmax')(d1d)\n",
    "o_digit4 = Dense(11, activation='softmax')(d1d)\n",
    "o_digit5 = Dense(11, activation='softmax')(d1d)\n",
    "model = Model(a, [o_length,o_digit1,o_digit2,o_digit3,o_digit4,o_digit5])\n",
    "\n",
    "rms = RMSprop(lr=0.0001)\n",
    "model.compile(loss='categorical_crossentropy', optimizer=rms)\n"
   ]
  },
  {
   "cell_type": "code",
   "execution_count": 8,
   "metadata": {
    "collapsed": true
   },
   "outputs": [
    {
     "name": "stdout",
     "output_type": "stream",
     "text": [
      "Train on 135278 samples, validate on 15031 samples\n",
      "Epoch 1/20\n"
     ]
    },
    {
     "name": "stdout",
     "output_type": "stream",
     "text": [
      "109408/135278 [=======================>......] - ETA: 169s - loss: 3.9682 - dense_2_loss: 0.3847 - dense_3_loss: 1.2416 - dense_4_loss: 1.3744 - dense_5_loss: 0.7799 - dense_6_loss: 0.1702 - dense_7_loss: 0.0172- ETA: 721s - loss: 5.7714 - dense_2_loss: 0.6468 - dense_3_loss: 1.8507 - dense_4_loss: 1.9922 - dense_5_loss: 1.0160 -  - ETA: 708s - loss: 5.7110 - dense_2_loss: 0.6345 - dense_3_loss: 1.8319 - dense_4_loss: 1.9740 - dense_5_loss: 1.0084 - dense_6_loss: 0.2172 - dens - ETA: 703s - loss: 5.6892 - dense_2_loss: 0.6303 - dense_3_loss: 1.8251 - den - ETA: 678s - loss: 5.5702 - dense_2_loss: 0.6081 - dense_3_loss: 1.7876 - dense_4_loss: 1.9321 - dense_5_loss: 0 - ETA: 663s - loss: 5.5092 - dense_2_loss: 0.5973 - dense_3_loss: 1.7661 - dense_4_loss: 1.9137 - dense_5_loss: 0.9841 - dense_6_loss: 0.2079 - dense_7_los - ETA: 661s - loss: 5.4984 - dense_2_loss: 0.5955 - dense_3_loss: 1.7623 - dense_4_loss: 1.9106 - dense_5_loss: 0.9826 - dense_6_loss: - ETA: 652s - loss: 5.4637 - dense_2_loss: 0.5899 - dense_3_loss: 1.7498 - dense_4_loss: 1.9002 - dense_5_loss: 0.9781 - dense_6_loss: 0.2068 - dense_7_loss: 0. - ETA: 651s - loss: 5.4581 - dense_2_loss: 0.5889 - dense_3_loss: 1.7481 - dense_4_loss: 1.8984 - dense_5_loss: 0.9773 - dense_6_loss - ETA: 643s - loss: 5.4217 - dense_2_loss: 0.5831 - dense_3_loss: 1.7366 - dense_4_loss: 1.8865 - dense_5_loss: 0.9720 - dense_6_loss: 0.2 - ETA: 636s - loss: 5.3924 - dense_2_loss: 0.5776 - dense_3_loss: 1.7271 - dense_4_loss: 1.8771 - dense_5_loss: 0.9689 - dense_6_loss:  - ETA: 628s - loss: 5.3599 - dense_2_loss: 0.5724 - dense_3_loss: 1.7159 - dense_4_loss: 1.8652 - dense_5_loss: 0.9660 - dense_6_loss: 0.2037 - ETA: 622s - loss: 5.3338 - dense_2_loss: 0.5674 - dense_3_loss: 1.7077 - dense_4_loss: 1.8569 - dense_5_loss: 0.9625 - dense_6_loss: - ETA: 614s - loss: 5.3021 - dense_2_loss: 0.5626 - dense_3_loss: 1.6977 - dense_4_loss: 1.8455 - dense_5_loss: 0.9586 - dense_ - ETA: 604s - loss: 5.2590 - dense_2_loss: 0.5566 - dense_3_loss: 1.6822 - dense_4_loss: 1.8332 - dense_5_loss: 0.9520 - dense_6_loss: 0.2003 - dense_7_los - ETA: 602s - loss: 5.2494 - dense_2_loss: 0.5548 - dense_3_loss: 1.6793 - dense_4_loss: 1.8298 - dense_5_loss: 0.9509 - dense_6_loss: 0.2001 - dense_7_loss: 0 - ETA: 601s - loss: 5.2454 - dense_2_loss: 0.5543 - dense_3_loss: 1.6780 - dense_4_loss: 1.8282 - dense_5_loss: 0.9503 - dense_6_loss: 0.2003 - dense_7_loss: 0. - ETA: 600s - loss: 5.2401 - dense_2_loss: 0.5533 - dense_3_loss: 1.6766 - dense_4_loss: 1.8264 - dense_5_loss: 0.9494 - dense_6_los - ETA: 592s - loss: 5.2062 - dense_2_loss: 0.5473 - dense_3_loss: 1.6647 - dense_4_loss: 1.8152 - dense_5_loss: 0.9455  - ETA: 580s - loss: 5.1616 - dense_2_loss: 0.5401 - dense_3_loss: 1.6497 - dense_4_loss: 1.7993 - dense_5_loss: 0.9410 - dense_6_loss: 0.1989 - dense - ETA: 536s - loss: 4.9924 - dense_2_loss: 0.5143 - dense_3_loss: 1.5924 - dense_4_loss: 1.7399 - dense_5_loss: 0.9202 - dense_6_loss: 0 - ETA: 529s - loss: 4.9697 - dense_2_loss: 0.5114 - dense_3_loss: 1.5842 - dense_4_loss: 1.7318 - dense_5_loss: 0.9 - ETA: 518s - loss: 4.9316 - dense_2_loss: 0.5049 - dense_3_loss: 1.5711 - dense_4_loss: 1.7175 - dense_5_loss: 0.9145 - dense_6_loss: 0.19 - ETA: 512s - loss: 4.9100 - dense_2_loss: 0.5020 - dense_3_loss: 1.5635 - dense_4_loss: 1.7101 - dense_5_loss: 0.9115 - dense_6_lo - ETA: 504s - loss: 4.8842 - dense_2_loss: 0.4987 - dense_3_loss: 1.5537 - dense_4_loss: 1.7006 - dense_5_loss: 0.9092 - dense_6_loss: 0.1942 - dense_7_ - ETA: 501s - loss: 4.8728 - dense_2_loss: 0.4974 - dense_3_loss: 1.5497 - dense_4_loss: 1.6967 - dense_5_loss: 0.9075 - dense_6_loss: 0.1938 - dense_7_loss:  - ETA: 500s - loss: 4.8683 - dense_2_loss: 0.4967 - dense_3_loss: 1.5481 - dense_4_loss: 1.6951 - den - ETA: 485s - loss: 4.8181 - dense_2_loss: 0.4887 - dense_3_loss: 1.5324 - dense_4_loss: 1.6780 - dense_5_loss: 0.900 - ETA: 474s - loss: 4.7800 - dense_2_loss: 0.4828 - dense_3_loss: 1.5191 - dense_4_loss: 1.6653 - dense_5_loss: 0.8958 - d - ETA: 464s - loss: 4.7449 - dense_2_loss: 0.4780 - dense_3_loss: 1.5072 - dens - ETA: 445s - loss: 4.6791 - dense_2_loss: 0.4698 - dense_3_los - ETA: 385s - loss: 4.4983 - dense_2_loss: 0.4474 - dense - ETA: 362s - loss: 4.4320 - dense_2_loss: 0.4391 - dense_3_loss: 1.3990 - dense_4_loss: 1.5413 - dense_5_loss: 0.8502 - dense_6_loss: 0.1807 - dense_7 - ETA: 360s - loss: 4.4235 - dense_2_loss: 0.4380 - dense_3_loss: 1.3959 - dense_4_loss: 1.5384 - dense_5_loss: 0.8490 - dense_6_loss: 0.1 - ETA: 354s - loss: 4.4078 - dense_2_loss: 0.4362 - dense_3_loss: 1.3903 - dense_4_loss: 1.5331 - dense_5_loss: 0.8466 - dense_6_loss: 0.1801 - d - ETA: 350s - loss: 4.3964 - dense_2_loss: 0.4345 - dense_3_loss: 1.3870 - dense_4_loss: 1.5291 - dense_5_loss: 0.8450 - dense_6_loss: 0.1796 - dens - ETA: 346s - loss: 4.3871 - dense_2_loss: 0.4333 - dense_3_loss: 1.3841 - dense_4_loss: 1.5254 - dense_5_loss: 0.8437 - dense_6_loss: 0.1794 - dense_7_loss: 0.021 - ETA: 346s - loss: 4.3865 - dense_2_loss: 0.4333 - dense_3_loss: 1.3839 - dense_4_loss: 1.5251 - dense_5_loss: 0.8436 - dense_6_loss - ETA: 339s - loss: 4.3678 - dense_2_loss: 0.4311 - dense_3_loss: 1.3773 - dense_4_loss: 1.5186 - dense_5_loss: 0.8410 - dense_6_loss: 0.1790 - dense_7_ - ETA: 337s - loss: 4.3604 - dense_2_loss: 0.4301 - dense_3_loss: 1.3749 - dense_4_loss: 1.5158 - dense_5_los - ETA: 325s - loss: 4.3279 - dense_2_loss: 0.4264 - dense_3_loss: 1.3644 - dense_4_loss: 1.5042 - dense_5_loss: 0.8348 - dense_6_loss:  - ETA: 318s - loss: 4.3124 - dense_2_loss: 0.4243 - dense_3_loss: 1.3591 - dense_4_loss: 1.4987 - dense_5_loss: 0.8324 - - ETA: 309s - loss: 4.2888 - dense_2_loss: 0.4218 - dense_3_loss: 1.3503 - dense_4_loss: 1.4907 - dense_5_loss: 0.8289 - dense_6_loss: 0.17 - ETA: 303s - loss: 4.2771 - dense_2_loss: 0.4206 - dense_3_loss: 1.3459 - dense_4_loss: 1.4867 - dense_5_loss: 0.8269 - dense_6_loss: 0.1770 - d - ETA: 299s - loss: 4.2676 - dense_2_loss: 0.4193 - dense_3_loss: 1.3426 - dense_ - ETA: 281s - loss: 4.2230 - dense_2_loss: 0.4138 - dense_3_loss: 1.3276 - dense_4_loss: 1.4676 - dense_5_loss: 0.8186 -  - ETA: 272s - loss: 4.1983 - dense_2_loss: 0.4112 - dense_3_loss: 1.3195 - dense_4_loss: 1.4588 - dense_5_loss: 0.8144 - dense_6_loss: 0.1750 - den - ETA: 268s - loss: 4.1890 - dense_2_loss: 0.4102 - dense_3_loss: 1.3165 - dense_4_loss: 1.4555 - dense_5_loss: 0.8128 - de - ETA: 259s - loss: 4.1673 - dense_2_loss: 0.4075 - dense_3_loss: 1.3091 - dense_4_loss: 1.4476 - dense_5_loss: 0.8 - ETA: 249s - loss: 4.1428 - dense_2_loss: 0.4049 - dense_3_loss: 1.3007 - dense_4_loss: 1.4384 - dense_5_loss: 0.8061 - dense_6_loss: 0.1737 - dense - ETA: 246s - loss: 4.1353 - dense_2_loss: 0.4039 - dense_3_loss: 1.2984 - dense_4_loss: 1.4355 - dense_5_loss:  - ETA: 234s - loss: 4.1082 - dense_2_loss: 0.4012 - dense_3_loss: 1.2895 - dense_4_loss: 1.4257 - dense_5_loss: 0.8007 - dense_6_l - ETA: 227s - loss: 4.0910 - dense_2_loss: 0.3989 - dense_3_loss: 1.2832 - dense_4_loss: 1.4200 - dense_5_loss: 0.7984 - dense_6_los - ETA: 220s - loss: 4.0760 - dense_2_loss: 0.3971 - dense_3_loss: 1.2783 - dense_4_loss: 1.4146 - dense_5_loss: 0.7958 - dense_6_loss: 0.1718 - den - ETA: 217s - loss: 4.0679 - dense_2_loss: 0.3960 - dense_3_loss: 1.2758 - dense_4_loss: 1.4111 - dense_5_loss: 0.7946 - dense_6_loss: 0.1719 - dense_7_lo - ETA: 215s - loss: 4.0627 - dense_2_loss: 0.3953 - dense_3_loss: 1.2742 - dense_4_loss: 1.4093 - dense_5_loss: 0.7940 - dense_6_los - ETA: 208s - loss: 4.0478 - dense_2_loss: 0.3937 - dense_3_loss: 1.2692 - dense_4_loss: 1.4041 - dense_5_loss: 0.7914 - dense_6_loss: 0.1712 - dense_7_ - ETA: 205s - loss: 4.0427 - dense_2_loss: 0.3931 - dense_3_loss: 1.2677 - dense_4_loss: 1.4022 - dense_5_ - ETA: 193s - loss: 4.0174 - dense_2_loss: 0.3905 - dense_3_loss: 1.2583 - den - ETA: 175s - loss: 3.9802 - dense_2_loss: 0.3861 - dense_3_loss: 1.2456 - dense_4_loss: 1.3790 - dense_5_loss: 0.7818 - dense_6_loss: 0.1705  - ETA: 170s - loss: 3.9704 - dense_2_loss: 0.3848 - dense_3_loss: 1.2424 - dense_4_loss: 1.3753 - dense_5_loss: 0.7804 - dense_6_loss: 0.1703 - dense_7_loss: - ETA: 169s - loss: 3.9677 - dense_2_loss: 0.3847 - dense_3_loss: 1.2415 - dense_4_loss: 1.3742 - dense_5_loss: 0.7798 - dense_6_loss: 0.1702 - dense_7_loss: 0.017135278/135278 [==============================] - 907s - loss: 3.6596 - dense_2_loss: 0.3499 - dense_3_loss: 1.1408 - dense_4_loss: 1.2607 - dense_5_loss: 0.7309 - dense_6_loss: 0.1627 - dense_7_loss: 0.0146 - val_loss: 1.9336 - val_dense_2_loss: 0.1782 - val_dense_3_loss: 0.5627 - val_dense_4_loss: 0.6385 - val_dense_5_loss: 0.4337 - val_dense_6_loss: 0.1192 - val_dense_7_loss: 0.0013ss: 3.9445 - dense_2_loss: 0.3819 - dense_3_loss: 1.2336 - dense_4_loss: 1.3661 - dense_5_loss: 0.7763 - dense_6_loss: 0.1697 - dense_7_loss: - ETA: 155s - loss: 3.9412 - dense_2_loss: 0.3815 - dense_3_loss: 1.2323 - dense_4_loss: 1.3648 - dense_5_loss: 0.7759 - dense_6_loss: 0.1698 - - ETA: 151s - loss: 3.9316 - dense_2_loss: 0.3805 - dense_3_loss: 1.2291 - dense_4_loss: 1.3613 - dense_5_loss: 0.7744 - dense_6_loss: 0.1693 - dense_7_los - ETA: 149s - loss: 3.9283 - dense_2_loss: 0.3802 - dense_3_loss: 1.2279 - dense_4_loss: 1.3601 - dense_5_loss: 0.77 - ETA: 139s - loss: 3.9077 - dense_2_loss: 0.3778 - dense_3_loss: 1.2213 - dense_4_loss: 1.3524 - dense_5_loss - ETA: 128s - loss: 3.8860 - dense_2_loss: 0.3751 - dense_3_loss: 1.2151 - dense_4_loss: 1.3438  - ETA: 113s - loss: 3.8588 - dense_2_loss: 0.3725 - dense_3_loss: 1.2056 - dense_4_loss: 1.3339 - dense_5_loss: 0.7625 - dense_6_loss: 0.1681 - dense_7_loss: 0.01 - ETA: 113s - loss: 3.8587 - dense_2_loss: 0.3726 - dense_3_loss: 1.2055 - dense_4_loss: 1.3337 - dense_5_ - ETA: 101s  - ETA: 50s - loss: 3.7426 - dense_2_loss: 0.3597 - dense_3_loss: 1.1675 - dense_4_loss: 1.2911 - dense_5_ - ETA: 27s - loss: 3.7050 - dense_2_loss: 0.3551 - dense_3_loss: 1.1556 - dense_4_loss: 1.2774 - dense_5_loss: 0.73 - ETA: 0s - loss: 3.6606 - dense_2_loss: 0.3501 - dense_3_loss: 1.1411 - dense_4_loss: 1.2612 - dense_5_loss: 0.7310 - dense_6_loss: 0.1627 - dense_7_loss: 0.\n",
      "Epoch 2/20\n",
      "135278/135278 [==============================] - 896s - loss: 1.8336 - dense_2_loss: 0.1601 - dense_3_loss: 0.5472 - dense_4_loss: 0.5986 - dense_5_loss: 0.4027 - dense_6_loss: 0.1210 - dense_7_loss: 0.0040 - val_loss: 1.3295 - val_dense_2_loss: 0.1151 - val_dense_3_loss: 0.3873 - val_dense_4_loss: 0.4326 - val_dense_5_loss: 0.2916 - val_dense_6_loss: 0.1008 - val_dense_7_loss: 0.0021se - ETA: 775s - loss: 2.0873 - dense_2_loss: 0.1709 - dense_3_loss: 0.6203 - dense_4_loss: 0.6891 - dense_5_loss: 0.4747 - dense_6_loss: 0.1297 - dense_7_loss: 0. - ETA: 774s - loss: 2.0896 - dense_2_loss: 0.1708 - dense_3_loss: 0.6214 - dense_4_loss: 0.6904 - dense_5_loss: 0.4748 - dense_6_loss: 0.1295 - dense - ETA: 771s - loss: 2.0927 - dense_2_loss: 0.1721 - dense_3_loss: 0.6225 - dense_4_loss: 0.6893 - dense_5_loss: 0.4767 -  - ETA: 762s - loss: 2.0874 - dense_2_loss: 0.1746 - dense_3_loss: 0.6233  - ETA: 744s - loss: 2.0616 - dense_2_loss: 0.1700 - dense_3_loss: 0.6187 - dense_4_loss: 0.6841 - dense_5_loss: 0.4628 - - ETA: 735s - loss: 2.0657 - dense_2_loss: 0.1718 - dense_3_loss: 0.6182 - dense_4_loss: 0.6847 - dense_5_loss: 0.4647 - dense_6_loss: 0.1245 - de - ETA: 732s - loss: 2.0630 - dense_2_loss: 0.1713 - dense_3_loss: 0.6165 - dense_4_loss: 0.6838 - dense_5_loss: 0.4640 - dense_6_loss: 0.1248 - dense_7_loss - ETA: 730s - loss: 2.0611 - dense_2_loss: 0.1721 - dense_3_loss: 0.6158 - dense_4_loss: - ETA: 715s - loss: 2.0595 - dense_2_loss: 0.1728 - dense_3_loss: 0.6132 - dense_4_loss: 0.6798 - dense_5_loss: 0.4639 - dense_6_loss: 0.1253 - dense_7_loss:  - ETA: 714s - loss: 2.0577 - dense_2_loss: 0.1726 - dense_3_loss: 0.6125 - dense_4_loss: 0.6785 - dense_5_loss: 0.4640 - dens - ETA: 706s - loss: 2.0533 - dense_2_loss: 0.1715 - dense_3_loss: 0.6123 - dense_4_loss: 0.6766 - dense_5_loss: 0.4628 - dense_6_loss: 0.1259 - dense_7_lo - ETA: 704s - loss: 2.0516 - dense_2_loss: 0.1714 - dense_3_loss: 0.6122 - dense_4_loss: 0.6758 - dense_5_loss: 0.46 - ETA: 694s - loss: 2.0580 - dense_2_loss: 0.1739 - dense_3_loss: 0.6148 - dense_4_loss: 0.6757 - dense_ - ETA: 682s - loss: 2.0548 - dense_2_loss: 0.1748 - dense_3_loss: 0.6135 - dense_4_loss: 0.6729 - dense_5_loss: 0.4602 - dense_6_loss: 0.1290 - dense_7_ - ETA: 680s - loss: 2.0543 - d - ETA: 653s - loss: 2.0312 - dense_2_loss: 0.1718 - dense_3_loss: 0.6055 - dense_4_loss: 0.6643 - dense_5_loss: 0.4549 - dense_6_loss: - ETA: 647s - loss: 2.0287 - dense_2_loss: 0.1708 - dense_3_loss: 0.6068 - dense_4_loss: 0.6649 - dense_5_loss: 0.4528 - dense_6_los - ETA: 641s - loss: 2.0251 - dense_2_loss: 0.1704 - dense_3_loss: 0.6069 - dense_4_loss: 0.6650 - dense_5_loss: 0.4507 - dense_6_loss: 0.1282 - dens - ETA: 638s - loss: 2.0259 - dense_2_loss: 0.1702 - dense_3_loss: 0.6079 - dense_4_loss: 0. - ETA: 623s - loss: 2.0226 - dense_2_loss: 0.1710 - dense_3_loss: 0.60 - ETA: 604s - loss: 2.0107 - dense_2_loss: 0.1697 - dense_3_loss: 0.6025 - dense_4_loss: 0.6591 - dense_ - ETA: 525s - loss: 1.9798 - dense_2_loss: 0.1676 - dense_3_loss: 0.5912 - dense_4_loss: 0.6496 - dense_5_loss: 0.4426 - dense_6_loss: 0.1250 - dense_7_ - ETA: 522s - loss: 1.9791 - dense_2_loss: 0.1678 - dense_3_loss: 0.5908 - dense_4_loss: 0.6494 - dense_5_loss: 0.4425 - dense_6_loss: 0.1248 - dense_7_loss:  - ETA: 521s - loss: 1.9781 - dense_2_loss: 0.1679 - dense_3_loss: 0.5903 - dense_4_loss: 0.6491 - dense_5_loss: 0.4422 - dense_6_los - ETA: 291s - loss: 1.9172 - dense_2_loss: 0.1652 - dense_3_loss: 0 - ETA: 205s - loss: 1.8878 - dense_2_loss: 0.1631 - dense_3_loss: 0.5632 - dense_4_loss: 0.6164 - dense_5_loss: 0.4183 - dense_6_loss: 0.1231 - dense_7_l - ETA: 203s - loss: 1.8868 - dense_2_loss: 0.1630 - dense_3_loss: 0.5628 - dense_4_loss: 0.6163 - dense_5_loss: 0.4180 - dense_6_loss: 0.1230 - dense_7_l - ETA: 201s - loss: 1.8862 - dense_2_loss: 0.1631 - dense_3_loss: 0.5626 - dense_4_loss: 0.6159 - de - ETA: 188s - loss: 1.8832 - dense_2_loss: 0.1630 - - ETA: 165s - loss: 1.8776 - dense_2_loss: 0.1624 - dense_3_loss: 0.5592 - dense_4_loss: 0.6134  - ETA: 151s - loss: 1.8752 - dense_2_loss: 0.1627 - dense_3_loss: 0.5579 - dense_4_loss: 0.6120 - dense_5_loss: 0.4155 - dense_6_loss: 0.1230 - d - ETA: 147s - loss: 1.8735 - dense_2_loss: 0.1625 - dense_3_loss: 0.5576 - dense_4_loss: 0. - ETA: 82s - loss: 1.8570 - dense_2_loss: 0.1614 - dense_3_loss: 0.5527 - dense_4_loss: 0.6071 - dense_5_loss: 0.4098 - dense_6_los - ETA: 78s - loss: 1.8566 - dense_2_loss: 0.1615 - dense_3_loss: 0.5525 - dense_4_loss: 0.6068 - dense_5_loss: 0.4098 - dense_6_loss: 0 - ETA: 59s - loss: 1.8516 - dense_2_loss: 0.1615 - dense_3_loss: 0.5520 - dense_4_loss: 0.6040 - dense_5_loss: 0.4084 - dense_6_loss: - ETA: 56s - loss: 1.8501 - dense_2_loss: 0.1612 - dense_3_loss: 0.5516 - dense_4_loss: 0.6036  - ETA: 49s - loss: 1.8494 - dense_2_loss: 0.1615 - dense_3_loss: 0.5512 - dense_4_loss: 0.6033 - dense_5_loss: 0.4076 - dense - ETA: 45s - loss: 1.8475 - dense_2_loss: 0.1613 - dense_3_loss: 0.5507 - dense_4_loss: 0.6027 - dense_5_loss: 0.4071 - den - ETA: 41s - loss: 1.8466 - dense_2_loss: 0.1612 - dense_3_loss: 0.5508 - dense_4_loss: 0.6022 - dense_5_loss:  - ETA: 35s - loss: 1.844\n",
      "Epoch 3/20\n"
     ]
    },
    {
     "name": "stdout",
     "output_type": "stream",
     "text": [
      " 36416/135278 [=======>......................] - ETA: 624s - loss: 1.4310 - dense_2_loss: 0.1176 - dense_3_loss: 0.4277 - dense_4_loss: 0.4628 - dense_5_loss: 0.3143 - dense_6_loss: 0.1048 - dense_7_loss: 0.0038    - ETA: 875s - loss: 1.4376 - dense_2_loss: 0.1016 - dense_3_loss: 0.4537 - dense_4_loss: 0.4837 - dense_5_loss: 0.3178 - dense_6_loss: 0.0807 -  - ETA: 868s - loss: 1.4777 - dense_2_loss: 0.1154 - dense_3_loss: 0.4425 - dense_4_loss: 0.4843 - dense_5_loss: 0.3350 - dense_6_loss: 0.1003 - d - ETA: 860s - loss: 1.4394 - dense_2_loss: 0.1080 - dense_3_loss: 0.4257 - dense_4_loss: 0.4653 - dense_5_loss: 0.3379 - dense_6_loss: 0.1025 - dense_7_loss: - ETA: 854s - loss: 1.4439 - dense_2_loss: 0.1089 - dense_3_loss: 0.4246 - dense_4_loss: 0.4665 - dense_5_loss: 0.3349 - dense_6_loss:  - ETA: 840s - loss: 1.4179 - dense_2_loss: 0.1074 - dense_3_loss: 0.4287 - dense_4_loss: 0.4615 - dense_5_loss: 0.3190 - dense_6_loss: 0.1013 - dense_7_loss: 1.0371e- - ETA: 839s - loss: 1.4300 - dense_2_loss: 0.1093 - dense_3_loss: 0.4302 - dense_4_loss: 0.4640 - dense_5_loss: 0.3255 - dense_6_loss: 0.1011 - dense_7_loss: 1.0227e- - ETA: 839s - loss: 1.4291 - dense_2_loss: 0.1093 - dense_3_loss: 0.4317 - dense_4_loss: 0.4628 - dense_5_loss: 0.3232 - dense_6_loss: 0.1021 - dense_7_lo - ETA: 834s - loss: 1.4400 - dense_2_loss: 0.1131 - dense_3_loss: 0.4357 - dense_4_loss: 0.4646 - dense_5_loss: 0.3238 - dense_6_loss: 0.0997 - dense_7_loss: 0.00 - ETA: 833s - loss: 1.4399 - dense_2_loss: 0.1130 - dense_3_loss: 0.4353 - dense_4_loss: 0.4635 - dense_5_loss: 0.3250 - dense_6_loss: 0.0998  - ETA: 826s - loss: 1.4545 - dense_2_loss: 0.1151 - dense_3_loss: 0.4424 - dense_4_loss: 0.4635 - dense_5_loss: 0.3283 - dense_6_loss: 0.1025 - dense_7_loss: 0. - ETA: 825s - loss: 1.4535 - dense_2_loss: 0.1152 - dense_3_loss: 0.4439 - dense_4_loss: 0.4638 - dense_5_loss: 0.3257 - dense_6_loss: 0.1023 - - ETA: 819s - loss: 1.4572 - dense_2_loss: 0.1157 - dense_3_loss: 0.4470 - dense_4_loss: 0.4658 - dense_5_loss: 0.3272 - dense_6_loss: 0.0991 - dense_7_loss: 0 - ETA: 818s - loss: 1.4605 - dense_2_loss: 0.1189 - dense_3_loss: 0.4465 - dense_4_loss: 0.4663 - dense_5_loss: 0.3258 - dense_6_loss: 0.1006 - dense_7_loss: 0.0 - ETA: 817s - loss: 1.4682 - dense_2_loss: 0.1191 - dense_3_loss: 0.4504 - dense_4_loss: 0.4699 - dense_5_loss: 0.3256 - dense_6 - ETA: 809s - loss: 1.4588 - dense_2_loss: 0.1191 - dense_3_loss: 0.4473 - dense_4_loss: 0.4678 - dense_5_loss: 0.3208 - dense_6_loss: 0.1017 -  - ETA: 804s - loss: 1.4606 - dense_2_loss: 0.1191 - dense_3_loss: 0.4487 - dense_4_loss: 0.4697 - dense_5_loss: 0.3191 - dense_6_loss: 0.1021 - dense_7_loss: 0.0 - ETA: 803s - loss: 1.4550 - dense_2_loss: 0.1179 - dense_3_loss: 0.4466 - dense_4_loss: 0.4689 - dense_5_loss: 0.3181 - dense_6_loss: 0.1017 - de - ETA: 799s - loss: 1.4531 - dense_2_loss: 0.1182 - dense_3_loss: 0.4439 - dense_4_loss: 0.4672 - dense_5_loss: 0 - ETA: 787s - loss: 1.4410 - dense_2_loss: 0.1194 - dense_3_loss: 0.4398 - dense_4_loss: 0.4601 - dense_5_loss: 0.3116 - dense_6_loss: 0.1087 - dens - ETA: 784s - loss: 1.4358 - dense_2_loss: 0.1187 - dense_3_loss: 0.4379 - dense_4_loss: 0.4614 - dense_5_loss: 0.3102 - dense_6_loss: 0.1064 - dense - ETA: 780s - loss: 1.4298 - dense_2_loss: 0.1175 - dense_3_loss: 0.4349 - dense_4_loss: 0.4595 - dense_5_loss: 0.3104 - dense_6_loss: 0.1063 - dense_7_loss:  - ETA: 779s - loss: 1.4261 - dense_2_loss: 0.1178 - dense_3_loss: 0.4319 - dense_4_loss: 0.4578 - dense_5_loss: 0.3097 - dense_6_loss: 0.10 - ETA: 774s - loss: 1.4287 - dense_2_loss: 0.1189 - dense_3_loss: 0.4307 - dense_4_loss: 0.4589 - dense_5_loss: 0.3121 - dense_6_loss - ETA: 767s - loss: 1.4264 - dense_2_loss: 0.1171 - dense_3_loss: 0.4323 - dense_4_loss: 0.4580 - dense_5_loss: 0.3117 - dense_6_loss: - ETA: 761s - loss: 1.4281 - dense_2_loss: 0.1161 - dense_3_loss: 0.4290 - dense_4_loss: 0.4620 - dense_5_loss: 0.3134 - dense_6_loss: 0.1055 -  - ETA: 757s - loss: 1.4311 - dense_2_loss: 0.1165 - dense_3_loss: 0.4269 - dense_4_loss: 0.4645 - dense_5_loss: 0.3145 - dense_6_loss: 0.1065 - dense_7_loss:  - ETA: 756s - loss: 1.4293 - dense_2_loss: 0.1164 - dense_3_loss: 0.4267 - dense_4_loss: 0.4639 - dense_5_loss: 0.3140 - dense_6_loss: 0.1063 - den - ETA: 752s - loss: 1.4348 - dense_2_loss: 0.1170 - dense_3_loss: 0.4279 - dense_4_loss: 0.4656 - dense_5_loss: 0.3161 - dense_6_loss: 0.1062 - dense_ - ETA: 749s - loss: 1.4330 - dense_2_loss: 0.1178 - dense_3_loss: 0.4270 - dense_4_loss: 0.4635 - dense_5_loss: 0.3169 - dense_6_loss: 0.1058 -  - ETA: 745s - loss: 1.4402 - dense_2_loss: 0.1187 - dense_3_loss: 0.4287 - dense_4_loss: 0.4671 - dense_5_loss: 0.3183 - dense_6_loss: 0.1055 - dense_7_loss: - ETA: 743s - loss: 1.4410 - dense_2_loss: 0.1186 - dense_3_loss: 0.4286 - dense_4_loss: 0.4671 - dense_5_loss: 0.3196 - dense_6_loss: 0.1053 - dense_7_loss - ETA: 742s - loss: 1.4378 - dense_2_loss: 0.1180 - dense_3_loss: 0.4273 - dense_4_loss: 0.4655 - dense_5_loss: 0.3200 - dense_6_loss: 0.1052 - dense_7_loss: 0 - ETA: 740s - loss: 1.4336 - dense_2_loss: 0.1174 - dense_3_loss: 0.4270 - dense_4_loss: 0.4638 - dense_5_loss: 0.3186 - dense_6_loss: 0.1049 - dense_7_loss - ETA: 739s - loss: 1.4337 - dense_2_loss: 0.1176 - dense_3_loss: 0.4268 - dense_4_loss: 0.4642 - dense_5_loss: 0.3186 - dense_6_loss: 0.1048 - dense_7_loss: 0 - ETA: 738s - loss: 1.4323 - dense_2_loss: 0.1176 - dense_3_loss: 0.4263 - dense_4_loss: 0.4636 - dense_5_loss: 0.3188 - dense_6_loss: 0.1042 - dense_7_loss: 0. - ETA: 737s - loss: 1.4324 - dense_2_loss: 0.1172 - dense_3_loss: 0.4272 - dense_4_loss: 0.4638 - den - ETA: 724s - loss: 1.4279 - dense_2_loss: 0.1155 - dense_3_loss: 0.4305 - dense_4_loss: 0.4600 - dense_5_loss: 0.3165 - dense_6_loss: 0.1030 - dense_7_loss:  - ETA: 723s - loss: 1.4288 - dense_2_loss: 0.1160 - dense_3_loss: 0.4302 - dense_4_loss: 0.4619 - dense_5_loss: 0.3155 - dense_6_loss: 0.1029 - dense_7 - ETA: 720s - loss: 1.4261 - dense_2_loss: 0.1161 - dense_3_loss: 0.4300 - dense_4_loss: 0.4601 - dense_5_loss: 0.3154 - dense - ETA: 712s - loss: 1.4251 - dense_2_loss: 0.1162 - dense_3_loss: 0.4292 - dense_4_loss: 0.4603 - dense_5_loss: 0.3143 - dense_6_loss: 0.1030 - dense_7_loss: 0 - ETA: 711s - loss: 1.4261 - dense_2_loss: 0.1166 - dense_3_loss: 0.4290 - dense_4_loss: 0.4605 - dense_5_loss: 0.3148 - dense_6_loss: 0.1031 - dense_7_loss: 0. - ETA: 710s - loss: 1.4261 - dense_2_loss: 0 - ETA: 686s - loss: 1.4313 - dense_2_loss: 0.1171 - dense_3_loss: 0.4264 - dense_4_loss: 0.4658 - dense_5_loss: 0.3158 - dense_6_loss: 0.1032 - dense_7_ - ETA: 684s - loss: 1.4329 - dense_2_loss: 0.1170 - dense_3_loss: 0.4277 - dense_4_loss: 0.4661 - dense_5_loss: 0.3163 - dense_6_loss: 0.1029 - dense_7_loss: 0.0 - ETA: 683s - loss: 1.4347 - dense_2_loss: 0.1174 - dense_3_loss: 0.4279 - dense_4_loss: 0.4662 - dense_5_loss: 0.3166 - dense_6_loss: 0.1038 - dense_7_loss: 0.0 - ETA: 683s - loss: 1.4337 - dense_2_loss: 0.1172 - dense_3_loss: 0.4283 - dense_4_loss: 0.4659 - dense_5_loss: 0.3160 - dense_6_loss: 0.1 - ETA: 677s - loss: 1.4314 - dense_ - ETA: 651s - loss: 1.4332 - dense_2_loss: 0.1175 - dense_3_loss: 0.4260 - dense_4_loss: 0.4645 - dense_5_loss: 0.3176 - dense_6_loss: 0.1048 - dense_7_loss: 0.00 - ETA: 651s - loss: 1.4327 - dense_2_loss: 0.1175 - dense_3_loss: 0.4257 - dense_4_loss: 0.4642 -  - ETA: 638s - loss: 1.4289 - dense_2_loss: 0.1179 - dense_3_loss: 0.4254 - dense_4_loss: 0.4625 - dense_5_loss: 0.3158 - dense_6_los - ETA: 631s - loss: 1.4304 - dense_2_loss: 0.1178 - dense_3_loss: 0.4261 - dense_4_loss: 0.4621 - dense_5_loss: 0.3153 - dense_6_loss: 0.1052 - dense_7_l - ETA: 629s - loss: 1.4318 - dense_2_loss: 0.1178 - dense_3_loss: 0.4270 - dense_4_loss: 0.4622 - dense_5_loss: 0.3158 - dense_6_loss: 0.1053 - den - ETA: 625s - loss: 1.4314 - dense_2_loss: 0.1177 - dense_3_loss: 0.4276 - dense_4_loss: 0.4629 - dense_5_loss: 0.3145 - dense_6_loss: 0.1049 - dense_7_loss: 0 - ETA: 624s - loss: 1.4317 - dense_2_loss: 0.1177 - dense_3_loss: 0.4279 - dense_4_loss: 0.4632 - dense_5_loss: 0.3144 - dense_6_loss: 0.1048 - dense_7_loss: 0.0 - ETA: 624s - loss: 1.4304 - dense_2_loss: 0.1175 - dense_3_loss: 0.4276 - dense_4_loss: 0.4627 - dense_5_loss: 0.3141 - dense_6_loss: 0.1047 - dense_7_loss: 0.0038"
     ]
    },
    {
     "name": "stdout",
     "output_type": "stream",
     "text": [
      " 71712/135278 [==============>...............] - ETA: 401s - loss: 1.4261 - dense_2_loss: 0.1206 - dense_3_loss: 0.4306 - dense_4_loss: 0.4594 - dense_5_loss: 0.3051 - dense_6_loss: 0.1060 - dense_7_loss: 0.0043- ETA: 615s - loss: 1.4344 - dense_2_loss: 0.1186 - dense_3_loss: 0.4283 - dense_4_loss: 0.4636 - dense_5_loss: 0.3145 - dense_6_loss: 0.1048 - dense_7_lo - ETA: 613s - loss: 1.4340 - dense_2_loss: 0.1186 - dense_3_loss: 0.4288 - dense_4_loss: 0.4632 - dense_5_loss: 0.3143 - dense_6_loss: 0.1047  - ETA: 609s - loss: 1.4346 - dense_2_loss: 0.1183 - dense_3_loss: 0.4289 - dense_4_loss: 0.4638 - dense_5_loss: 0.3144 - dense_6_loss: 0.1050 - d - ETA: 605s - loss: 1.4353 - dense_2_loss: 0.1188 - dense_3_loss: 0.4289 - dense_4_loss: 0.4629 - dense_5_loss: 0.3142 - dense_6_loss: 0.1053 - dense_7_loss:  - ETA: 603s - loss: 1.4338 - dense_2_loss: 0.1185 - dense_3_loss: 0.4285 - dense_4_loss: 0.4626 - dense_5_loss: 0.314 - ETA: 594s - loss: 1.4305 - dense_2_loss: 0.1183 - dense_3_loss: 0.4285 - dense_4_loss: 0.4612 - dense_5_loss: 0.3124 - dense_6_loss: - ETA: 588s - loss: 1.4320 - dense_2_loss: 0.1185 - dense_3_loss: 0.4285 - dense_4_loss: 0.4609 - dense_5_loss: 0.3131 - dense_6_loss: 0.1059 - dense_7 - ETA: 585s - loss: 1.4317 - dense_2_loss: 0.1184 - dense_3_loss: 0.4285 - dense_4_loss: 0.4603 - dense_5_loss: 0.3133 - dense_6_loss: 0. - ETA: 580s - loss: 1.4303 - dense_2_loss: 0.1185 - dense_3_loss: 0.4276 - dense_4_loss: 0.4604 - dense_5_loss: 0.3129 - dense_6_loss: 0. - ETA: 574s - loss: 1.4318 - dense_2_loss: 0.1185 - dense_3_loss: 0.4282 - dense_4_loss: 0.4611 - dense_5_loss: 0.3130 - dense_6_loss: 0 - ETA: 568s - loss: 1.4313 - dense_2_loss: 0.1184 - dense_3_loss: 0.4290 - dense_4_loss: 0.4613 - dense_5_loss: 0.3119 - dense_6_loss: 0.1059 - dense_7_l - ETA: 566s - loss: 1.4313 - dense_2_loss: 0.1182 - dense_3_loss: 0.4289 - dense_4_loss: 0.4615 - dense_5_loss: 0.3120 - dense_6 - ETA: 559s - loss: 1.4309 - dense_2_loss: 0.1189 - dense_3_loss: 0.4274 - dense_4_loss: 0.4618 - dense_5_loss: 0.3119 - dense_6_loss: 0.10 - ETA: 554s - loss: 1.4305 - dense_2_loss: 0.1189 - dense_3_loss: 0.4272 - dense_4_loss: 0.4616 - dense_5_loss: 0.3116 - dense_6_loss: 0.1064 - dense_7_loss: 0.00 - ETA: 553s - loss: 1.4303 - dense_2_loss: 0.1188 - dense_3_loss: 0.4269 - dense_4_loss: 0.4616 - dense_5_loss: 0.3117 - dense_6_loss: 0.1064 - dense_7_loss:  - ETA: 552s - loss: 1.4297 - dense_2_loss: 0.1187 - dense_3_loss: 0.4264 - dense_4_loss: 0.4616 - dense_5_loss: 0.3114 - dense_6_loss: 0.1067 - dense_7_loss: 0.004 - ETA: 552s - loss: 1.4301 - dense_2_loss: 0.1187 - dense_3_loss: 0.4267 - dense_4_loss: 0.4617 - dense_5_loss: 0.3115 - dense_6_loss: 0.1068 - dense_7_loss - ETA: 550s - loss: 1.4302 - dense_2_loss: 0.1188 - dense_3_loss: 0.4264 - dense_4_loss: 0.4616 - dense_5_loss: 0.3116 - dense_6_loss: 0.1069 - dense_7_loss: 0.004 - ETA: 550s - loss: 1.4304 - dense_2_loss: 0.1188 - dense_3_loss: 0.4265 - dense_4_loss: 0.4615 - dense_5_loss: 0.3118 - dense_6_loss: 0.1070 - dense_7_loss: 0.00 - ETA: 550s - loss: 1.4310 - dense_2_loss: 0.1188 - dense_3_loss: 0.4271 - dense_4_loss: 0.4617 - dense_5_loss: 0.3116 - dense_6_loss: 0.1070 - dense_7_loss: 0 - ETA: 549s - loss: 1.4325 - dense_2_loss: 0.1189 - dense_3_loss: 0.4279 - dense_4_loss: 0.4620 - dense_5_loss: 0.3120 - de - ETA: 540s - loss: 1.4304 - dense_2_loss: 0.1193 - dense_3_loss: 0.4282 - dense_4_loss: 0.4606 - dense_5_loss: 0.3107 - dense_6_loss: 0.1068 - dense_7_loss: - ETA: 539s - loss: 1.4311 - dense_2_loss: 0.1193 - dense_3_loss: 0.4283 - dense_4_loss: 0.4609 - dense_5_loss: 0.3109 - dense_6_loss: 0.1070 - dense_7_l - ETA: 536s - loss: 1.4291 - dense_2_loss: 0.1191 - dense_3_loss: 0.4284 - dense_4_loss: 0.4601 - dense_5_loss: 0.3104 - dense_6_loss: 0.1064 - dense_7_loss:  - ETA: 535s - loss: 1.4289 - dense_2_loss: 0.1191 - dense_3_loss: 0.4284 - dense_4_loss: 0.4602 - dense_5_loss: 0.3102 - dense_6_loss: 0.1065 - dense_7_loss: 0 - ETA: 534s - loss: 1.4280 - dense_2_loss: 0.1191 - dense_3_loss: 0.4281 - dense_4_loss: 0.4597 - dense_5_loss: 0.3101 - dense_6_loss: 0.106 - ETA: 529s - loss: 1.4263 - dense_2_loss: 0.1189 - dense_3_loss: 0.4275 - dense_4_loss: 0.4591 - dense_5_loss: 0.3100 - dense_6_loss: 0.1061 - - ETA: 525s - loss: 1.4232 - dense_2_loss: 0.1183 - dense_3_loss: 0.4271 - dense_4_loss: 0.4583 - dense_5_loss: 0.3087  - ETA: 516s - loss: 1.4252 - dense_2_loss: 0.1189 - dense_3_loss: 0.4275 - dense_4_loss: 0.4591 - dense_5_loss: 0.3089 - dense_6_loss: 0.1061  - ETA: 511s - loss: 1.4253 - dense_2_loss: 0.1190 - dense_3_loss: 0.4272 - dense_4_loss: 0.45 - ETA: 497s - loss: 1.4227 - dense_2_loss: 0.1184 - dense_3_loss: 0.4282 - dense_4_loss: 0.4582 - dense_5_loss - ETA: 486s - loss: 1.4229 - dense_2_loss: 0.1189 - dense_3_loss: 0.4292 - dense_4_loss: 0.4575 - dense_5_loss: 0.3064 -  - ETA: 477s - loss: 1.4215 - dense_2_loss: 0.1186 - dense_3_loss: 0.4294 - dense_4_loss: 0.4569 - dense_5_loss: 0.3058 - dense_6_loss: 0.1064 - dense_7_loss: 0 - ETA: 476s - loss: 1.4205 - dense_2_loss: 0.1184 - dense_3_loss: 0.4292 - dense_4_loss: 0.4568 - dense_5_loss: 0.3054 - d - ETA: 468s - loss: 1.4208 - dense_2_loss: 0.1188 - dense_3_loss: 0.4295 - dense_4_loss: 0.4569 - dense_5_loss: 0.3047 - dense_6_loss: 0.1065 - dens - ETA: 465s - loss: 1.4209 - dense_2_loss: 0.1189 - dense_3_loss: 0.4298 - dense_4_loss: 0.4568 - dense_5_loss: 0.3050 - dense_6_loss: 0.1061 - dense_7_l - ETA: 463s - loss: 1.4202 - dense_2_loss: 0.1188 - dense_3_loss: 0.4296 - dense_4_loss: 0.4567 - dense_5_loss: 0 - ETA: 452s - loss: 1.4196 - dense_2_loss: 0.1187 - dense_3_loss: 0.4304 - dense_4_loss: 0.4563 - dense_5_loss: 0.3042 - dense_6_loss: 0.1057 - dense_7 - ETA: 450s - loss: 1.4189 - dense_2_loss: 0.1188 - dense_3_loss: 0.4302 - dense_4_loss: 0.4560 - dense_5_loss: 0.3039 - dense_6_loss: 0.1056 - dense_7_loss: 0.004 - ETA: 450s - loss: 1.4192 - dense_2_loss: 0.1189 - dense_3_loss: 0.4302 - dense_4_loss: 0.4562 - dense_5_loss: 0.3039 - d - ETA: 441s - loss: 1.4195 - dense_2_loss: 0.1193 - dense_3_loss: 0.4298 - dense_4_loss: 0.4566 - dense_5_loss: 0.3038 - dense_6_loss: 0.1058 - dense_7_loss: 0.0 - ETA: 440s - loss: 1.4195 - dense_2_loss: 0.1193 - dense_3_loss: 0.4298 - dense_4_loss: 0.4566 - dense_5_loss: 0.3037 - de - ETA: 432s - loss: 1.4229 - dense_2_loss: 0.1199 - dense_3_loss: 0.4305 - dense_4_loss: 0.4576 - dense_5_loss: 0.3041 - dense_6_loss: 0.1062 - dense_7_l - ETA: 430s - loss: 1.4240 - dense_2_loss: 0.1202 - dense_3_loss: 0.4308 - dense_4_loss: 0.4576 - dense_5_loss: 0.3044 - dense_6_loss: 0.1063 - dense_7_loss - ETA: 428s - loss: 1.4236 - dense_2_loss: 0.1202 - dense_3_loss: 0.4307 - dense_4_loss: 0.4577 - dense_5_loss: 0.3 - ETA: 419s - loss: 1.4241 - dense_2_loss: 0.1204 - dense_3_loss: 0.4306 - dense_4_loss: 0.4585 - dense_5_loss: 0.3043 - dense_6_loss: 0.1059 - dense_7_loss: 0. - ETA: 418s - loss: 1.4239 - dense_2_loss: 0.1203 - dense_3_loss: 0.4304 - dense_4_loss: 0.4587 - dense_5_loss: 0.3042 - dense_6_loss: 0.1058 - dense_ - ETA: 415s - loss: 1.4245 - dense_2_loss: 0.1203 - dense_3_loss: 0.4301 - dense_4_loss: 0.4590 - dense_5_loss: 0.3046 - dense_6_loss: 0.1061 - dense_7_loss: 0.004 - ETA: 415s - loss: 1.4244 - dense_2_loss: 0.1202 - dense_3_loss: 0.4302 - dense_4_loss: 0.4590 - dense_5_loss: 0.3045 - dense_6_loss: 0.1061 - dense_7_loss: 0. - ETA: 414s - loss: 1.4245 - dense_2_loss: 0.1201 - dense_3_loss: 0.4302 - dense_4_loss: 0.4591 - dense_5_loss: 0.3045 - dense_6_loss: 0.1061 - dense_7_loss:  - ETA: 413s - loss: 1.4248 - dense_2_loss: 0.1201 - dense_3_loss: 0.4302 - dense_4_loss: 0.4589 - dense_5_loss: 0.3049 - dense_6_loss: 0.1062 - dense_7_loss: 0.0 - ETA: 412s - loss: 1.4252 - dense_2_loss: 0.1201 - dense_3_loss: 0.4305 - dense_4_loss: 0.4591 - dense_5_loss: 0.3049 - dense_6_loss: 0.1062 - dense_7_loss - ETA: 411s - loss: 1.4251 - dense_2_loss: 0.1201 - dense_3_loss: 0.4306 - dense_4_loss: 0.4591 - dense_5_loss: 0.3047 - dense_6_loss: 0. - ETA: 405s - loss: 1.4268 - dense_2_loss: 0.1206 - dense_3_loss: 0.4311 - dense_4_loss: 0.4598 - dense_5_loss: 0.3049 - dense_6_loss: 0.1060 - - ETA: 401s - loss: 1.4263 - dense_2_loss: 0.1207 - dense_3_loss: 0.4305 - dense_4_loss: 0.4595 - dense_5_loss: 0.3052 - dense_6_loss: 0.1060 - dense_7_loss: 0.0043"
     ]
    },
    {
     "name": "stdout",
     "output_type": "stream",
     "text": [
      "135278/135278 [==============================] - 887s - loss: 1.3900 - dense_2_loss: 0.1197 - dense_3_loss: 0.4190 - dense_4_loss: 0.4448 - dense_5_loss: 0.2989 - dense_6_loss: 0.1035 - dense_7_loss: 0.0041 - val_loss: 1.1741 - val_dense_2_loss: 0.1206 - val_dense_3_loss: 0.3716 - val_dense_4_loss: 0.3459 - val_dense_5_loss: 0.2486 - val_dense_6_loss: 0.0853 - val_dense_7_loss: 0.0020se_4_loss: 0.4596 - dense_5_loss: 0.3048 - dense_6_loss: 0.1057 - - ETA: 380s - loss: 1.4240 - dense_2_loss: 0.1203 - dense_3_loss: 0.4292 - dense_4_loss: 0.4591 - dense_5_loss: 0.3049 - ETA: 370s - loss: 1.4216 - dense_2_loss: 0.1195 - dense_3_loss: 0.4286 - dense_4_loss: 0.4586 - dense_5_loss: 0.3045 - dense_6_los - ETA: 364s - loss: 1.4207 - dense_2_loss: 0.1195 - dense_3_loss: 0.4285 - dense_4_loss: 0.4580 - dense_5_loss: 0.3044 - dense_6_loss: 0.1059 - - ETA: 360s - loss: 1.4207 - dense_2_loss: 0.1194 - dense_3_loss: 0.4284 - dense_4_loss: 0.4578 - dense_5_loss: 0.3048 - d - ETA: 351s - loss: 1.4198 - dense_2_loss: 0.1198 - dense_3_loss: 0.4278 - dense_4_loss: 0.4576 - dense_5_loss: 0.3047 - dense_6_loss: 0.1057 - dense_7_loss: 0.0 - ETA: 350s - loss: 1.4197 - dense_2_loss: 0.1197 - dense_3_loss: 0.4277 - dense_4_loss: 0.4576 - dense_5_loss: 0.3047 - dense_6_loss: 0.1056 - d - ETA: 347s - loss: 1.4190 - dense_2_loss: 0.1197 - dense_3_loss: 0.4272 - dense_4_loss: 0.4576 - dense_5_loss: 0.3045 - dense_6_loss: 0.1058 - dense_7_loss - ETA: 345s - loss: 1.4186 - dense_2_loss: 0.1195 - dense_3_loss: 0.4273 - dense_4_loss: 0.4574 - dense_5_loss: 0.3045 - dense_6 - ETA: 338s - loss: 1.4187 - dense_2_loss: 0.1196 - dense_3_loss: 0.4266 - dense_4_loss: 0.4572 - dense_5_loss: 0.3049 - dense_6_loss: 0.1062 - dense_7_loss: 0.004 - ETA: 337s - loss: 1.4187 - dense_2_loss: 0.1196 - dense_3_loss: 0.4265 - dense_4_loss: 0.4573 - dense_5_loss: 0.3049 - dense_6_loss: 0.1062 - dense_7_los - ETA: 336s - loss: 1.4176 - dense_2_loss: 0.1196 - dense_3_loss: 0.4262 - dense_4_loss: 0.4568 - dense_5_loss: 0.3049 -  - ETA: 327s - loss: 1.4184 - dense_2_loss: 0.1197 - dense_3_loss: 0.4266 - dense_4_loss: 0.4566 - dense_5_loss: 0.3052 - dense_6_loss: 0.1062 - d - ETA: 323s - loss: 1.4177 - dense_2_loss: 0.1195 - dense_3_loss: 0.4266 - dense_4_loss: 0.4565 - dense_5_loss: 0.3050 - dense_6_loss: 0.1059 - dense_7_loss: 0.004 - ETA: 323s - loss: 1.4180 - dense_2_loss: 0.1195 - dense_3_loss: 0.4268 - dense_4_loss: 0.4566 - dense_5_loss: 0.3051 - dense_6_loss - ETA: 317s - loss: 1.4184 - dense_2_loss: 0.1197 - dense_3_loss: 0.4267 - dense_4_loss: 0.4564 - dense_5_loss: 0.3054 - dense_6_loss: 0.1063 - ETA: 312s - loss: 1.4186 - dense_2_loss: 0.1196 - dense_3_loss: 0.4270 - dense_4_loss: 0.4564 - dense_5_ - ETA: 300s - loss: 1.4166 - dense_2_loss: 0.1191 - dense_3_loss: 0.4269 - dense_4_loss: 0.4561 - dense_5_loss: 0.3049 - dense_6_loss: 0.1056 - dense_7_loss: 0.00 - ETA: 300s - loss: 1.4165 - dense_2_loss: 0.1192 - dense_3_loss: 0.4269 - dense_4_loss: 0.4561 - dense_5_loss: 0.3049 - dense_6_loss: 0.1056 - dense_7_loss: 0.00 - ETA: 299s - loss: 1.4162 - dense_2_loss: 0.1191 - dense_3_loss: 0.4268 - dense_4_loss: 0.4559 - dense_5_loss: 0.3048 - dense_6_loss: 0.105 - ETA: 295s - loss: 1.4151 - dense_2_loss: 0.1191 - dense_3_loss: 0.4264 - dense_4_loss: 0.4556 - dense_5_loss: 0.3045 - dense_6_loss:  - ETA: 289s - loss: 1.4151 - dense_2_loss: 0.1191 - dense_3_loss: 0.4269 - dense_4_loss: 0.4555 - dense_5_loss: 0.3043 - dense_6_los - ETA: 282s - loss: 1.4133 - dense_2_loss: 0.1187 - dense_3_loss: 0.4263 - dense_4_loss: 0.4549 - dense_5_loss: 0.3041 - dense_6_loss: 0.1056 - dense_7_ - ETA: 280s - loss: 1.4123 - dense_2_loss: 0.1185 - dense_3_loss: 0.4261 - dense_4_loss: 0.4545 - dense_5_loss: 0.3038 - dense_6_loss: 0.1057 - dense_7_loss: - ETA: 279s - loss: 1.4121 - dense_2_loss: 0.1185 - dense_3_loss: 0.4260 - dense_4_loss: 0.4544 - dense_5_loss: 0.3038 - dense_6_loss: 0.1058 - dense_7_loss: 0.0 - ETA: 278s - loss: 1.4118 - dense_2_loss: 0.1184 - dense_3_loss: 0.4258 - dense_4_loss: 0.4543 - dense_5_loss: 0.3038 - dense_ - ETA: 270s - loss: 1.4108 - dense_2_loss: 0.1183 - dense_3_loss: 0.4253 - dense_4_loss: 0.4537 - dense_5_loss: 0.3039 - dense - ETA: 263s - loss: 1.4097 - dense_2_loss: 0.1185 - dense_3_loss: 0.4246 - dense_4_loss: 0.4533 - dense_5_loss: 0.3038 - dense_6_loss: 0.1056 - dense_7_los - ETA: 261s - loss: 1.4093 - dense_2_loss: 0.1185 - dense_3_loss: 0.4244 - dense_4_loss: 0.4531 - dense_5_loss: 0.3036 - dense_6_loss: 0.1057 - dense_ - ETA: 258s - loss: 1.4091 - dense_2_loss: 0.1187 - dense_3_loss: 0.4246 - dense_4_loss: 0.4531 - dense_5_loss: 0.3032 - dense_6_loss:  - ETA: 252s - loss: 1.4090 - dense_2_loss: 0.1189 - dense_3_loss: 0.4243 - dense_4_loss: 0.4531 - dense_5_loss: 0.3031 - dense_6_loss - ETA: 246s - loss: 1.4063 - dense_2_loss: 0.1183 - dense_3_loss: 0.4240 - dense_4_loss: 0.4521 - dense_5_loss: 0.3026 - dense_6_loss: 0.1053  - ETA: 242s - loss: 1.4062 - dense_2_loss: 0.1182 - ETA: 92s - loss: 1.3979 - dense_2_loss: 0.1195 - dense_3_loss: 0.4224 - dense_4_loss: 0.4476 - dense_5_loss: 0.3014 - dense_6_loss: 0.1028 - dense_7_ - ETA: 91s - loss: 1.3979 - dense_2_loss: 0.1195 - dense_3_loss: 0.4224 - dense_4_loss: 0.4477 - dense_5_loss: 0.3014 - dense_6_loss: 0.1028  - ETA: 89s - loss: 1.3975 - dense_2_loss: 0.1196 - dense_3_loss: 0.4221 - dense_4_loss: 0.4477 - dense_5_loss: 0.3012 - dense_6_loss: 0.1029 - dens\n",
      "Epoch 4/20\n",
      "135278/135278 [==============================] - 910s - loss: 1.1560 - dense_2_loss: 0.1006 - dense_3_loss: 0.3516 - dense_4_loss: 0.3632 - dense_5_loss: 0.2454 - dense_6_loss: 0.0911 - dense_7_loss: 0.0042 - val_loss: 0.8965 - val_dense_2_loss: 0.0807 - val_dense_3_loss: 0.2684 - val_dense_4_loss: 0.2811 - val_dense_5_loss: 0.1928 - val_dense_6_loss: 0.0713 - val_dense_7_loss: 0.0021loss: 0.0984 - dense_3_loss: 0.3581 - dense_4_loss: 0.3733 - dense_5_loss: 0.2510 - dense_6_loss: 0.0917 - dense_7_loss: 2.44 - ETA: 747s - loss: 1.1769 - dense_2_loss: 0.0996 - dense_3_loss: 0.3590 - dense_ - ETA: 725s - loss: 1.1705 - dense_2_loss: 0.1005 - dense_3_loss: 0 - ETA: 701s - loss: 1.1744 - - ETA: 501s - loss: 1.1755 - dense_2_loss: 0.1027 - dense_3_loss: 0.3545 - dense_4_loss: 0.3684 - dense_5_loss: 0.2517 - dense_6_loss: 0.0941 - dense_7_loss - ETA: 499s - loss: 1.1757 - dense_2_loss: 0.1028 - dense_3_loss: 0.3544 - dense_4_loss: 0.3684 - dense_5_loss: 0.2518 - dense_6_loss: 0.0942 - dense_7_loss - ETA: 497s - loss: 1.1768 - dense_2_loss: 0.1027 - dense_3_loss: 0.3549 - dense_4_loss: 0.3688 - dense_5_loss: 0.2518 - dense_6_loss: 0.0946  - ETA: 492s - loss: 1.1765 - dense_2_loss: 0.1027 - dense_3_loss: 0.3550 - dense_4_loss: 0.3687 - dense_5_loss: 0.2518 - dense_6_loss: 0.0943 - dense_7_loss - ETA: 491s - loss: 1.1757 - dense_2_loss: 0.1025 - dense_3_loss: 0.3547 - dense_4_loss: 0.3684 - dense_5_loss: 0.2517 - dense_6_loss: - ETA: 484s - loss: 1.1789 - dense_2_loss: 0.1029 - dense_3_loss: 0.3557 - dense_4_loss: 0.3693 - dense_5_loss: 0.2522 - dense -  - ETA: 46s - loss: 1.1555 - dense_2_loss: 0.1004 - dense_3_loss: 0.3515 - dense_4_loss: 0.3622 - dense_5_lo - ETA: 40s - loss: 1.1560 - dense_2_loss: 0.1005 - dense_3_loss: 0.3516 - dense_4 - ETA: 31s - loss: 1.1560 - dense_2_loss: 0.1006 - dense_3_loss: 0.3513 - dense_4_loss: 0.3622 - dense_5_loss: 0.2464 - dense_6_loss: 0.0913 - dense_7_loss: 0. - ETA: 31s - loss: 1.1559 - dense_2_loss: 0.1005 - dense_3_loss - ETA: 20s - loss: 1.1556 - dense_2_loss: 0.1004 - dense_3_loss: 0.3515 - dense_4_loss: 0.3620 - dense_5_loss: 0.2460 - dense_6_loss: 0.0914 - dense_7_loss: 0. - ETA: 20s - loss: 1.1557 - dense_2_loss: 0.1004 - dense_3_loss: 0.3516 - dense_4_loss: 0.3621 - dense_5_loss: 0.2459 - - ETA: 15s - loss: 1.1560 - dense_2_loss: 0.1005 - dense_3_loss: 0.3517 - dense_4_loss: 0.3 - ETA: 6s - loss: 1.1558 - dense_2_loss: 0.1004 - dense_3_loss: 0.3516 - dense_4_loss: 0.3627 - dense_5_loss: 0.2456 - dense_6_l\n",
      "Epoch 5/20\n"
     ]
    },
    {
     "name": "stdout",
     "output_type": "stream",
     "text": [
      " 67680/135278 [==============>...............] - ETA: 434s - loss: 1.0092 - dense_2_loss: 0.0866 - dense_3_loss: 0.3074 - dense_4_loss: 0.3187 - dense_5_loss: 0.2108 - dense_6_loss: 0.0806 - dense_7_loss: 0.0051- ETA: 837s - loss: 0.9908 - dense_2_loss: 0.0903 - dense_3_loss: 0.2954 - dense_4_loss: 0.3058 - dense_5_loss: 0.2050 - dense_6_loss: 0.0 - ETA: 829s - loss: 0.9825 - dense_2_loss: 0.0883 - dense_3_loss: 0.2970 - dense_4_loss: 0.3024 - dense_5_l - ETA: 812s - loss: 1.0025 - dense_2_loss: 0.0895 - dense_3_loss: 0.3005 - dense_4_loss: 0.3117 - dense_5_loss: 0.2085 - dense_6_ - ETA: 806s - loss: 1.0132 - dense_2_loss: 0.0903 - dense_3_loss: 0.3051 - dense_4_loss: 0.3160 - dense_5_loss: 0.2093 - dense_6_loss: 0.0909 - dense_7_loss: 0.0 - ETA: 806s - loss: 1.0117 - dense_2_loss: 0.0901 - dense_3_loss: 0.3048 - dense_4_loss: 0.3156 - dense_5_loss: 0.2093 - dense_6_loss: 0.0904 - dense_7_loss: 0 - ETA: 804s - loss: 1.0101 - dense_2_loss: 0.0901 - dense_3_loss: 0.3044 - dense_4_loss: 0.3149 - dense_5_loss: 0.2089 - dense_6_loss: 0.0904 - dense_7_loss: - ETA: 802s - loss: 1.0113 - dense_2_l - ETA: 777s - loss: 1.0023 - dense_2_loss: 0.0909 - dense_3_loss: 0.3089 - dense_4_loss: 0.3101 - dense_5_loss: 0.2015 - dense_6_loss: 0.0857  - ETA: 771s - loss: 1.0014 - dense_2_loss: 0.0898 - dense_3_loss: 0.3073 - dense_4_loss: 0.3113 - dense_5_loss: 0.2029 - dens - ETA: 761s - loss: 0.9928 - dense_2_loss: 0.0883 - dense_3_loss: 0.3046 - dense_4_loss: 0.3092 - dense_5_loss: 0.2016 - dense_6_loss: 0.0845 - dense_7_loss: 0.004 - ETA: 761s - loss: 0.9924 - dense_2_loss: 0.0882 - dense_3_loss: 0.3048 - dense_4_loss: 0.3090 - dense_5_loss: 0.2014 - dense_6_loss: 0.0845 - dense_7_loss: 0.0 - ETA: 760s - loss: 0.9944 - dense_2_loss: 0.0891 - dense_3_loss: 0.3045 - dense_4_loss: 0.3091 - dense_5_loss: 0.2016 - dense_6_loss:  - ETA: 754s - loss: 0.9928 - dense_2_loss: 0.0886 - dense_3_loss: 0.3051 - dense_4_loss: 0.3083 - dense_5_loss: 0.2012 - - ETA: 744s - loss: 0.9952 - dense_2_loss: 0.0881 - dense_3_loss: 0.3071 - dense_4_loss: 0.3086 - dense_5_loss: 0.2023 - dense_6_loss: 0.0851 - dense_7_loss: 0.0 - ETA: 744s - loss: 0.9936 - dense_2_loss: 0.0877 - dense_3_loss: 0.3065 - dense_4_loss: 0.3081 - dense_5_loss: 0.2024 - dense_6_loss: 0.08 - ETA: 738s - loss: 0.9967 - dense_2_loss: 0.0879 - dense_3_loss: 0.3075 - dense_4_loss: 0.3089 - dense_5_loss: 0.2026 - dense_6_loss: 0.0852 - dense_7_loss: 0.00 - ETA: 737s - loss: 0.9971 - dense_2_loss: 0.0878 - dense_3_loss: 0.3083 - dense_4_loss: 0.3087 - dense_5_loss: 0.2024 - dense_6_loss: 0.0853 - dense_7_loss: 0 - ETA: 736s - loss: 0.9962 - dense_2_loss: 0.0874 - dense_3_loss: 0.3083 - dense_4_loss: 0.3091 - dense_5_loss: 0.2021 - dense_6_loss: 0.0847 - dense - ETA: 733s - loss: 0.9991 - dense_2_loss: 0.0885 - dense_3_loss: 0.3076 - dense_4_loss: 0.3095 - dense_5_loss: 0.2024 - dense_6_loss: 0.0851 - dense_7_loss: 0.00 - ETA: 732s - loss: 0.9986 - dense_2_loss: 0.0885 - dense_3_loss: 0.3076 - dense_4_loss: 0.3093 - dense_5_loss: 0.2023 - dense_6_loss: 0.0850 - dense_7_loss: - ETA: 730s - loss: 0.9964 - dense_2_loss: 0.0880 - dense_3_loss: 0.3068 - dense_4_loss: 0.3084 - dense_5_loss: 0.2026 - dense_6_loss: 0.0846 - dense_7_loss: - ETA: 729s - loss: 0.9979 - dense_2_loss: 0.0887 - dense_3_loss: 0.3067 - dense_4_loss: 0.3087 - dense_5_loss: 0.2028 - dense_6_loss: 0.0845 - dense_7_loss: - ETA: 727s - loss: 1.0001 - dense_2_loss: 0.0894 - dense_3_loss: 0.3082 - dense_4_loss: 0.3090 - dense_5_loss: 0.2030 - d - ETA: 718s - loss: 1.0021 - dense_2_loss: 0.0891 - dense_3_loss: 0.3081 - dense_4_loss: 0.3110 - dense_5_loss: 0.2031 - dense_6_loss: 0.0840 - dense_7_loss: 0.0 - ETA: 717s - loss: 1.0021 - dense_2_loss: 0.0892 - dense_3_loss: 0.3081 - dense_4_loss: 0.3108 - dense_5_loss: 0.2032 - dense_6_loss: 0.083 - ETA: 712s - loss: 0.9992 - dense_2_loss: 0.0883 - dense_3_loss: 0.3077 - dense_4_loss: 0.3092 - dense_5_loss: 0.2036 - dense_6_loss: 0.0838 - dense_7_loss:  - ETA: 711s - loss: 1.0000 - dense_2_loss: 0.0878 - dense_3_loss: 0.3083 - dense_4_loss: 0.3096 - dense_5_loss: 0.2036 - dense_6_loss: 0.0840 - dense - ETA: 707s - loss: 0.9979 - dense_2_loss: 0.0877 - dense_3_loss: 0.3081 - dense_4_loss: 0.3085 - dense_5_loss: 0.2034 - dense_6_loss: 0.0833 - dense_7_loss:  - ETA: 706s - loss: 0.9964 - dense_2_loss: 0.0875 - dense_3_loss: 0.3079 - dense_4_loss: 0.3081 - dense_5_loss: 0.2030 - dense_6_loss: 0.0830 - dense_7 - ETA: 703s - loss: 0.9966 - dense_2_loss: 0.0883 - dense_3_loss: 0.3075 - dense_4_loss: 0.3078 - dense_5_loss: 0.2038 - dense_6_loss: 0.0824 - dense - ETA: 700s - loss: 0.9987 - dense_2_loss: 0.0886 - dense_3_loss: 0.3081 - dense_4_loss: 0.3083 - dense_5_loss: 0.2049 - dense_6_loss: 0.0821 - dens - ETA: 697s - loss: 0.9980 - dense_2_loss: 0.0886 - dense_3_loss: 0.3072 - dense_4_loss: 0.3088 - dense_5_loss: 0.2055 - dense_6_loss: 0.0816 - de - ETA: 693s - loss: 0.9982 - dense_2_loss: 0.0886 - dense_3_loss: 0.3074 - dense_4_loss: 0.3081 - dense_5_loss: 0 - ETA: 683s - loss: 1.0027 - dense_2_loss: 0.0896 - dense_3_loss: 0.3073 - dense_4_loss: 0.3097 - dense_5_loss: 0.2074 - dense_6_loss: 0.0821 - dense_7_loss:  - ETA: 682s - loss: 1.0027 - dense_2_loss: 0.0892 - dense_3_loss: 0.3076 - dense_4_loss: 0.3096 - dense_5_loss: 0.2075 - dense_6_loss:  - ETA: 676s - loss: 1.0030 - dense_2_loss: 0.0889 - dense_3_loss: 0.3078 - dense_4_loss: 0.3111 - dense_5_loss: 0.2073 - dense_6_loss - ETA: 669s - loss: 1.0035 - dense_2_loss: 0.0881 - dense_3_loss: 0.3066 - dense_4_loss: 0.3121 - dense_5_loss: 0.2082 - dense_6_loss: 0.0823 - dense_7_l - ETA: 667s - loss: 1.0045 - dense_2_loss: 0.0880 - dense_3_loss: 0.3076 - dense_4_loss: 0.3130 - dense_5_loss - ETA: 655s - loss: 1.0064 - dense_2_loss: 0.0885 - dense_3_loss: 0.3073 - dense_4_loss: 0.3142 - dense_5_loss: 0.2087 - dense_6_loss: 0.0818 - de - ETA: 651s - loss: 1.0049 - dense_2_loss: 0.0876 - dense_3_loss: 0.3077 - dense_4_loss: 0.3140 - dense_5_loss: 0.2084 - dense_6_loss: 0.0816 - dense_ - ETA: 648s - loss: 1.0039 - dense_2_loss: 0.0870 - dense_3_loss: 0.3079 - dense_4_loss: 0.3133 - dense_5_loss: 0.208 - ETA: 637s - loss: 1.0045 - dense_2_loss: 0.0872 - dense_3_loss: 0.3089 - dense_4_loss: 0.3130 - dense_5_loss: 0.2084 - dense_ - ETA: 630s - loss: 1.0016 - dense_2_loss: 0.0867 - dense_3_loss: 0.3084 - dense_4_loss: 0.3117 - dense_5_loss: 0.2076 -  - ETA: 620s - loss: 0.9986 - dense_2_loss: 0.0867 - dense_3 - ETA: 598s - loss: 0.9978 - dense_2_loss: 0.0865 - dense_3_loss: 0.3067 - dense_4_loss: 0.3114 - dense_5_loss: 0.2067 - dense_6_loss: 0.0805 - dense_7_ - ETA: 596s - loss: 0.9972 - dense_2_loss: 0.0864 - dense_3_loss: 0.3065 - dense_4_loss: 0.3113 - dense_5_loss: 0.2067 - dense_6_l - ETA: 588s - loss: 0.9972  - ETA: 497s - loss: 1.0080 - dense_2_loss: 0.0869 - dense_3_loss: 0.3089 - dense_4_loss: 0.3177 - dense_5_loss: 0.2089 - dense_6_loss: - ETA: 491s - loss: 1.0075 - dense_2_loss: 0.0869 - dense_3_loss: 0.3086 - dense_4_loss: 0.3177 - dense_5_loss: 0.2090 - dense_6_loss: 0.0798 - dense_7_loss: 0 - ETA: 490s - loss: 1.0081 - dense_2_loss: 0.0869 - dense_3_loss: 0.3088 - dense_4_loss: 0.3177 - dense_5_loss: 0.2094 - dense_6_l - ETA: 483s - loss: 1.0080 - dense_2_loss: 0.0868 - dense_3_loss: 0.3082 - dense_4_loss: 0.3176 - dense_5_loss: 0.2099 - dense_6 - ETA: 475s - loss: 1.0067 - dense_2_loss: 0.0866 - dense_3_loss: 0.3077 - dense_4_loss: 0.3169 - dense_5_loss: 0.2102 - dense_6_loss: 0. - ETA: 469s - loss: 1.0075 - dense_2_loss: 0.0865 - dense_3_loss: 0.3079 -  - ETA: 451s - loss: 1.0084 - dense_2_loss: 0.0865 - dense_3_loss: 0.3082 - dense_4_loss: 0.3179 - dense_5_loss: 0.2104 - dense_6_loss: 0.0801 - d - ETA: 447s - loss: 1.0100 - dense_2_loss: 0.0869 - dense_3_loss: 0.3081 - dense_4_loss: 0.3183 - dense_5_loss: 0.2110 - dense_6_loss: 0.0805 - dense_7_l - ETA: 444s - loss: 1.0102 - dense_2_loss: 0.0867 - dense_3_loss: 0.3080 - dense_4_loss: 0.3186 - dense_5_loss: 0.2111 - den - ETA: 436s - loss: 1.0104 - dense_2_loss: 0.0868 - dense_3_loss: 0.3081 - dense_4_loss: 0.3190 - dense_5_loss: 0.2108 - dense_6_loss: 0.0808 - dense_7_lo - ETA: 434s - loss: 1.0093 - dense_2_loss: 0.0866 - dense_3_loss: 0.3076 - dense_4_loss: 0.3187 - dense_5_loss: 0.2108 - dense_6_loss: 0.0806 - dense_7_loss: 0.0051135278/135278 [==============================] - 906s - loss: 1.0145 - dense_2_loss: 0.0862 - dense_3_loss: 0.3112 - dense_4_loss: 0.3201 - dense_5_loss: 0.2118 - dense_6_loss: 0.0809 - dense_7_loss: 0.0042 - val_loss: 0.8155 - val_dense_2_loss: 0.0730 - val_dense_3_loss: 0.2617 - val_dense_4_loss: 0.2503 - val_dense_5_loss: 0.1661 - val_dense_6_loss: 0.0623 - val_dense_7_loss: 0.0021_loss: 0.3085 - dense_4_loss: 0.3186 - dense_5_loss: 0.2103 - dense_6_loss: 0.0801 - dense_7_loss: - ETA: 402s - loss: 1.0094 - dense_2_loss: 0.0866 - dense_3_loss: 0.3084 - dense_4_loss: 0.3187 - dense_5_loss: 0.2104 - dense - ETA: 394s - loss: 1.0079 - dense_2_loss: 0.0862 - dense_3_l - ETA: 373s - loss: 1.0115 - dense_2_loss: 0.0869 - dense_3_loss: 0.3091 - dense_4_loss: 0.3182 - dense_5_loss: 0.2115 - dense_6_loss: 0.0805 - dense_7_loss: 0.0 - ETA: 372s - loss: 1.0112 - dense_2_loss: 0.0868 - dense_3_loss: 0.3090 - dense_4_lo - ETA: 356s - loss: 1.0114 - dense_2_loss: 0.0865 - dense_3_loss: 0.3101 - dense_4_loss: 0.3174 - dense_5_loss: 0.2118 - dense_6_loss: 0.0803 - dense_7_loss: 0.00 - ETA: 356s - loss: 1.0116 - dense_2_loss: 0.0866 - dense_3_loss: 0.3102 - dense_4_loss: 0.3175 - dense_5_loss: 0.2118 - dense_6_loss: 0.0802 - dense_7_loss: 0 - ETA: 355s - loss: 1.0116 - dense_2_loss: 0.0 - ETA: 330s - loss: 1.0103 - dense_2_loss: 0.0856 - dense_3_loss: 0.3106 - dense_4_loss: 0.3171 - dense_5_loss: 0.2115 - dense_6_loss: 0.0803 - dense_7_loss: 0 - ETA: 329s - loss: 1.0104 - dense_2_loss: 0.0856 - dense_3_loss: 0.3109 - dense_4_loss: 0.3172 - d - ETA: 316s - loss: 1.0109 - dense_2_loss: 0.0855 - dense_3_loss: 0.3107 - dense_4_loss: 0.3179 - dense_5_loss: 0.2115 - dense_6_loss: 0.0805 - dense_7_loss: 0.0 - ETA: 315s - loss: 1.0106 - dense_2_loss: 0.0854 - dense_3_loss: 0.3105 - dense_4_loss: 0.3177 - dense_5_loss:  - ETA: 304s - loss: 1.0107 - dense_2_loss: 0.0852 - dense_3_loss: 0.3112  - ETA: 286s - loss: 1.0115 - dense_2_loss: 0.0847 - dense_3_loss: 0.3109 - dense_4_loss: 0.3187 - dense_5_loss: 0.2117 - dense_6_loss: 0.0809 - dense_ - ETA: 283s - loss: 1.0113 - dense_2_loss: 0.0845 - dense_3_loss: 0.3111 - dense_4_loss: 0.3184 - dense_5_loss: 0. - ETA: 273s - loss: 1.0115 - dense_2_los\n",
      "Epoch 6/20\n"
     ]
    },
    {
     "name": "stdout",
     "output_type": "stream",
     "text": [
      "135278/135278 [==============================] - 903s - loss: 0.9223 - dense_2_loss: 0.0798 - dense_3_loss: 0.2875 - dense_4_loss: 0.2890 - dense_5_loss: 0.1878 - dense_6_loss: 0.0740 - dense_7_loss: 0.0043 - val_loss: 0.7420 - val_dense_2_loss: 0.0702 - val_dense_3_loss: 0.2360 - val_dense_4_loss: 0.2235 - val_dense_5_loss: 0.1537 - val_dense_6_loss: 0.0566 - val_dense_7_loss: 0.0021oss: 0.2770 - dense_5_loss: 0.1803 - dense_6_loss: 0.0745 - ETA: 604s - loss: 0.8926 - dense_2_loss: 0.0773 - dense - ETA: 580s - loss: 0.8940 - dense_2_loss: 0.0774 - den - ETA: 557s - loss: 0.8960 - dense_2_loss: 0.0773 - dense_3_loss: 0.2800 - dense_4_loss: 0.2784 - dense_5_loss: 0.1809 - dense_6_loss: 0.0740 - dense_7 - ETA: 554s - loss: 0.8967 - dense_2_loss: 0.0774 - dense_3_loss: 0.2798 - dense_4_loss: 0.2790 - dense_5_loss: 0.1810 - dense_6_loss: 0.0740 - den - ETA: 551s - loss: 0.8993 - dense_2_loss: 0.0778 - dense_3_loss: 0.2799 - dense_4_loss: 0.2801 - dense_5_loss: 0.1820 - dense_6_lo - ETA: 543s - loss: 0.8977 - dense_2_loss: 0.0772 - dense_3_loss: 0.2790 - dense_4 - ETA: 526s - loss: 0.9000 - dense_2_loss: 0.0774 - dense_3_loss: 0.2806 - dense_4_loss: 0.2800 - dense_5_loss: 0.1827 - dense_6_loss: 0.0739 - dense_7 - ETA: 523s - loss: 0.9004 - dense_2_loss: 0.0778 - dense_3_loss: 0.2804 - de - ETA: 505s - loss: 0.8997 - dense_2_loss: 0.0776 - dense_3_loss: 0.2806 - dense_4_loss: 0.2805 - dense_5_loss: 0.1822 - dense_6_loss: 0.0737 - dense_7_loss: - ETA: 503s - loss: 0.9006 - dense_2_loss: 0.0778 - dense_3_loss: 0.2808 - dense_4_loss: 0.2807 - dense_5_loss: 0.1825 - - ETA: 493s - loss: 0.9012 - dense_2_loss: 0.0780 - dense_3_loss: 0.2814 - dense_4_loss: 0.2805 - dense_5_loss: 0.1822 - dense_6_loss: 0.0739 - dense_7_lo - ETA: 491s - loss: 0.9012 - dense_2_loss: 0.0782 - dense_3_loss: 0.2811 - dense_4_loss: 0.2802 - dense_5_loss: 0.1821 - dense_6_loss: 0.0742 - dense - ETA: 488s - loss: 0.9029 - dense_2_loss: 0.0786 - dense_3_loss: 0.2816 - dense_4_loss: 0.2801 - dense_5_loss: 0.1826 - dense_6_loss: 0.0746 - dense_7_loss: 0.00 - ETA: 488s - loss: 0.9026 - dense_2_loss: 0.0785 - dense_3_loss: 0.2815 - dense_4_loss: 0.2801 - dense_5_loss: 0.1826 - dense_6_loss: 0.0745  - ETA: 483s - loss: 0.9014 - dense_2_loss: 0.0786 - dense_3_loss: 0.2810 - dense_4_loss: 0.2799 - dense_5_loss: 0.182 - ETA: 473s - loss: 0.9043 - dense_2_loss: 0.0793 - dense_3_loss: 0.2819 - dense_4_loss: 0.2806 - dense_5_loss: 0.1828 - dense_6_loss: 0.0742 -  - ETA: 469s - loss: 0.9042 - dense_2_loss: 0.0794 - dense_3_loss: 0.2821 - dense_4_loss: 0.2806 - dense_ - ETA: 456s - loss: 0.9054 - dense_2_loss: 0.0794 - dense_3_loss: 0.2829 - dense_4_loss: 0.2807 - dense_5_loss: 0.1831 - dense_6_loss: 0.0741 - dense_7_loss: 0.00 - ETA: 455s - loss: 0.9053 - dense_2_loss: 0.0793 - dense_3_loss: 0.2829 - dense_4_loss: 0.2805 - dense_5_loss: 0.1833 - dense_6_loss: 0.0741 - dense_ - ETA: 452s - loss: 0.9049 - dense_2_loss: 0.0792 - dense_3_loss: 0.2827 - dense_4_loss: 0.2802 - dense_5_loss: 0.1836 - dense_6_ - ETA: 445s - loss: 0.9056 - dense_2_loss: 0.0792 - dense_3_loss: 0.2832 - dense_4_loss: 0.2807 - dense_5_loss: 0.1834 - dense - ETA: 437s - loss: 0.9074 - dense_2_loss: 0.0792 - dense_3_loss: 0.2842 - dense_4_loss: 0.2810 - dense_5_loss: 0.1835 - dense_6_loss: 0.0741 - dense_7_lo - ETA: 435s - loss: 0.9078 - dense_2_loss: 0.0791 - dense_3_loss: 0.2844 - dense_4_l - ETA: 418s - loss: 0.9093 - dense_2_loss: 0.0788 - dense_3_loss: 0.2849 - dense_4_loss: 0.2816 - dense_5_loss: 0.1844 - dense_6_loss: 0.0743 - dense_7_loss: - ETA: 416s - loss: 0.9096 - dense_2_loss: 0.0787 - dense_3_loss: 0.2853 - dense_4_loss: 0.2816 - dense_5_loss: 0.1845 - dense_6_loss: 0.0742 - den - ETA: 413s - loss: 0.9098 - dense_2_loss: 0.0786 - dense_3_loss: 0.2857 - dense_4_loss: 0.2815 - dense_5_loss: 0.1844 - dense_6_loss: 0.0743 - ETA: 408s - loss: 0.9089 - dense_2_loss: 0.0786 - dense_3_loss: 0.2857 - dense_4_loss: 0.2809 - dense_5_loss: 0.1844 - dense_6_loss: 0.0741 - d - ETA: 404s - loss: 0.9091  - ETA: 376s - loss: 0.9110 - dense_2_loss: 0.0786 - dense_3_loss: 0.2860 - dense_4_loss: 0.2820 - dense_5_loss: 0.1856 - dense_6_loss: 0.0740 - dense_7_loss: 0 - ETA: 375s - loss: 0.9109 - dense_2_loss: 0.0786 - dense_3_loss: 0.2860 - dense_4_loss: 0.2821 - dense_5_loss: 0.1856 - dense_6_loss: 0.0739 - dense_7_loss: 0.004 - ETA: 374s - loss: 0.9107 - dense_2_loss: 0.0785 - dense_3_loss: 0.2860 - dense_4_loss: 0.2820 - dense_5_ - ETA: 362s - loss: 0.9111 - dense_2_loss: 0.0788 - dense_3_loss: 0.2857 - dense_4_loss: 0.2823 - dense_5_loss: 0.1854 - dense_6_loss: 0.0741 - dense_7_los - ETA: 361s - loss: 0.9107 - dense_2_loss: 0.0787 - dense_3_loss: 0.2855 - dense_4_loss: 0.2821 - dense_5_loss: 0.1853 - dense_6_ - ETA: 354s - loss: 0.9103 - dense_2_loss: 0.0784 - dense_3_loss: 0.2853 - - ETA: 335s - loss: 0.9089 - dense_2_loss: 0.0778 - dense_3_loss: 0.2862 - dense_4_loss: 0.2820 - dense_5_loss: 0.1843 - dense_6_loss: 0.0737 - dense - ETA: 332s - loss: 0.9090 - dense_2_loss: 0.0778 - dense_3_loss: 0.2865 - dense_4_loss: 0.2821 - dense_5_loss: 0.1841 - dense_6_loss - ETA: 325s - loss: 0.9098 - dense_2_loss: 0.0782 - dense_3_loss: 0.2865 - dense_4_loss: 0.2823 - dense_5_loss: 0. - ETA: 315s - loss: 0.9105 - dense_2_loss: 0.0783 - dense_3_loss: 0.2861 - dense_4_loss: 0.2826 - dense_5_loss: 0.1852 - dense_6_loss: 0.0735 - dense_7_loss: - ETA: 314s - loss: 0.9108 - dense_2_loss: 0.0783 - dense_3_loss: 0.2862 - dense_4_loss: 0.2828 - dense_5_loss: 0.1854 -  - ETA: 305s - loss: 0.9109 - dense_2_loss: 0.0781 - dense_3_loss: 0.2873 - dense_4_loss: 0.2828 - dense_5_loss: 0.1850 - dense_6_loss: 0.0730 - dense_7_loss: 0. - ETA: 304s - loss: 0.9115 - dense_2_loss: 0.0783 - dense_3_loss: 0.2874 - dense_4_loss: 0.2829 - dense_5_loss: 0.1851 - dense_6_loss: 0.0732 - dense_7_l - ETA: 302s - loss: 0.9116 - dense_2_loss: 0.0783 - dense_3_loss: 0.2872 - dense_4_loss: 0.2832 - dense_5_loss: 0.1853 - dense_6_loss: 0.0731 - dense_7_loss: 0.0 - ETA: 301s - loss: 0.9116 - dense_2_loss: 0.0783 - dense_3_loss: 0.2872 - dense_4_loss: 0.2832 - dense_5_loss: 0.1854 - dens - ETA: 293s - loss: 0.9122 - dense_2_loss: 0.0782 - dense_3_loss: 0.2873 - dense_4_loss: 0.2834 - dense_5_loss: 0.1853 - dense_6_loss - ETA: 74s - loss: 0.9178 - dense_2_loss: 0.0792 - dense_3_loss: 0.2862 - dense_4_loss: 0 - ETA: 50s - loss: 0.9199 - dense_2_loss: 0.0793 - dense_3_loss: 0.2869 - dense_4_loss: 0 - ETA: 25s - loss: 0.9205 - dense_2_loss: 0.0794 - dense_3_loss: 0.2866 - dense_4_loss: 0.2886 - dense_5_loss: 0.1874 - dense_6_loss: 0.0741 - dense_7_loss:  - ETA: 24s - loss: 0.9207 - dense_2_loss: 0.0795 - dense_3_loss: 0.2866 - dense_4_loss: 0.2886 - dense_5_loss: 0.1875 - dense_6_loss: 0.0 - ETA: 22s - loss: 0.9211 - dense_2_loss: 0.0796 - dense_3_loss: 0.2870 - dense_4_loss: 0.2887 - dense_5_loss: 0.1875 - dense_6 - ETA: 18s - loss: 0.9212 - dense_2_loss: 0.0795 - dense_3_loss: 0.2874 - dense_4_loss: 0.2884 - dense_5_loss:  - ETA: 13s - loss: 0.9214 - dense_2_loss: 0.0795 - dense_3_loss: 0.2873 - dense_4_loss: 0.2886 - dense_5_loss: 0.1875 - de - ETA: 7s - loss: 0.9213 - dense_2_loss: 0.0795 - dense_3_loss: 0.2875 - dense_4_loss: 0.2886 - dense_5_loss: 0.1873 - dense_6_loss: 0.0 - ETA: 2s - loss: 0.9220 - dense_2_loss: 0.0797 - dense_3_loss: 0.2875 - dense_4_loss: 0.2891 - dense_5_loss: 0.1875 - dense_6_loss: 0.0740 - dense_7\n",
      "Epoch 7/20\n"
     ]
    },
    {
     "name": "stdout",
     "output_type": "stream",
     "text": [
      " 76480/135278 [===============>..............] - ETA: 375s - loss: 0.8617 - dense_2_loss: 0.0723 - dense_3_loss: 0.2684 - dense_4_loss: 0.2717 - dense_5_loss: 0.1761 - dense_6_loss: 0.0695 - dense_7_loss: 0.0037    - ETA: 865s - loss: 0.7517 - dense_2_loss: 0.0523 - dense_3_loss: 0.2538 - dense_4_loss: 0.2208 - dense_5_loss: 0.1749 - dense_6_loss: 0.0498 - dense_7_loss: 1.19 - ETA: 858s - loss: 0.7106 - dense_2_loss: 0.0522 - dense_3_loss: 0.2493 - dense_4_loss: 0.2031 - dense_5_loss: 0.1578 - dense_6_loss: 0.0482 - dense_7_loss:  - ETA: 852s - loss: 0.6622 - dense_2_loss: 0.0468 - dense_3_loss: 0.2293 - dense_4_loss: 0.1977 - dense_5_loss: 0.1416 - dense_6_loss: 0.0468 - dens - ETA: 844s - loss: 0.6814 - dense_2_loss: 0.0454 - dense_3_loss: 0.2337 - dense_4_loss: 0.1942 - dense_5_loss: 0.1 - ETA: 834s - loss: 0.7643 - dense_2_loss: 0.0580 - dense_3_loss: 0.2555 - dense_4_loss: 0.2246 - dense_5_loss: 0.1565 - dense - ETA: 828s - loss: 0.7819 - dense_2_loss: 0.0570 - dense_3_loss: 0.2539 - dense_4_loss: 0.2282 - dense_5_loss: 0.1653 - - ETA: 816s - loss: 0.7835 - dense_2_loss: 0.0573 - dense_3_loss: 0.2557 - dense_4_loss: 0.2372 - dense_5_loss: 0.1623 - dense_6_loss: 0.0710 - den - ETA: 810s - loss: 0.7822 - dense_2_loss: 0.0578 - dense_3_loss: 0.2559 - dense_4_loss: 0.2377 - dense_5_loss: 0.1626 - dense_6_loss - ETA: 803s - loss: 0.7789 - dense_2_loss: 0.0567 - dense_3_loss: 0.2540 - dense_4_loss: 0.2415 - dense_5_loss: 0.1613 - dense_6_loss: 0.0653 - dense_7_loss: 1.6279e - ETA: 802s - loss: 0.7775 - dense_2_loss: 0.0565 - dense_3_loss: 0.2529 - dense_4_loss: 0.2410 - dense_5_loss: 0.1611 - dense_6_los - ETA: 794s - loss: 0.7930 - dense_2_loss: 0.0585 - dense_3_loss: 0.2580 - dense_4_loss: 0.2476 - dense_5_loss: 0.1614 - dense_6_loss: 0.0675 - dense_7_loss: 1.9032e- - ETA: 794s - loss: 0.7950 - dense_2_loss: 0.0583 - dense_3_loss: 0.2591 - dense_4_loss: 0.2480 - dense_5_loss: 0.1621 - dense_ - ETA: 786s - loss: 0.7990 - dense_2_loss: 0.0626 - dense_3_loss: 0.2582 - dense_4_loss: 0.2461 - dense_5_loss: 0.1628 - dense_6_loss: 0.0663 - dense_7_loss - ETA: 785s - loss: 0.8071 - dense_2_loss: 0.0651 - dense_3_loss: 0.2607 - dense_4_loss: 0.2478 - dense_5_loss: 0.1637 - dense_6_loss: 0.0669 - dense_7_loss:  - ETA: 784s - loss: 0.8087 - dense_2_loss: 0.0645 - dense_3_loss: 0.2610 - dense_4_loss: 0.2486 - dense_5_loss: 0.1651 - ETA: 774s - loss: 0.8050 - dense_2_loss: 0.0629 - dense_3_loss: 0.2597 - dense_4_loss: 0.2496 - dense_5_loss: 0.1649 - dense_6_loss: 0.0653 - dense_7_loss: 0.0 - ETA: 773s - loss: 0.8042 - dense_2_loss: 0.0628 - dense_3_loss: 0.2597 - dense_4_loss: 0.2486 - dense_5_loss: 0.1653 - dense_6_loss: 0.0653 - ETA: 769s - loss: 0.8113 - dense_2_loss: 0.0637 - dense_3_loss: 0.2602 - dense_4_loss: 0.2519 - dense_5_loss: 0.1660 - dense_6_l - ETA: 761s - loss: 0.8172 - dense_2_loss: 0.0635 - dense_3_loss: 0.2635 - dense_4_loss: 0.2563 - dense_5_loss: 0.1659 - dense_ - ETA: 753s - loss: 0.8271 - dense_2_loss: 0.0655 - dense_3_loss: 0.2663 - dense_4_loss: 0.2580 - dense_5_loss: 0.1672 - dense_6_loss: 0.0680 - dense_7 - ETA: 751s - loss: 0.8264 - dense_2_loss: 0.0652 - dense_3_loss: 0.2657 - dense_4_loss: 0.2581 - dense_5_loss: 0.1679 - dense_6_loss: 0.0675 - dense_ - ETA: 748s - loss: 0.8257 - dense_2_loss: 0.0654 - dense_3_loss: 0.2654 - dense_4_loss: 0.2585 - dense_5_loss: 0.1676 - dense_6_loss: 0.0668 - dense_7_loss: 0. - ETA: 747s - loss: 0.8245 - dense_2_loss: 0.0652 - dense_3_loss: 0.2657 - dense_4_loss: 0.2579 - dense_5_loss - ETA: 737s - loss: 0.8307 - dense_2_loss: 0.0664 - dense_3_loss: 0.2690 - dense_4_loss: 0.2555 - dense_5_loss: 0.1684 - dense_6_loss: 0.0687 - dense_ - ETA: 734s - loss: 0.8309 - dense_2_loss: 0.0666 - dense_3_loss: 0.2697 - dense_4_loss: 0.2548 - dense_5_loss: 0.1683 - dense_6_loss: 0.0689 - dense_7_lo - ETA: 732s - loss: 0.8318 - dense_2_loss: 0.0668 - dense_3_loss: 0.2710 - dense_4_loss: 0.2551 - dense_5_loss: 0.1674 - dense_6_loss: 0.0682 - dense_7_loss: 0.00 - ETA: 732s - loss: 0.8310 - dense_2_loss: 0.0668 - dense_3_loss: 0.2709 - dense_4_loss: 0.2548 - dense_5_loss: 0.1673 - dense_6_loss: 0.0680 - dense_7_loss: 0.0 - ETA: 731s - loss: 0.8331 - dense_2_loss: 0.0671 - dense_3_loss: 0.2704 - dense_4_loss: 0.2555 - dense_5_loss: 0.1679 - dense_6_loss: 0.0690 - dense_7_loss: 0. - ETA: 730s - loss: 0.8341 - dense_2_loss: 0.0671 - dense_3_loss: 0.2698 - dense_4_loss: 0.2561 - dense_5_loss: 0.16 - ETA: 720s - loss: 0.8376 - dense_2_loss: 0.0669 - dense_3_loss: 0.2682 - dense_4_loss: 0.2584 - dense_5_loss: 0.1707 - dense_6_loss: 0.0699 - dense_7_lo - ETA: 718s - loss: 0.8363 - dense_2_loss: 0.0661 - dense_3_loss: 0.2678 - dense_4_loss: 0.2579 - dense_5_loss: 0.1717 - dense_6_loss: 0.0693 - dense_7_l - ETA: 716s - loss: 0.8381 - dense_2_loss: 0.0663 - dense_3_loss: 0.2675 - dense_4_loss - ETA: 638s - loss: 0.8492 - dense_2_loss: 0.0701 - dense_3_loss: 0.2671 - dense_4_loss: 0.2659 - dense_5_loss: 0.1729 - d - ETA: 629s - loss: 0.8438 - dense_2_loss: 0.0694 - dense_3_loss: 0.2654 - dense_4_loss: 0.2637 - dense_5_loss: 0.1720 - dense_6_loss: 0. - ETA: 624s - loss: 0.8506 - dense_2_loss: 0.0702 - dense_3_loss: 0.2671 - dense_4_loss: 0.2672 - dense_5_l - ETA: 612s - loss: 0.8492 - dense_2_loss: 0.0701 - dense_3_loss: 0.2664 - dense_4_loss: 0.2665 - dense_5_loss: 0. - ETA: 602s - loss: 0.8515 - dense_2_loss: 0.0700 - dense_3_loss: 0.2664 - dense_4_loss: 0.2678 - dense_5_loss: 0.1726 - dense_6_loss: 0.0704 - dense_7_loss: 0.00 - ETA: 601s - loss: 0.8511 - dense_2_loss: 0.0700 - dense_3_loss: 0.2662 - dense_4_loss: 0.2677 - dense_5_loss: 0.1726 - dense_6_loss: 0.0703 - dense_7_loss:  - ETA: 600s - loss: 0.8511 - dense_2_loss: 0.0700 - dense_3_loss: 0.2662 - dense_4_loss: 0.2674 - dense_5_loss: 0.1730 - dense_6_lo - ETA: 593s - loss: 0.8554 - dense_2_loss: 0.0704 - dense_3_loss: 0.2671 - dense_4_loss: 0.2689 - dense_5_loss: 0.1742 - dense_6_loss: 0.0706 - dense - ETA: 590s - loss: 0.8551 - dense_2_loss: 0.0706 - dense_3_loss: 0.2668 - dense_4_loss: 0.2684 - dense_5_loss: 0.1740 - dense_6_loss: 0.0713 - den - ETA: 586s - loss: 0.8556 - dense_2_loss: 0.0710 - dense_3_loss: 0.2671 - dense_4_loss: 0.2683 - dense_5_loss: 0.1741 - dense_6_loss: 0.0710 - dense_7_lo - ETA: 584s - loss: 0.8566 - dense_2_loss: 0.0714 - dense_3_loss: 0.2668 - dense_4_loss: 0.2688 - dense_5_loss: 0.1743 - dense_6_loss: 0.0709 - dense_7_loss: 0.004 - ETA: 584s - loss: 0.8571 - dense_2_loss: 0.0716 - dense_3_loss: 0.2669 - dense_4_loss: 0.2690 - dense_5_loss: 0.1743 - dense_6_loss: 0.0710 - d - ETA: 580s - loss: 0.8567 - dense_2_loss: 0.0716 - dense_3_loss: 0.2668 - dense_4_loss: 0.2691 - dense_5_loss: 0.1744 - dense_6_loss: 0.0706 - dense_7_loss:  - ETA: 579s - loss: 0.8556 - dense_2_loss: 0.0716 - dense_3_loss: 0.2664 - dense_4_loss: 0.2685 - dense - ETA: 504s - loss: 0.8589 - dense_2_loss: 0.0731 - dense_3_loss: 0.2668 - dense_4_loss: 0.2710 - dense_5_loss: 0.1746 - dense_6_loss: 0.0698 - dense_7_ - ETA: 502s - loss: 0.8608 - dense_2_loss: 0.0730 - dense_3_loss: 0.2676 - dense_4_loss: 0.2711 - dense_5_loss: 0.1756 - dense_6_loss: 0.0699 - ETA: 497s - loss: 0.8616 - dense_2_loss: 0.0728 - dense_3_loss: 0.267 - ETA: 478s - loss: 0.8596 - dense_2_loss: 0.0724 - dense_3_loss: 0.2666 - dense_4_loss: 0.2712 - dense_5_loss: 0.1760 - dense_6_loss: 0.0701  - ETA: 473s - loss: 0.8582 - dense_2_loss: 0.0720 - dense_3_loss: 0.2665 - dense_4_loss: 0.2705  - ETA: 459s - loss: 0.85 - ETA: 396s - loss: 0.8613 - dense_2_loss: 0.0726 - dense_3_loss: 0.2687 - dense_4_loss: 0.2708 - dense_5_loss: 0.1 - ETA: 386s - loss: 0.8609 - dense_2_loss: 0.0724 - dense_3_loss: 0.2682 - dense_4_loss: 0.2712 - dense_5_loss: 0.1757 - dense_6_loss: 0.069 - ETA: 381s - loss: 0.8614 - dense_2_loss: 0.0725 - dense_3_loss: 0.2684 - dense_4_loss: 0.2713 - dense_5_loss: 0.1761 - dense_6_loss: 0.0694 - dense - ETA: 378s - loss: 0.8622 - dense_2_loss: 0.0723 - dense_3_loss: 0.2685 - dense_4_loss: 0.2721 - dense_5_loss: 0.1763 - dense_6_loss: 0.0693 - dense_7_loss: 0 - ETA: 377s - loss: 0.8616 - dense_2_loss: 0.0722 - dense_3_loss: 0.2685 - dense_4_loss: 0.2719 - dense_5_loss: 0.1761 - dense_6_loss: 0.0692 - dense_7_los - ETA: 375s - loss: 0.8616 - dense_2_loss: 0.0723 - dense_3_loss: 0.2683 - dense_4_loss: 0.2717 - dense_5_loss: 0.1762 - dense_6_loss: 0.0695 - dense_7_loss: 0.0037135278/135278 [==============================] - 895s - loss: 0.8720 - dense_2_loss: 0.0757 - dense_3_loss: 0.2709 - dense_4_loss: 0.2728 - dense_5_loss: 0.1787 - dense_6_loss: 0.0697 - dense_7_loss: 0.0042 - val_loss: 0.7216 - val_dense_2_loss: 0.0651 - val_dense_3_loss: 0.2308 - val_dense_4_loss: 0.2259 - val_dense_5_loss: 0.1430 - val_dense_6_loss: 0.0547 - val_dense_7_loss: 0.0020\n",
      "Epoch 8/20\n",
      "135278/135278 [==============================] - 885s - loss: 0.8186 - dense_2_loss: 0.0708 - dense_3_loss: 0.2589 - dense_4_loss: 0.2554 - dense_5_loss: 0.1643 - dense_6_loss: 0.0650 - dense_7_loss: 0.0042 - val_loss: 0.7856 - val_dense_2_loss: 0.0672 - val_dense_3_loss: 0.2607 - val_dense_4_loss: 0.2500 - val_dense_5_loss: 0.1570 - val_dense_6_loss: 0.0488 - val_dense_7_loss: 0.0020\n",
      "Epoch 9/20\n",
      "135278/135278 [==============================] - 877s - loss: 0.7920 - dense_2_loss: 0.0689 - dense_3_loss: 0.2497 - dense_4_loss: 0.2486 - dense_5_loss: 0.1583 - dense_6_loss: 0.0623 - dense_7_loss: 0.0042 - val_loss: 0.7412 - val_dense_2_loss: 0.0831 - val_dense_3_loss: 0.2387 - val_dense_4_loss: 0.2248 - val_dense_5_loss: 0.1420 - val_dense_6_loss: 0.0505 - val_dense_7_loss: 0.0021\n",
      "Epoch 10/20\n",
      "135278/135278 [==============================] - 862s - loss: 0.7617 - dense_2_loss: 0.0658 - dense_3_loss: 0.2415 - dense_4_loss: 0.2376 - dense_5_loss: 0.1520 - dense_6_loss: 0.0606 - dense_7_loss: 0.0043 - val_loss: 0.7474 - val_dense_2_loss: 0.0783 - val_dense_3_loss: 0.2586 - val_dense_4_loss: 0.2214 - val_dense_5_loss: 0.1396 - val_dense_6_loss: 0.0474 - val_dense_7_loss: 0.0021\n",
      "Epoch 11/20\n",
      "135278/135278 [==============================] - 879s - loss: 0.7583 - dense_2_loss: 0.0657 - dense_3_loss: 0.2445 - dense_4_loss: 0.2352 - dense_5_loss: 0.1513 - dense_6_loss: 0.0574 - dense_7_loss: 0.0043 - val_loss: 0.6787 - val_dense_2_loss: 0.0765 - val_dense_3_loss: 0.2272 - val_dense_4_loss: 0.1932 - val_dense_5_loss: 0.1358 - val_dense_6_loss: 0.0441 - val_dense_7_loss: 0.00203 - dense_6_loss: 0.0549 - dense_7 - ETA: 317s - loss: 0.7383 - dense_2_loss: 0.0612 - dense_3_loss: 0.2393 - dense_4_loss: 0.2307  - ETA: 304s - loss: 0.7393 - dense_2_loss: 0.0610 - dense_3_loss: 0.2397 - dense_4_loss: 0.2313 - dense_5_loss: 0.1487 - dense_6_ - ETA: 297s - loss: 0.7400 - dense_2_loss: 0.0612 - dense_3_loss: 0.2398 - dense_4_loss: 0.2316 - dense_5_loss: 0.1487 - dense_6_loss: 0.0554 - ETA: 292s - - ETA: 262s - loss: 0.7426 - dense_2_loss: 0.0620 - dense_3_loss: 0.2406 - dense_4_loss: 0.2317 - dense_5_loss: 0.1483 - dense_6_loss - ETA: 256s - loss: 0.7441 - dense_2_loss: 0.0624 - dense_3_loss: 0.2406 - dense_4_loss: 0.2319 - dense_5_loss: 0.1488 - dense_6_loss: 0.0565 - dense_7 - ETA: 253s - loss: 0.7451 - dense_2_loss: 0.0625 - dense_3_loss: 0.2411 - dense_4_loss: 0.2320 - dense_5_loss: 0.1490 - dense_6_loss: 0.0565 - dens - ETA: 250s - loss: 0.7445 - dense_2_loss: 0.0623 - dense_3_loss: 0.2414 - dense_4_loss: 0.2318 - dense_5_loss: 0.1487 - dense_6_loss: 0.0564 - - ETA: 246s - loss: 0.7440 - dense_2_loss: 0.0622 - dense_3_los - ETA: 226s - loss: 0.7464 - dense_2_loss: 0.0625 - dense_3_loss: 0.2418 - dense_4_loss: 0.2323 - dense_5_loss - ETA: 215s - loss: 0.7471 - dense_2_loss: 0.0628 - dense_3_loss: 0.2420 - dense_4_loss: 0.2325 - dense_5_loss: 0.1499 - dense_6_lo - ETA: 209s - loss: 0.7469 - dense_2_loss: 0.0630 - dense_3_loss: 0.2417 - dense_4_loss: 0.23 - ETA: 195s - loss: 0.7486 - dense_2_loss: 0.0632 - dense_3_loss: 0.2420 - dense_4_loss: 0.2334 - dense_5_loss: 0.1499 - de - ETA: 186s - loss: 0.7508 - dense_2_loss: 0.0635 - dense_3_loss: 0.2425 - dense_4_loss: 0.2339 - dense_5_loss: 0.1501 - dense_6_loss: 0.0568 - dense_7_ - ETA: 184s - loss: 0.7510 - dense_2_loss: 0.0636 - dense_3_loss: 0.2424 - dense_4_loss: 0.2338 - dense_5_loss: 0.1501 - dense_6_loss: 0.0570 - dense_7_loss: 0.0 - ETA: 183s - loss: 0.7512 - dense_2_loss: 0.0637 - dense_3_loss: 0.2424 - dense_4_loss: 0.2337 - dense_5_loss: 0.1503 - dense_6_loss: 0.0570 - de - ETA: 180s - loss: 0.7504 - dense_2_loss: 0.0637 - dense_3_loss: 0.2420 - dense_4_loss: 0.2335 - dense_5_loss: 0.1503 - dense_6_loss: 0.0568 - dense_7_loss - ETA: 178s - loss: 0.7509 - dense_2_loss: 0.0638 - dense_3_loss: 0.2423 - dense_4_loss: 0.2338 - dense_5 - ETA: 166s - loss: 0.7505 - dense_2_loss: 0.0637 - dense_3_loss: 0.2423 - dense_4_loss: 0.2337 - dense_5_loss: 0.1501 - dense_6_loss: 0.0567 -  - ETA: 162s - loss: 0.7504 - dense_2_loss: 0.0636 - dense_3_loss: 0.2426 - dense_4_loss: 0.2334 - dense_5_ - ETA: 151s - loss: 0.7538 - dense_2_loss: 0.0643 - dense_3_loss: 0.2434 - dense_4_loss: 0.2341 - dense_5_loss: 0.1509 - dense_6_loss: 0.0571 - dense_7_ - ETA: 148s - loss: 0.7541 - dense_2_loss: 0.0645 - dense_3_loss: 0.2434 - dense_4_loss: 0.2341 - dense_5_loss: 0.1509  - ETA: 139s - loss: 0.7552 - dense_2_loss: 0.0650 - dense_3_loss: 0.2431 - dense_4_loss: 0.2344 - dense_5_loss: 0.1511 - dense_6_loss: 0.0573 - dense_7_loss - ETA: 138s - loss: 0.7558 - dense_2_loss: 0.0651 - dense_3_loss: 0.2431 - dense_4_loss: 0.2346 - dense_5_loss: 0.1512 - dense_6_loss: 0.0573 - dense_ - ETA: 135s - loss: 0.7551 - dense_2_loss: 0.0651 - dense_3_loss: 0.2430 - dense_4_loss: 0.2342 - dense_5_loss: 0.1512 - dense_6_loss: 0.0573 - dense_7_loss:  - ETA: 134s - loss: 0.7552 - dense_2_loss: 0.0650 - dense_3_loss: 0.2433 - dense_4_loss: 0.2343 - dense_5_loss: 0.1510 - dense_6_loss: 0.0572 - dense_7_loss: 0.0 - ETA: 133s - loss: 0.7551 - dense_2_loss: 0.0650 - dense_3_loss: 0.2433 - dense_4_loss: 0.2342 - dense_5_loss: 0.1510 - dens - ETA: 125s - loss: 0.7551 - dense_2_loss: 0.0653 - dense_3_loss: 0.2431 - dense_4_loss: 0.2342 - dense_5_loss: 0.151 - ETA: 116s - loss: 0.7545 - dense_2_loss: 0.0650 - dense_3_loss: 0.2432 - dense_4_loss: 0.2341 - dense_5_loss: 0.1507 - dense_6_loss: 0.0573 - dense_7_loss:  - ETA: 115s - loss: 0.7551 - dense_2_loss: 0.0651 - dense_3_loss: 0.2436 - dense_4_loss: 0.2342 - dense_5_los - ETA: 69s - loss: 0.7577 - dense_2_loss: 0.0650 - dense_3_loss: 0.2452 - dense_4_loss: 0.2346 - dense_5_loss: 0.15 - ETA: 64s - loss: 0.7576 - dense - ETA: 51s - loss: 0.7580\n",
      "Epoch 12/20\n",
      "135278/135278 [==============================] - 897s - loss: 0.7425 - dense_2_loss: 0.0643 - dense_3_loss: 0.2408 - dense_4_loss: 0.2317 - dense_5_loss: 0.1455 - dense_6_loss: 0.0561 - dense_7_loss: 0.0043 - val_loss: 0.6470 - val_dense_2_loss: 0.0668 - val_dense_3_loss: 0.2021 - val_dense_4_loss: 0.1964 - val_dense_5_loss: 0.1333 - val_dense_6_loss: 0.0462 - val_dense_7_loss: 0.0021- dense_4_loss: 0.231 - ETA: 11s - loss: 0.7427 - dense_2_loss: 0.0644 - dense_3_loss: 0.2406 - dense_4_loss: 0.2316 - dense_5_loss: 0.1456 - dense_6_loss: 0. - ETA: 6s - loss: 0.7423 - dense_2_loss: 0.0644 - dense_3_loss: 0.2405 - dense_4_loss: 0.2315 - dense_5_loss: 0.1455 - dense_6_loss: 0.0561 - dens - ETA: 3s - loss: 0.7428 - dense_2_loss: 0.0644 - dense_3_loss: 0.2408 - dense_4_loss: 0.2318 - dense_5_loss: 0.1454 - dense_6_loss: 0.0561 - de\n",
      "Epoch 13/20\n"
     ]
    },
    {
     "name": "stdout",
     "output_type": "stream",
     "text": [
      "135278/135278 [==============================] - 894s - loss: 0.7353 - dense_2_loss: 0.0660 - dense_3_loss: 0.2362 - dense_4_loss: 0.2260 - dense_5_loss: 0.1467 - dense_6_loss: 0.0562 - dense_7_loss: 0.0042 - val_loss: 0.7551 - val_dense_2_loss: 0.0829 - val_dense_3_loss: 0.2356 - val_dense_4_loss: 0.2389 - val_dense_5_loss: 0.1456 - val_dense_6_loss: 0.0500 - val_dense_7_loss: 0.0021\n",
      "Epoch 14/20\n",
      "135278/135278 [==============================] - 858s - loss: 0.7239 - dense_2_loss: 0.0644 - dense_3_loss: 0.2363 - dense_4_loss: 0.2237 - dense_5_loss: 0.1427 - dense_6_loss: 0.0526 - dense_7_loss: 0.0042 - val_loss: 0.7517 - val_dense_2_loss: 0.0970 - val_dense_3_loss: 0.2317 - val_dense_4_loss: 0.2089 - val_dense_5_loss: 0.1593 - val_dense_6_loss: 0.0527 - val_dense_7_loss: 0.0021\n",
      "Epoch 15/20\n"
     ]
    },
    {
     "name": "stdout",
     "output_type": "stream",
     "text": [
      "125408/135278 [==========================>...] - ETA: 62s - loss: 0.7152 - dense_2_loss: 0.0616 - dense_3_loss: 0.2321 - dense_4_loss: 0.2231 - dense_5_loss: 0.1413 - dense_6_loss: 0.0526 - dense_7_loss: 0.0045 - ETA: 470s - loss: 0.6878 - dense_2_loss: 0.0574 - dense_3_loss: 0.2297 - dense_4_loss: 0.2099 - dense_5_loss: 0 - ETA: 459s - loss: 0.6914 - dense_2_loss: 0.0584 - dense_3_loss: 0.2304 - ETA: 377s - loss: 0.6935 - dense_2_loss: 0.0576 - dense_3_loss: 0.2321 - dense_4_loss: 0.2103 -  - ETA: 363s - loss: 0.6947 - dens - ETA: 337s - loss: 0.6940 - dense_2_loss: 0.0576 - dense_3_loss: 0.2313 - dense_4_loss: - ETA: 322s - loss: 0.6947 - dense_2_loss: 0.0578 - dense_3_loss: 0.2313 - dense_4_loss: 0.2115 - dense_5_loss: 0.1367 - dense_6_loss: 0.0523 - dense_7_loss: 0.0 - ETA: 321s - loss: 0.6946 - dense_2_loss: 0.0578 - dense_3_loss: 0.2313 - dense_4_loss: 0.2114 - dense_5_loss: 0.1366 - dense_6_loss: 0 - ETA: 315s - loss: 0.7043 - dense_2_loss: 0.0601 - dense_3_loss: 0.2338 - dense_4_loss: 0.2150 - dense_5_loss: 0.1380 - dense_6_lo - ETA: 309s - loss: 0.7057 - dense_2_loss: 0.0606 - dense_3_loss: 0.2338 - dense_4_loss: 0.2154 - dense_5_loss: 0.1388 - dense_6_loss: 0.0521 -  - ETA: 305s - loss: 0.7070 - dense_2_loss: 0.0605 - dense_3_loss: 0.2342 - dense_4_loss: 0.21 - ETA: 258s - loss: 0.7062 - dense_2_loss: 0.0605 - dense_3_loss: 0.2315 - dense_4_loss: 0.2176 - dense_5_loss: 0.1390 - dense_6_loss: 0.0526 - dens - ETA: 254s - loss: 0.7059 - dense_2_loss: 0.0603 - dense_3_loss: 0.2315 - dense_4_loss: 0.2177 - dense_5_loss: 0.1390 - dense_6_loss: 0.0524 - dense_7_loss: 0.0 - ETA: 254s - loss: 0.7058 - dense_2_loss: 0.0603 - dense_3_loss: 0.2314 - dense_4_loss: 0.2176 - dense_5_loss: 0.1390 - dense_6_loss: 0.0523 - d - ETA: 250s - loss: 0.7071 - dense_2_loss: 0.0605 - dense_3_loss: 0.2320 - dense_4_loss: 0.2180 - dense_5_loss: 0.1390 - dense_6_loss: 0.052 - ETA: 245s - loss: 0.7078 - dense_2_loss: 0.0606 - dense_3_loss: 0.2320 - dense_4_loss: 0.2180 - dense_5_loss: 0.1393 - dense_6_loss: 0.0528 - dense_7 - ETA: 242s - loss: 0.7077 - dense_2_loss: 0.0605 - dense_3_loss: 0.2323 - dense_4_loss: 0.2179 - dense_5_loss: 0.1392 - dense_6_loss: 0.0527 - dense_7_loss - ETA: 241s - loss: 0.7074 - dense_2_loss: 0.0604 - dense_3_loss: 0.2322 - dense_4_loss: 0.2177 - dense_5_loss: 0.1391 - - ETA: 232s - loss: 0.7074 - dense_2_loss: 0.0602 - dense_3_loss: 0.2323 - dense_4_loss: 0.2179 - dense_5_loss: 0.1392 - dense_6_loss: 0.0529 - dense_7_ - ETA: 229s - loss: 0.7077 - dense_2_loss: 0.0601 - dense_3_loss: 0.2326 - dense_4_loss: 0.2179 - dense_5_loss: 0.1394 - dense_ - ETA: 222s - loss: 0.7075 - dense_2_loss: 0.0603 - dense_3_loss: 0.2322 - dense_4_loss: 0.2180 - dense_5_loss: 0.1 - ETA: 212s - loss: 0.7080 - dense_2_loss: 0.0606 - dense_3_loss: 0.2319 - dense_4_loss: 0.2186 - dense_5_loss: 0.1395 - dense_6_loss: 0.0526 - dense_7_loss - ETA: 210s - loss: 0.7085 - dense_2_loss: 0.0606 - dense_3_loss: 0.2319 - dense_4_loss: 0.2190 - dense_5_loss: 0.1395 - dense_6_loss: 0.0526 - dense_7_los - ETA: 209s - loss: 0.7085 - dense_2_loss: 0.0605 - dense_3_loss: 0.2319 - dense_4_loss: 0.2191 - dense_5_loss: 0.1393 - dense_6_loss: 0.0529 - dense_7 - ETA: 206s - loss: 0.7073 - dense_2_loss: 0.0604 - dense_3_loss: 0.2315 - dense_4_loss: 0.2187 - dense_5_loss: 0.1390 - dense_6_loss: 0.0529 - d - ETA: 202s - loss: 0.7082 - dense_2_loss: 0.0604 - dense_3_loss: 0.2314 - dense_4_loss: 0.2191 - dense_5_loss: 0 - ETA: 192s - loss: 0.7082 - dense_2_loss: 0.0604 - dense_3_loss: 0.2315 - dense_4_loss: 0.2191 - dense_5_loss: 0.1399 - dense_6_loss: 0.0525 - dense_7 - ETA: 189s - loss: 0.7084 - dense_2_loss: 0.0605 - dense_3_loss: 0.2313 - dense_4_loss: 0.2191 - dense_5_loss: 0.1400 - dense_6_loss: 0.0528 - den - ETA: 186s - loss: 0.7080 - dense_2_loss: 0.0603 - dense_3_loss: 0.2313 - dense_4_loss: 0.2189 - dense_5_loss: 0.1401 - dense_6_loss: 0.0527 - dense_7 - ETA: 183s - loss: 0.7083 - dense_2_loss: 0.0602 - dense_3_loss: 0.2313 - dense_4_loss: 0.2192 - dense_5_loss: 0.1401 - dense_6_loss: 0.0527 - dense_7_loss: 0.004 - ETA: 183s - loss: 0.7082 - dense_2_loss: 0.0602 - dense_3_loss: 0.2313 - dense_4_loss: 0.2192 - dense_5_loss: 0.1400 - dense_6_loss: 0.0526 - dense_7_lo - ETA: 181s - loss: 0.7090 - dense_2_loss: 0.0602 - dense_3_loss: 0.2313 - dense_4_loss: 0.2196 - dense_5_loss: 0.1404 - dense - ETA: 173s - loss: 0.7089 - dense_2_loss: 0.0601 - dense_3_loss: 0.2312 - dense_4_loss: 0.2196 - dense_5_loss: 0.1404 - dense_6_loss: 0.0 - ETA: 168s - loss: 0.7109 - dense_2_loss: 0.0604 - dense_3_loss: 0.2320 - dense_4_loss: 0.2199 - dense_5_lo - ETA: 157s - loss: 0.7108 - dense_2_loss: 0.0602 - dense_3_loss: 0.2319 - dense_4_loss: 0.2202 - dense_5_loss: 0.1405 -  - ETA: 148s - loss: 0.7097 - dense_2_loss: 0.0602 - dense_3_loss: 0.2314 - dense_4_loss: 0.2199 - dense_5_loss: 0.1404 - dense_6_loss: 0.0531 - dense_7_loss: 0 - ETA: 147s - loss: 0.7099 - dense_2_loss: 0.0602 - dense_3_loss: 0.2315 - dense_4_loss: 0.2199 - dense_5_loss: 0.1405 - dense_6_loss: 0.0533 - dense - ETA: 144s - loss: 0.7101 - dense_2_loss: 0.0604 - dense_3_loss: 0.2314 - dense_4_loss: 0.2200 - dense_5_loss: 0.1405 - dense_6_loss: - ETA: 138s - loss: 0.7104 - dense_2_loss: 0.0604 - dense_3_loss: 0.2311 - dense_4_loss: 0.2201 - dense_5_loss: 0.1408 - dense_6_loss: 0.0534 - dense_7_loss: 0.0 - ETA: 137s - loss: 0.7103 - dense_2_loss: 0.0604 - dense_3_loss: 0.2312 - dense_4_loss: 0.2200 - dense_5_loss: 0.1407 - dense_6_loss: 0.0534 - dense_7 - ETA: 135s - loss: 0.7104 - dense_2_loss: 0.0605 - dense_3_loss: 0.2312 - dense_4_loss: 0.2201 - dense_5_loss: 0.1405 - dense_6_loss: 0.0534 - dense_7_loss: 0.0 - ETA: 134s - loss: 0.7107 - dense_2_loss: 0.0604 - dense_3_loss: 0.2312 - dense_4_loss: 0.2204 - dense_5_loss: 0.1406 - dense_6_loss: 0.0534 - ETA: 130s - loss: 0.7120 - dense_2_loss: 0.0605 - dense_3_loss: 0.2315 - dense_4_loss: 0.2207 - dense_5_loss: 0.1411 - dense_6_loss: 0.0535 - dense_7_ - ETA: 127s - loss: 0.7125 - dense_2_loss: 0.0607 - dense_3_loss: 0.2314 - dense_4_loss: 0.2209 - dense_5_loss: 0.1413 - dense_6_loss: 0.0535 - dense_7_l - ETA: 125s - loss: 0.7125 - dense_2_loss: 0.0606 - dense_3_loss: 0.2315 - dense_4_loss: 0.2210 - dense_5_loss: 0.1412 - dense_6_loss: 0.0534 - de - ETA: 121s - loss: 0.7112 - dense_2_loss: 0.0605 - dense_3_loss: 0.2310 - dense_4_loss: 0.2206 - dense_5_loss: 0.1410 - dense_6_loss: 0.0533 - dense_ - ETA: 118s - loss: 0.7120 - dense_2_loss: 0.0607 - dense_3_loss: 0.2314 - dense_4_loss: 0.2212 - dense_5_loss: 0.1410 - dense_6_loss: 0.0531 - dense_7_loss - ETA: 117s - loss: 0.7116 - dense_2_loss: 0.0607 - dense_3_loss: 0.2312 - dense_4_loss: 0.2211 - dense_5_loss: 0.1410 - den - ETA: 109s - loss: 0.7137 - dense_2_loss: 0.0614 - dense_3_loss: 0.2316 - dense_4_loss: 0.2218 - dense_5_loss: 0.1414 - dense_6_loss: 0.0529 - dense_7_loss: 0. - ETA: 108s - loss: 0.7133 - dense_2_loss: 0.0614 - dense_3_loss: 0.2315 - dense_4_loss: 0.2218 - dense_5_loss: 0.1413 - dense_6_loss: 0.052 - ETA: 103s - loss: 0.7134 - dense_2_loss: 0.0612 - dense_3_loss: 0.2319 - dense_4_loss: 0.2219 - dense_5_loss: 0.1411 - dense_6_loss: 0.0527 - ETA: 99s - loss: 0.7135 - dense_2_loss: 0.0613 - dense_3_loss: 0.2319 - dense_4_loss: 0.2222 - dense_5_loss: 0.1409 - dense_6_loss: 0.0527 -  - ETA: 97s - loss: 0.7142 - dense_2_loss: 0.0 - ETA: 85s - loss: 0.7156 - dense_2_loss: 0.0616 - dense_3_loss: 0.2319 - dense_4_loss: 0.2230 - dense_5_loss: 0.1415 - dense_6_l - ETA: 81s - loss: 0.7153 - dense_2_loss: 0.0617 - dense_3_loss: 0.2316 - dense_4_loss: 0.2231 - dense_5_loss: 0.1415 - dense_6_los - ETA: 78s - loss: 0.7149 - dense_2_loss: 0.0616 - dense_3_loss: 0.2314 - dense_4_loss: 0.2229 - dens - ETA: 72s - loss: 0.7157 - dense_2_loss: 0.0617 - dense_3_loss: 0.2319 - dense_4_loss: 0.2231 - dense_5_loss: 0.1417 - dense_6_loss: 0.0528  - ETA: 70s - loss: 0.7158 - dense_2_loss: 0.0617 - dense_3_loss: 0.2320 - dense_4_loss: 0.2232 - dense_5_loss: 0.1415 - dense_6_loss: 0.0529 - dense_7_loss: 0.00 - ETA: 69s - loss: 0.7157 - dense_2_loss: 0.0617 - dense_3_loss: 0.2319 - dense_4_los - ETA: 62s - loss: 0.7151 - dense_2_loss: 0.0616 - dense_3_loss: 0.2321 - dense_4_loss: 0.2230 - dense_5_loss: 0.1413 - dense_6_loss: 0.0526 - dense_7_loss: 0.0045135278/135278 [==============================] - 881s - loss: 0.7118 - dense_2_loss: 0.0606 - dense_3_loss: 0.2312 - dense_4_loss: 0.2228 - dense_5_loss: 0.1406 - dense_6_loss: 0.0524 - dense_7_loss: 0.0043 - val_loss: 0.6745 - val_dense_2_loss: 0.0686 - val_dense_3_loss: 0.2342 - val_dense_4_loss: 0.1868 - val_dense_5_loss: 0.1405 - val_dense_6_loss: 0.0424 - val_dense_7_loss: 0.0020loss: 0.0615 - dense_3_loss: 0.2319 - dense_4_loss: 0.2233 - dense_5_loss: 0.1416 - d - ETA: 53s - loss: 0.7150 - dense_2_loss: 0.0615 - dense_3_loss: 0.2316 - dense_4_loss: - ETA: 46s - loss: 0.7142 - dense_2_loss: 0.0615 - dense_3_loss: 0.2317 - dense_4_loss: 0.2226 - dense_5_loss: 0.1417 - dense_6_los - ETA: 42s - loss: 0.7140 - dense_2_loss: 0.0615 - dense_3_loss: 0.2317 - dense_4_loss: 0.2228 - dense_5_loss: 0.1415 - dense_6_loss: 0.0522 - dense_7_loss:  - ETA: 25 - ETA: 10s - loss: 0.7129 - dense_2_loss: 0.0607 - dense_3_loss: 0.2314 - dense_4_loss: 0.2232 - dense_5_loss: 0.1409 - dense_6_loss: 0.0524 - dense_7_loss: 0 - ETA: 9s - loss: 0.7128 - dense_2_loss: 0.0607 - dense_3_loss: 0.2315 - dense_4_loss: 0.2232 - dense_5_loss: 0.1409 - dense_6_loss: 0.0524 - dense_7_los - ETA: 7s - loss: 0.7125 - dense_2_loss: 0.0606 - dense_3_loss: 0.2314 - dense_4_loss: 0.2232 - dense_5_loss: 0.1407 - dense_6_loss: 0.05 - ETA: 2s - loss: 0.7117 - dense_2_loss: 0.0605 - dense_3_loss: 0.2311 - dense_4_loss: 0.2229 - dense_5_loss: 0.1405 - dense_6_loss: 0.0524 - dense\n",
      "Epoch 16/20\n"
     ]
    },
    {
     "name": "stdout",
     "output_type": "stream",
     "text": [
      "135278/135278 [==============================] - 870s - loss: 0.7030 - dense_2_loss: 0.0615 - dense_3_loss: 0.2289 - dense_4_loss: 0.2158 - dense_5_loss: 0.1418 - dense_6_loss: 0.0507 - dense_7_loss: 0.0042 - val_loss: 0.5964 - val_dense_2_loss: 0.0768 - val_dense_3_loss: 0.1790 - val_dense_4_loss: 0.1827 - val_dense_5_loss: 0.1169 - val_dense_6_loss: 0.0389 - val_dense_7_loss: 0.0021: 0.7854 - dense_2_loss: 0.0794 - dense_3_loss: 0.2897 - dense_4_loss: 0.2183 - dense_5_loss: 0.1768 - dense_6_loss: 0.0211 - dense_7_loss: 1.2086e - ETA: 838s - loss: 0.7497 - dense_2_loss: 0.0751 - dense_3_loss: 0.2798 - dense_4_loss: 0.2089 - dense_5_loss: 0.1657 - dense_6_loss: 0.0201 - dense_7_loss - ETA: 836s - loss: 0.7473 - dense_2_loss: 0.0798 - dense_3_loss: 0.2436 - dense_4_loss: 0.2398 - dense_5_loss: 0.1491 - dense_6_loss: 0.0349 - dense_7_loss: 1.2025e - ETA: 836s - loss: 0.7342 - dense_2_loss: 0.0745 - dense_3_loss: 0.2420 - dense_4_loss: 0.2354 - dense_5_loss: 0.1446 - dense_6_loss: 0.0377 - dense_7_ - ETA: 833s - loss: 0.7245 - dense_2_loss: 0.0734 - dense_3_loss: 0.2337 - dense_4_loss: 0.2317 - dense - ETA: 823s - loss: 0.7387 - dense_2_loss: 0.0676 - dense_3_loss: 0.2405 - dense_4_loss: 0.2381 - dense_5_loss: 0.1363 - dense_6_loss: 0.0521 - dense - ETA: 820s - loss: 0.7306 - dense_2_loss: 0.0657 - dense_3_loss: 0.2429 - dense_4_loss: 0.2350 - dense_5_loss: 0.1325 - dense_6_loss: 0.05 - ETA: 815s - loss: 0.7301 - dense_2_loss: 0.0689 - dense_3_loss: 0.2360 - dense_4_loss: 0.2334 - dense_5_loss: 0. - ETA: 805s - loss: 0.6918 - dense_2_loss: 0.0651 - dense_3_loss: 0.2201 - dense_4_loss: 0.2202 - dense_5_loss: 0.1280 - dense_6_ - ETA: 797s - loss: 0.6947 - dense_2_loss: 0.0669 - dense_3_loss: 0.2182 - dense_4_loss: 0.2228 - dense_5_loss: 0.1281 - dense_6_loss: 0.0506 - dens - ETA: 794s - loss: 0.7209 - dense_2_loss: 0.0732 - dense_3_loss: 0.2267 - dense_4_loss: 0.2344 - dense_5_loss: 0.1299 - dense_6_loss: 0.0492 - dense_7_ - ETA: 791s - loss: 0.7195 - dense_2_loss: 0.0742 - dense_3_loss: 0.2253 - dense_4_loss: 0.2337 - dense_5_loss: 0.1306 - dense_6_loss: 0.0485 - dense - ETA: 788s - loss: 0.7188 - dense_2_loss: 0.0713 - dense_3_loss: 0.2270 - dense_4_loss: 0.2338 - dense_5_loss: 0.1332 - dense_6_loss: 0.0467 - dense_7_loss:  - ETA: 787s - loss: 0.7159 - dense_2_loss: 0.0703 - dense_3_loss: 0.2248 - dense_4_loss: 0.2350 - dense_5_loss: 0.1324 - dense_6_loss: 0.0466 - dense_7_lo - ETA: 785s - loss: 0.7141 - dense_2_loss: 0.0706 - dense_3_loss: 0.2234 - dense_4_loss: 0.2321 - dense_5_loss: 0.1327 - dense_6_loss: 0.0487 - dense_7_los - ETA: 783s - loss: 0.7103 - dense_2_loss: 0.0701 - dense_3_loss: 0.2214 - dense_4_loss: 0.2295 - dense_5_loss: 0.1343 - dense_6_loss: 0.0487 - ETA: 779s - loss: 0.7139 - dense_2_loss: 0.0717 - dense_3_loss: 0.2228 - dense_4_loss: 0.2281 - dense_5_loss: 0.1 - ETA: 769s - loss: 0.6990 - dense_2_loss: 0.0672 - dense_3_loss: 0.2237 - dense_4_loss: 0.2240 - dense_5_loss: 0.1312 - dense_6_loss: 0.0453 - dense_7_loss: - ETA: 767s - loss: 0.6963 - dense_2_loss: 0.0667 - dense_3_loss: 0.2239 - dense_4_loss: 0.2216 - dense_5_loss: 0.1314 - dense_6_loss: 0.0451  - ETA: 763s - loss: 0.6976 - dense_2_loss: 0.0682 - dense_3_loss: 0.2247 - dense_4_loss: 0.2218 - dense_5_loss: 0.1309 - dense_6_loss: 0.0447 - - ETA: 760s - loss: 0.6916 - dense_2_loss: 0.0677 - dense_3_loss: 0.2242 - dense_4_loss: 0.2177 - dense_5_loss: 0.1304 - dense_6_loss: 0.0447 - dense_7_los - ETA: 758s - loss: 0.6955 - dense_2_loss: 0.0680 - dense_3_loss: 0.2265 - dense_4_loss: 0.2182 - dense_5_loss: 0.1306 - dense_6_loss: 0.045 - ETA: 753s - loss: 0.6902 - dense_2_loss: 0.0680 - dense_3_loss: 0.2239 - dense_4_loss: 0.2149 - dense_5_loss: 0.1299 - dense_6_lo - ETA: 746s - loss: 0.6853 - dense_2_loss: 0.0676 - dense_3_loss: 0.2209 - dense_4_loss: 0.2143 - dense_5_loss: 0.1301 - dense_6_loss: 0.0463 -  - ETA: 742s - loss: 0.6786 - dense_2_loss: 0.0663 - dense_3_loss: 0.2196 - dense_4_loss: 0.2118  - ETA: 728s - loss: 0.6754 - dense_2_loss: 0.0640 - dense_3_loss: 0.2231 - dense_4_loss: 0.2108 - dense_5_loss: 0.1258 - dense_6_lo - ETA: 722s - loss: 0.6831 - dense_2_loss: 0.0640 - dense_3_loss: 0.2266 - dense_4_loss: 0.2123 - dense_5_loss: 0.1272 - dense_6_loss: 0.0475 - dense_7_lo - ETA: 720s - loss: 0.6799 - dense_2_loss: 0.0634 - dense_3_loss: 0.2256 - dense_4_loss: 0.2113 - dense_5_loss: 0.1267 - dense_6_loss: 0.0474 - dense_7_loss:  - ETA: 718s - loss: 0.6842 - dense_2_loss: 0.0644 - dense_3_loss: 0.2263 - dense_4_loss:\n",
      "Epoch 17/20\n",
      "135278/135278 [==============================] - 898s - loss: 0.6901 - dense_2_loss: 0.0605 - dense_3_loss: 0.2251 - dense_4_loss: 0.2126 - dense_5_loss: 0.1358 - dense_6_loss: 0.0519 - dense_7_loss: 0.0042 - val_loss: 0.8315 - val_dense_2_loss: 0.0899 - val_dense_3_loss: 0.2720 - val_dense_4_loss: 0.2715 - val_dense_5_loss: 0.1512 - val_dense_6_loss: 0.0446 - val_dense_7_loss: 0.0021_4_loss: 0.2125 - dense_5_loss: 0.1358 - dense_6_loss: 0.0519 - dense_7_loss: 0\n",
      "Epoch 18/20\n",
      "135278/135278 [==============================] - 854s - loss: 0.7012 - dense_2_loss: 0.0654 - dense_3_loss: 0.2242 - dense_4_loss: 0.2171 - dense_5_loss: 0.1375 - dense_6_loss: 0.0529 - dense_7_loss: 0.0042 - val_loss: 0.6616 - val_dense_2_loss: 0.0856 - val_dense_3_loss: 0.1891 - val_dense_4_loss: 0.1960 - val_dense_5_loss: 0.1433 - val_dense_6_loss: 0.0454 - val_dense_7_loss: 0.0021\n",
      "Epoch 19/20\n",
      "135278/135278 [==============================] - 891s - loss: 0.6857 - dense_2_loss: 0.0579 - dense_3_loss: 0.2246 - dense_4_loss: 0.2107 - dense_5_loss: 0.1373 - dense_6_loss: 0.0508 - dense_7_loss: 0.0043 - val_loss: 0.6625 - val_dense_2_loss: 0.0757 - val_dense_3_loss: 0.2223 - val_dense_4_loss: 0.1976 - val_dense_5_loss: 0.1219 - val_dense_6_loss: 0.0427 - val_dense_7_loss: 0.0021\n",
      "Epoch 20/20\n",
      "135278/135278 [==============================] - 888s - loss: 0.6939 - dense_2_loss: 0.0637 - dense_3_loss: 0.2296 - dense_4_loss: 0.2111 - dense_5_loss: 0.1355 - dense_6_loss: 0.0498 - dense_7_loss: 0.0042 - val_loss: 0.7779 - val_dense_2_loss: 0.0850 - val_dense_3_loss: 0.2917 - val_dense_4_loss: 0.2349 - val_dense_5_loss: 0.1251 - val_dense_6_loss: 0.0391 - val_dense_7_loss: 0.0021\n"
     ]
    }
   ],
   "source": [
    "#training\n",
    "result = model.fit(images, [labels[:,:7], labels[:,7:18], labels[:,18:29], labels[:,29:40], labels[:,40:51], labels[:,51:62]], 32, 20, validation_split=0.1, shuffle=True)"
   ]
  },
  {
   "cell_type": "code",
   "execution_count": 9,
   "metadata": {},
   "outputs": [
    {
     "data": {
      "text/plain": [
       "0.85623615352374105"
      ]
     },
     "execution_count": 9,
     "metadata": {},
     "output_type": "execute_result"
    }
   ],
   "source": [
    "#validation\n",
    "score = model.predict(test_images)\n",
    "\n",
    "score = np.concatenate(score, axis=1)\n",
    "#round score to get actual prediction instead of probability\n",
    "roundedScore = np.zeros(score.shape, dtype=\"int32\")\n",
    "#choose threshold\n",
    "roundedScore[score > 0.5] = 1\n",
    "\n",
    "#rounded acc (exactly match)\n",
    "accuracy_score(test_labels, roundedScore)"
   ]
  },
  {
   "cell_type": "code",
   "execution_count": null,
   "metadata": {
    "collapsed": true
   },
   "outputs": [],
   "source": []
  }
 ],
 "metadata": {
  "kernelspec": {
   "display_name": "Python [default]",
   "language": "python",
   "name": "python3"
  },
  "language_info": {
   "codemirror_mode": {
    "name": "ipython",
    "version": 3
   },
   "file_extension": ".py",
   "mimetype": "text/x-python",
   "name": "python",
   "nbconvert_exporter": "python",
   "pygments_lexer": "ipython3",
   "version": "3.5.4"
  }
 },
 "nbformat": 4,
 "nbformat_minor": 2
}
